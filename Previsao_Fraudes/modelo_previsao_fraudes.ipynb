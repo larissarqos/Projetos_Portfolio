{
 "cells": [
  {
   "cell_type": "markdown",
   "id": "5718cc56-318f-4602-bccb-d3bf63b39dc1",
   "metadata": {},
   "source": [
    "## Modelo de Machine Learning - Prevenção de Fraudes\n",
    "Análise Exploratória\n",
    "Tratamento de valores nulos\n",
    "Análise estatística dos dados\n",
    "Engenharia de Atributos\n",
    "Gráficos\n",
    "Outliers\n",
    "Normalização e padronização dos dados\n",
    "Balanceamento da variável Target\n",
    "OneHotEncoding\n",
    "Criação, treino e teste de modelos preditivos com 3 algoritmos diferentes (Random Forest, Suport Vector e KNN)\n",
    "GridSearch para ajustes de hiperparametros automáticos e treino de mais de 1000 modelos\n",
    "Análise dos pesos das melhores variáveis"
   ]
  },
  {
   "cell_type": "markdown",
   "id": "2fbe7fdc-a8d2-451e-bb88-35e2d17dd945",
   "metadata": {},
   "source": [
    "### Imports"
   ]
  },
  {
   "cell_type": "code",
   "execution_count": 1,
   "id": "d12ee1ee-6ac2-4303-bde1-e4e03b07001e",
   "metadata": {},
   "outputs": [],
   "source": [
    "import warnings\n",
    "import pandas as pd\n",
    "import matplotlib.pyplot as plt\n",
    "import seaborn as sns\n",
    "import time\n",
    "import numpy as np\n",
    "\n",
    "from sklearn.ensemble import RandomForestClassifier\n",
    "from sklearn.svm import SVC\n",
    "from sklearn.neighbors import KNeighborsClassifier\n",
    "\n",
    "from sklearn.model_selection import GridSearchCV\n",
    "from sklearn.model_selection import train_test_split\n",
    "from sklearn.preprocessing import LabelEncoder\n",
    "from imblearn import under_sampling, over_sampling\n",
    "from imblearn.over_sampling import SMOTE\n",
    "from sklearn.preprocessing import MinMaxScaler\n",
    "from sklearn.preprocessing import StandardScaler\n",
    "from sklearn.metrics import r2_score\n",
    "warnings.filterwarnings(\"ignore\") \n",
    "pd.set_option('display.max_columns', None)\n",
    "pd.set_option('display.max_rows', None)\n",
    "pd.options.display.float_format = '{:.2f}'.format"
   ]
  },
  {
   "cell_type": "markdown",
   "id": "891c5dd0-b652-42e1-95a8-86bd3d917a43",
   "metadata": {},
   "source": [
    "### Importação dos Dados e Análise Exploratória"
   ]
  },
  {
   "cell_type": "code",
   "execution_count": 2,
   "id": "7bb1add5-f9ba-4040-bae5-542a054feb2a",
   "metadata": {},
   "outputs": [],
   "source": [
    "# Importação dos dados\n",
    "df = pd.read_csv('dados_coletados.csv')"
   ]
  },
  {
   "cell_type": "code",
   "execution_count": 3,
   "id": "6bde5dff-6ff0-4bb8-b99c-654bfbdbc67c",
   "metadata": {},
   "outputs": [
    {
     "data": {
      "text/html": [
       "<div>\n",
       "<style scoped>\n",
       "    .dataframe tbody tr th:only-of-type {\n",
       "        vertical-align: middle;\n",
       "    }\n",
       "\n",
       "    .dataframe tbody tr th {\n",
       "        vertical-align: top;\n",
       "    }\n",
       "\n",
       "    .dataframe thead th {\n",
       "        text-align: right;\n",
       "    }\n",
       "</style>\n",
       "<table border=\"1\" class=\"dataframe\">\n",
       "  <thead>\n",
       "    <tr style=\"text-align: right;\">\n",
       "      <th></th>\n",
       "      <th>Contrato</th>\n",
       "      <th>Idade</th>\n",
       "      <th>Sexo</th>\n",
       "      <th>Valor_Renda</th>\n",
       "      <th>UF_Cliente</th>\n",
       "      <th>Perc_Juros</th>\n",
       "      <th>Prazo_Emprestimo</th>\n",
       "      <th>Data_Contratacao</th>\n",
       "      <th>Prazo_Restante</th>\n",
       "      <th>VL_Emprestimo</th>\n",
       "      <th>VL_Emprestimo_ComJuros</th>\n",
       "      <th>QT_Total_Parcelas_Pagas</th>\n",
       "      <th>QT_Total_Parcelas_Pagas_EmDia</th>\n",
       "      <th>QT_Total_Parcelas_Pagas_EmAtraso</th>\n",
       "      <th>Qt_Renegociacao</th>\n",
       "      <th>Estado_Civil</th>\n",
       "      <th>Escolaridade</th>\n",
       "      <th>Possui_Patrimonio</th>\n",
       "      <th>VL_Patrimonio</th>\n",
       "      <th>QT_Parcelas_Atraso</th>\n",
       "      <th>QT_Dias_Atraso</th>\n",
       "      <th>Saldo_Devedor</th>\n",
       "      <th>Total_Pago</th>\n",
       "      <th>Possivel_Fraude</th>\n",
       "    </tr>\n",
       "  </thead>\n",
       "  <tbody>\n",
       "    <tr>\n",
       "      <th>0</th>\n",
       "      <td>322090928715</td>\n",
       "      <td>42</td>\n",
       "      <td>M</td>\n",
       "      <td>4000.00</td>\n",
       "      <td>MA</td>\n",
       "      <td>17.00</td>\n",
       "      <td>140</td>\n",
       "      <td>2022-11-18</td>\n",
       "      <td>143</td>\n",
       "      <td>160000.00</td>\n",
       "      <td>184000.00</td>\n",
       "      <td>2</td>\n",
       "      <td>1</td>\n",
       "      <td>1</td>\n",
       "      <td>2</td>\n",
       "      <td>SOLTEIRO(A)</td>\n",
       "      <td>NaN</td>\n",
       "      <td>N</td>\n",
       "      <td>0.00</td>\n",
       "      <td>10</td>\n",
       "      <td>284.00</td>\n",
       "      <td>187861.70</td>\n",
       "      <td>1617.36</td>\n",
       "      <td>Sim</td>\n",
       "    </tr>\n",
       "    <tr>\n",
       "      <th>1</th>\n",
       "      <td>321990634715</td>\n",
       "      <td>31</td>\n",
       "      <td>M</td>\n",
       "      <td>3000.00</td>\n",
       "      <td>MA</td>\n",
       "      <td>20.00</td>\n",
       "      <td>28</td>\n",
       "      <td>2021-07-23</td>\n",
       "      <td>0</td>\n",
       "      <td>14000.00</td>\n",
       "      <td>16100.00</td>\n",
       "      <td>2</td>\n",
       "      <td>1</td>\n",
       "      <td>1</td>\n",
       "      <td>1</td>\n",
       "      <td>CASADO (A)</td>\n",
       "      <td>NaN</td>\n",
       "      <td>N</td>\n",
       "      <td>0.00</td>\n",
       "      <td>26</td>\n",
       "      <td>771.00</td>\n",
       "      <td>16615.93</td>\n",
       "      <td>1239.98</td>\n",
       "      <td>Sim</td>\n",
       "    </tr>\n",
       "    <tr>\n",
       "      <th>2</th>\n",
       "      <td>321965373715</td>\n",
       "      <td>36</td>\n",
       "      <td>F</td>\n",
       "      <td>2100.00</td>\n",
       "      <td>SP</td>\n",
       "      <td>24.00</td>\n",
       "      <td>180</td>\n",
       "      <td>2021-04-01</td>\n",
       "      <td>149</td>\n",
       "      <td>60000.00</td>\n",
       "      <td>69000.00</td>\n",
       "      <td>4</td>\n",
       "      <td>1</td>\n",
       "      <td>0</td>\n",
       "      <td>1</td>\n",
       "      <td>CASADO (A)</td>\n",
       "      <td>Nenhum</td>\n",
       "      <td>N</td>\n",
       "      <td>0.00</td>\n",
       "      <td>27</td>\n",
       "      <td>802.00</td>\n",
       "      <td>74443.40</td>\n",
       "      <td>1346.64</td>\n",
       "      <td>Sim</td>\n",
       "    </tr>\n",
       "    <tr>\n",
       "      <th>3</th>\n",
       "      <td>321967133715</td>\n",
       "      <td>28</td>\n",
       "      <td>M</td>\n",
       "      <td>2155.00</td>\n",
       "      <td>DF</td>\n",
       "      <td>19.00</td>\n",
       "      <td>190</td>\n",
       "      <td>2021-04-10</td>\n",
       "      <td>159</td>\n",
       "      <td>180000.00</td>\n",
       "      <td>207000.00</td>\n",
       "      <td>29</td>\n",
       "      <td>28</td>\n",
       "      <td>0</td>\n",
       "      <td>2</td>\n",
       "      <td>SOLTEIRO(A)</td>\n",
       "      <td>Nenhum</td>\n",
       "      <td>N</td>\n",
       "      <td>0.00</td>\n",
       "      <td>2</td>\n",
       "      <td>41.00</td>\n",
       "      <td>196812.41</td>\n",
       "      <td>22713.63</td>\n",
       "      <td>Nao</td>\n",
       "    </tr>\n",
       "    <tr>\n",
       "      <th>4</th>\n",
       "      <td>322098744715</td>\n",
       "      <td>21</td>\n",
       "      <td>F</td>\n",
       "      <td>4300.00</td>\n",
       "      <td>MG</td>\n",
       "      <td>22.00</td>\n",
       "      <td>100</td>\n",
       "      <td>2022-12-28</td>\n",
       "      <td>94</td>\n",
       "      <td>30000.00</td>\n",
       "      <td>34500.00</td>\n",
       "      <td>4</td>\n",
       "      <td>3</td>\n",
       "      <td>0</td>\n",
       "      <td>1</td>\n",
       "      <td>SOLTEIRO(A)</td>\n",
       "      <td>Ensino Médio</td>\n",
       "      <td>N</td>\n",
       "      <td>0.00</td>\n",
       "      <td>6</td>\n",
       "      <td>162.00</td>\n",
       "      <td>36114.39</td>\n",
       "      <td>900.80</td>\n",
       "      <td>Sim</td>\n",
       "    </tr>\n",
       "  </tbody>\n",
       "</table>\n",
       "</div>"
      ],
      "text/plain": [
       "       Contrato  Idade Sexo  Valor_Renda UF_Cliente  Perc_Juros  \\\n",
       "0  322090928715     42    M      4000.00         MA       17.00   \n",
       "1  321990634715     31    M      3000.00         MA       20.00   \n",
       "2  321965373715     36    F      2100.00         SP       24.00   \n",
       "3  321967133715     28    M      2155.00         DF       19.00   \n",
       "4  322098744715     21    F      4300.00         MG       22.00   \n",
       "\n",
       "   Prazo_Emprestimo Data_Contratacao  Prazo_Restante  VL_Emprestimo  \\\n",
       "0               140       2022-11-18             143      160000.00   \n",
       "1                28       2021-07-23               0       14000.00   \n",
       "2               180       2021-04-01             149       60000.00   \n",
       "3               190       2021-04-10             159      180000.00   \n",
       "4               100       2022-12-28              94       30000.00   \n",
       "\n",
       "   VL_Emprestimo_ComJuros  QT_Total_Parcelas_Pagas  \\\n",
       "0               184000.00                        2   \n",
       "1                16100.00                        2   \n",
       "2                69000.00                        4   \n",
       "3               207000.00                       29   \n",
       "4                34500.00                        4   \n",
       "\n",
       "   QT_Total_Parcelas_Pagas_EmDia  QT_Total_Parcelas_Pagas_EmAtraso  \\\n",
       "0                              1                                 1   \n",
       "1                              1                                 1   \n",
       "2                              1                                 0   \n",
       "3                             28                                 0   \n",
       "4                              3                                 0   \n",
       "\n",
       "   Qt_Renegociacao Estado_Civil  Escolaridade Possui_Patrimonio  \\\n",
       "0                2  SOLTEIRO(A)           NaN                 N   \n",
       "1                1   CASADO (A)           NaN                 N   \n",
       "2                1   CASADO (A)        Nenhum                 N   \n",
       "3                2  SOLTEIRO(A)        Nenhum                 N   \n",
       "4                1  SOLTEIRO(A)  Ensino Médio                 N   \n",
       "\n",
       "   VL_Patrimonio  QT_Parcelas_Atraso  QT_Dias_Atraso  Saldo_Devedor  \\\n",
       "0           0.00                  10          284.00      187861.70   \n",
       "1           0.00                  26          771.00       16615.93   \n",
       "2           0.00                  27          802.00       74443.40   \n",
       "3           0.00                   2           41.00      196812.41   \n",
       "4           0.00                   6          162.00       36114.39   \n",
       "\n",
       "   Total_Pago Possivel_Fraude  \n",
       "0     1617.36             Sim  \n",
       "1     1239.98             Sim  \n",
       "2     1346.64             Sim  \n",
       "3    22713.63             Nao  \n",
       "4      900.80             Sim  "
      ]
     },
     "execution_count": 3,
     "metadata": {},
     "output_type": "execute_result"
    }
   ],
   "source": [
    "# Visão geral dos dados\n",
    "df.head()"
   ]
  },
  {
   "cell_type": "code",
   "execution_count": 4,
   "id": "76bc4255-81e5-423c-9323-d7acf0fed0ae",
   "metadata": {},
   "outputs": [
    {
     "data": {
      "text/plain": [
       "(80143, 24)"
      ]
     },
     "execution_count": 4,
     "metadata": {},
     "output_type": "execute_result"
    }
   ],
   "source": [
    "# Tamanho da base de dados\n",
    "df.shape"
   ]
  },
  {
   "cell_type": "code",
   "execution_count": 5,
   "id": "10c5ecf6-fc2e-4cf7-8c26-b435a5dfdb36",
   "metadata": {},
   "outputs": [
    {
     "name": "stdout",
     "output_type": "stream",
     "text": [
      "O período analisado é de 2020-11-25 a 2023-02-22\n"
     ]
    }
   ],
   "source": [
    "# Período dos dados\n",
    "dt_inicio = pd.to_datetime(df['Data_Contratacao']).dt.date.min()\n",
    "dt_fim = pd.to_datetime(df['Data_Contratacao']).dt.date.max()\n",
    "print('O período analisado é de', dt_inicio, 'a', dt_fim)"
   ]
  },
  {
   "cell_type": "code",
   "execution_count": 6,
   "id": "94506389-8f31-4ed2-b7e2-800e8bb10141",
   "metadata": {},
   "outputs": [
    {
     "name": "stdout",
     "output_type": "stream",
     "text": [
      "<class 'pandas.core.frame.DataFrame'>\n",
      "RangeIndex: 80143 entries, 0 to 80142\n",
      "Data columns (total 24 columns):\n",
      " #   Column                            Non-Null Count  Dtype  \n",
      "---  ------                            --------------  -----  \n",
      " 0   Contrato                          80143 non-null  int64  \n",
      " 1   Idade                             80143 non-null  int64  \n",
      " 2   Sexo                              80143 non-null  object \n",
      " 3   Valor_Renda                       80143 non-null  float64\n",
      " 4   UF_Cliente                        80143 non-null  object \n",
      " 5   Perc_Juros                        80143 non-null  float64\n",
      " 6   Prazo_Emprestimo                  80143 non-null  int64  \n",
      " 7   Data_Contratacao                  80143 non-null  object \n",
      " 8   Prazo_Restante                    80143 non-null  int64  \n",
      " 9   VL_Emprestimo                     80143 non-null  float64\n",
      " 10  VL_Emprestimo_ComJuros            80143 non-null  float64\n",
      " 11  QT_Total_Parcelas_Pagas           80143 non-null  int64  \n",
      " 12  QT_Total_Parcelas_Pagas_EmDia     80143 non-null  int64  \n",
      " 13  QT_Total_Parcelas_Pagas_EmAtraso  80143 non-null  int64  \n",
      " 14  Qt_Renegociacao                   80143 non-null  int64  \n",
      " 15  Estado_Civil                      80143 non-null  object \n",
      " 16  Escolaridade                      22845 non-null  object \n",
      " 17  Possui_Patrimonio                 80143 non-null  object \n",
      " 18  VL_Patrimonio                     80143 non-null  float64\n",
      " 19  QT_Parcelas_Atraso                80143 non-null  int64  \n",
      " 20  QT_Dias_Atraso                    54348 non-null  float64\n",
      " 21  Saldo_Devedor                     80143 non-null  float64\n",
      " 22  Total_Pago                        80143 non-null  float64\n",
      " 23  Possivel_Fraude                   80143 non-null  object \n",
      "dtypes: float64(8), int64(9), object(7)\n",
      "memory usage: 14.7+ MB\n"
     ]
    }
   ],
   "source": [
    "# Tipo dos dados\n",
    "df.info(verbose=True) # verbose=True para impedir barra de rolagem"
   ]
  },
  {
   "cell_type": "code",
   "execution_count": 7,
   "id": "d253a133-38e5-4db1-829b-3ff64c85c6a1",
   "metadata": {},
   "outputs": [
    {
     "data": {
      "text/html": [
       "<div>\n",
       "<style scoped>\n",
       "    .dataframe tbody tr th:only-of-type {\n",
       "        vertical-align: middle;\n",
       "    }\n",
       "\n",
       "    .dataframe tbody tr th {\n",
       "        vertical-align: top;\n",
       "    }\n",
       "\n",
       "    .dataframe thead th {\n",
       "        text-align: right;\n",
       "    }\n",
       "</style>\n",
       "<table border=\"1\" class=\"dataframe\">\n",
       "  <thead>\n",
       "    <tr style=\"text-align: right;\">\n",
       "      <th></th>\n",
       "      <th>Contrato</th>\n",
       "      <th>Idade</th>\n",
       "      <th>Valor_Renda</th>\n",
       "      <th>Perc_Juros</th>\n",
       "      <th>Prazo_Emprestimo</th>\n",
       "      <th>Prazo_Restante</th>\n",
       "      <th>VL_Emprestimo</th>\n",
       "      <th>VL_Emprestimo_ComJuros</th>\n",
       "      <th>QT_Total_Parcelas_Pagas</th>\n",
       "      <th>QT_Total_Parcelas_Pagas_EmDia</th>\n",
       "      <th>QT_Total_Parcelas_Pagas_EmAtraso</th>\n",
       "      <th>Qt_Renegociacao</th>\n",
       "      <th>VL_Patrimonio</th>\n",
       "      <th>QT_Parcelas_Atraso</th>\n",
       "      <th>QT_Dias_Atraso</th>\n",
       "      <th>Saldo_Devedor</th>\n",
       "      <th>Total_Pago</th>\n",
       "    </tr>\n",
       "  </thead>\n",
       "  <tbody>\n",
       "    <tr>\n",
       "      <th>count</th>\n",
       "      <td>80143.00</td>\n",
       "      <td>80143.00</td>\n",
       "      <td>80143.00</td>\n",
       "      <td>80143.00</td>\n",
       "      <td>80143.00</td>\n",
       "      <td>80143.00</td>\n",
       "      <td>80143.00</td>\n",
       "      <td>80143.00</td>\n",
       "      <td>80143.00</td>\n",
       "      <td>80143.00</td>\n",
       "      <td>80143.00</td>\n",
       "      <td>80143.00</td>\n",
       "      <td>80143.00</td>\n",
       "      <td>80143.00</td>\n",
       "      <td>54348.00</td>\n",
       "      <td>80143.00</td>\n",
       "      <td>80143.00</td>\n",
       "    </tr>\n",
       "    <tr>\n",
       "      <th>mean</th>\n",
       "      <td>322023695416.17</td>\n",
       "      <td>38.82</td>\n",
       "      <td>29308.62</td>\n",
       "      <td>19.49</td>\n",
       "      <td>102.33</td>\n",
       "      <td>93.28</td>\n",
       "      <td>72847.78</td>\n",
       "      <td>83774.94</td>\n",
       "      <td>10.71</td>\n",
       "      <td>5.24</td>\n",
       "      <td>2.34</td>\n",
       "      <td>1.30</td>\n",
       "      <td>1.45</td>\n",
       "      <td>10.65</td>\n",
       "      <td>475.26</td>\n",
       "      <td>78622.32</td>\n",
       "      <td>9687.98</td>\n",
       "    </tr>\n",
       "    <tr>\n",
       "      <th>std</th>\n",
       "      <td>44697010.94</td>\n",
       "      <td>12.53</td>\n",
       "      <td>2748166.27</td>\n",
       "      <td>3.56</td>\n",
       "      <td>62.32</td>\n",
       "      <td>70.64</td>\n",
       "      <td>87407.93</td>\n",
       "      <td>100519.12</td>\n",
       "      <td>9.31</td>\n",
       "      <td>6.21</td>\n",
       "      <td>3.97</td>\n",
       "      <td>1.27</td>\n",
       "      <td>355.10</td>\n",
       "      <td>10.43</td>\n",
       "      <td>269.79</td>\n",
       "      <td>102318.95</td>\n",
       "      <td>19090.62</td>\n",
       "    </tr>\n",
       "    <tr>\n",
       "      <th>min</th>\n",
       "      <td>321944855715.00</td>\n",
       "      <td>4.00</td>\n",
       "      <td>0.00</td>\n",
       "      <td>4.49</td>\n",
       "      <td>14.00</td>\n",
       "      <td>-18.00</td>\n",
       "      <td>3000.00</td>\n",
       "      <td>3450.00</td>\n",
       "      <td>0.00</td>\n",
       "      <td>0.00</td>\n",
       "      <td>0.00</td>\n",
       "      <td>0.00</td>\n",
       "      <td>0.00</td>\n",
       "      <td>0.00</td>\n",
       "      <td>11.00</td>\n",
       "      <td>0.00</td>\n",
       "      <td>0.00</td>\n",
       "    </tr>\n",
       "    <tr>\n",
       "      <th>25%</th>\n",
       "      <td>321984967215.00</td>\n",
       "      <td>29.00</td>\n",
       "      <td>2050.00</td>\n",
       "      <td>18.00</td>\n",
       "      <td>55.00</td>\n",
       "      <td>36.00</td>\n",
       "      <td>15000.00</td>\n",
       "      <td>17250.00</td>\n",
       "      <td>2.00</td>\n",
       "      <td>1.00</td>\n",
       "      <td>0.00</td>\n",
       "      <td>0.00</td>\n",
       "      <td>0.00</td>\n",
       "      <td>0.00</td>\n",
       "      <td>284.00</td>\n",
       "      <td>12122.76</td>\n",
       "      <td>1052.16</td>\n",
       "    </tr>\n",
       "    <tr>\n",
       "      <th>50%</th>\n",
       "      <td>322024156715.00</td>\n",
       "      <td>37.00</td>\n",
       "      <td>3000.00</td>\n",
       "      <td>20.00</td>\n",
       "      <td>80.00</td>\n",
       "      <td>78.00</td>\n",
       "      <td>40000.00</td>\n",
       "      <td>46000.00</td>\n",
       "      <td>8.00</td>\n",
       "      <td>2.00</td>\n",
       "      <td>1.00</td>\n",
       "      <td>1.00</td>\n",
       "      <td>0.00</td>\n",
       "      <td>9.00</td>\n",
       "      <td>468.00</td>\n",
       "      <td>35489.36</td>\n",
       "      <td>3951.39</td>\n",
       "    </tr>\n",
       "    <tr>\n",
       "      <th>75%</th>\n",
       "      <td>322062662215.00</td>\n",
       "      <td>46.00</td>\n",
       "      <td>5000.00</td>\n",
       "      <td>21.00</td>\n",
       "      <td>170.00</td>\n",
       "      <td>156.00</td>\n",
       "      <td>100000.00</td>\n",
       "      <td>115000.00</td>\n",
       "      <td>18.00</td>\n",
       "      <td>7.00</td>\n",
       "      <td>3.00</td>\n",
       "      <td>2.00</td>\n",
       "      <td>0.00</td>\n",
       "      <td>20.00</td>\n",
       "      <td>708.00</td>\n",
       "      <td>117783.25</td>\n",
       "      <td>10886.24</td>\n",
       "    </tr>\n",
       "    <tr>\n",
       "      <th>max</th>\n",
       "      <td>322099706715.00</td>\n",
       "      <td>103.00</td>\n",
       "      <td>765000000.00</td>\n",
       "      <td>28.00</td>\n",
       "      <td>240.00</td>\n",
       "      <td>227.00</td>\n",
       "      <td>500000.00</td>\n",
       "      <td>575000.00</td>\n",
       "      <td>66.00</td>\n",
       "      <td>66.00</td>\n",
       "      <td>31.00</td>\n",
       "      <td>38.00</td>\n",
       "      <td>100000.00</td>\n",
       "      <td>34.00</td>\n",
       "      <td>1014.00</td>\n",
       "      <td>626261.27</td>\n",
       "      <td>465821.39</td>\n",
       "    </tr>\n",
       "  </tbody>\n",
       "</table>\n",
       "</div>"
      ],
      "text/plain": [
       "             Contrato    Idade  Valor_Renda  Perc_Juros  Prazo_Emprestimo  \\\n",
       "count        80143.00 80143.00     80143.00    80143.00          80143.00   \n",
       "mean  322023695416.17    38.82     29308.62       19.49            102.33   \n",
       "std       44697010.94    12.53   2748166.27        3.56             62.32   \n",
       "min   321944855715.00     4.00         0.00        4.49             14.00   \n",
       "25%   321984967215.00    29.00      2050.00       18.00             55.00   \n",
       "50%   322024156715.00    37.00      3000.00       20.00             80.00   \n",
       "75%   322062662215.00    46.00      5000.00       21.00            170.00   \n",
       "max   322099706715.00   103.00 765000000.00       28.00            240.00   \n",
       "\n",
       "       Prazo_Restante  VL_Emprestimo  VL_Emprestimo_ComJuros  \\\n",
       "count        80143.00       80143.00                80143.00   \n",
       "mean            93.28       72847.78                83774.94   \n",
       "std             70.64       87407.93               100519.12   \n",
       "min            -18.00        3000.00                 3450.00   \n",
       "25%             36.00       15000.00                17250.00   \n",
       "50%             78.00       40000.00                46000.00   \n",
       "75%            156.00      100000.00               115000.00   \n",
       "max            227.00      500000.00               575000.00   \n",
       "\n",
       "       QT_Total_Parcelas_Pagas  QT_Total_Parcelas_Pagas_EmDia  \\\n",
       "count                 80143.00                       80143.00   \n",
       "mean                     10.71                           5.24   \n",
       "std                       9.31                           6.21   \n",
       "min                       0.00                           0.00   \n",
       "25%                       2.00                           1.00   \n",
       "50%                       8.00                           2.00   \n",
       "75%                      18.00                           7.00   \n",
       "max                      66.00                          66.00   \n",
       "\n",
       "       QT_Total_Parcelas_Pagas_EmAtraso  Qt_Renegociacao  VL_Patrimonio  \\\n",
       "count                          80143.00         80143.00       80143.00   \n",
       "mean                               2.34             1.30           1.45   \n",
       "std                                3.97             1.27         355.10   \n",
       "min                                0.00             0.00           0.00   \n",
       "25%                                0.00             0.00           0.00   \n",
       "50%                                1.00             1.00           0.00   \n",
       "75%                                3.00             2.00           0.00   \n",
       "max                               31.00            38.00      100000.00   \n",
       "\n",
       "       QT_Parcelas_Atraso  QT_Dias_Atraso  Saldo_Devedor  Total_Pago  \n",
       "count            80143.00        54348.00       80143.00    80143.00  \n",
       "mean                10.65          475.26       78622.32     9687.98  \n",
       "std                 10.43          269.79      102318.95    19090.62  \n",
       "min                  0.00           11.00           0.00        0.00  \n",
       "25%                  0.00          284.00       12122.76     1052.16  \n",
       "50%                  9.00          468.00       35489.36     3951.39  \n",
       "75%                 20.00          708.00      117783.25    10886.24  \n",
       "max                 34.00         1014.00      626261.27   465821.39  "
      ]
     },
     "execution_count": 7,
     "metadata": {},
     "output_type": "execute_result"
    }
   ],
   "source": [
    "# Visualizando medidas estatísticas\n",
    "df.describe()"
   ]
  },
  {
   "cell_type": "code",
   "execution_count": 8,
   "id": "989e89e2-dc99-4aea-8d87-a5a5146fcf6c",
   "metadata": {},
   "outputs": [
    {
     "data": {
      "text/plain": [
       "Contrato                                0\n",
       "Idade                                   0\n",
       "Sexo                                    0\n",
       "Valor_Renda                             0\n",
       "UF_Cliente                              0\n",
       "Perc_Juros                              0\n",
       "Prazo_Emprestimo                        0\n",
       "Data_Contratacao                        0\n",
       "Prazo_Restante                          0\n",
       "VL_Emprestimo                           0\n",
       "VL_Emprestimo_ComJuros                  0\n",
       "QT_Total_Parcelas_Pagas                 0\n",
       "QT_Total_Parcelas_Pagas_EmDia           0\n",
       "QT_Total_Parcelas_Pagas_EmAtraso        0\n",
       "Qt_Renegociacao                         0\n",
       "Estado_Civil                            0\n",
       "Escolaridade                        57298\n",
       "Possui_Patrimonio                       0\n",
       "VL_Patrimonio                           0\n",
       "QT_Parcelas_Atraso                      0\n",
       "QT_Dias_Atraso                      25795\n",
       "Saldo_Devedor                           0\n",
       "Total_Pago                              0\n",
       "Possivel_Fraude                         0\n",
       "dtype: int64"
      ]
     },
     "execution_count": 8,
     "metadata": {},
     "output_type": "execute_result"
    }
   ],
   "source": [
    "# Verificando valores nulos\n",
    "df.isnull().sum()"
   ]
  },
  {
   "cell_type": "code",
   "execution_count": 9,
   "id": "d02d26e9-d523-4574-99e7-21fea92b9726",
   "metadata": {},
   "outputs": [
    {
     "data": {
      "text/plain": [
       "0"
      ]
     },
     "execution_count": 9,
     "metadata": {},
     "output_type": "execute_result"
    }
   ],
   "source": [
    "# Verificando valores duplicados\n",
    "df.duplicated().sum()"
   ]
  },
  {
   "cell_type": "code",
   "execution_count": 10,
   "id": "55ff66e7-337d-4545-83d3-95299dd5ee8a",
   "metadata": {},
   "outputs": [
    {
     "name": "stdout",
     "output_type": "stream",
     "text": [
      "Contrato : 80143\n",
      "Idade : 86\n",
      "Sexo : 2\n",
      "Valor_Renda : 4747\n",
      "UF_Cliente : 27\n",
      "Perc_Juros : 53\n",
      "Prazo_Emprestimo : 60\n",
      "Data_Contratacao : 751\n",
      "Prazo_Restante : 93\n",
      "VL_Emprestimo : 73\n",
      "VL_Emprestimo_ComJuros : 73\n",
      "QT_Total_Parcelas_Pagas : 50\n",
      "QT_Total_Parcelas_Pagas_EmDia : 48\n",
      "QT_Total_Parcelas_Pagas_EmAtraso : 32\n",
      "Qt_Renegociacao : 15\n",
      "Estado_Civil : 8\n",
      "Escolaridade : 6\n",
      "Possui_Patrimonio : 2\n",
      "VL_Patrimonio : 4\n",
      "QT_Parcelas_Atraso : 35\n",
      "QT_Dias_Atraso : 39\n",
      "Saldo_Devedor : 64166\n",
      "Total_Pago : 54074\n",
      "Possivel_Fraude : 2\n"
     ]
    }
   ],
   "source": [
    "# Valores únicos de cada variável\n",
    "valores_unicos = []\n",
    "\n",
    "for i in df.columns[0:24].tolist():\n",
    "    print(i, ':', len(df[i].astype(str).value_counts()))\n",
    "    valores_unicos.append(len(df[i].astype(str).value_counts()))"
   ]
  },
  {
   "cell_type": "code",
   "execution_count": 11,
   "id": "08a3bfec-aeb6-4d97-b8cd-b2d175480e38",
   "metadata": {},
   "outputs": [
    {
     "name": "stdout",
     "output_type": "stream",
     "text": [
      "Maior Renda: 765000000.0\n",
      "Menor Renda: 0.0\n"
     ]
    }
   ],
   "source": [
    "# Avaliando maior e menor valor de Valor_Renda\n",
    "print('Maior Renda:', df['Valor_Renda'].max())\n",
    "print('Menor Renda:', df['Valor_Renda'].min())"
   ]
  },
  {
   "cell_type": "code",
   "execution_count": 12,
   "id": "9a7328c7-b826-4f62-a803-503d1126596e",
   "metadata": {},
   "outputs": [
    {
     "name": "stdout",
     "output_type": "stream",
     "text": [
      "Maior qtd de dias em atraso: 1014.0\n",
      "Menor qtd de dias em atraso: 11.0\n"
     ]
    }
   ],
   "source": [
    "# Avaliando maior e menor valor de QT_Dias_Atraso\n",
    "print('Maior qtd de dias em atraso:', df['QT_Dias_Atraso'].max())\n",
    "print('Menor qtd de dias em atraso:', df['QT_Dias_Atraso'].min())"
   ]
  },
  {
   "cell_type": "code",
   "execution_count": 13,
   "id": "c3b6e05e-480b-453e-936c-bb5d614bd00b",
   "metadata": {},
   "outputs": [
    {
     "name": "stdout",
     "output_type": "stream",
     "text": [
      "Maior qtd de dias restantes: 227\n",
      "Menor qtd de dias restantes: -18\n"
     ]
    }
   ],
   "source": [
    "# Avaliando maior e menor valor de Prazo_Restante\n",
    "print('Maior qtd de dias restantes:', df['Prazo_Restante'].max())\n",
    "print('Menor qtd de dias restantes:', df['Prazo_Restante'].min())"
   ]
  },
  {
   "cell_type": "code",
   "execution_count": 14,
   "id": "826bdee3-daa6-4c67-bffb-e46d8750f9a5",
   "metadata": {},
   "outputs": [
    {
     "data": {
      "text/plain": [
       "Sexo\n",
       "M    48500\n",
       "F    31643\n",
       "dtype: int64"
      ]
     },
     "execution_count": 14,
     "metadata": {},
     "output_type": "execute_result"
    }
   ],
   "source": [
    "# Sexo\n",
    "df.groupby(['Sexo']).size().sort_values(ascending=False)"
   ]
  },
  {
   "cell_type": "code",
   "execution_count": 15,
   "id": "ce5333ff-3f87-48e8-9f39-52cbe2456215",
   "metadata": {},
   "outputs": [
    {
     "data": {
      "text/plain": [
       "Estado_Civil\n",
       "SOLTEIRO(A)               45205\n",
       "CASADO (A)                23576\n",
       "OUTRO                      5912\n",
       "DIVORCIADO                 3783\n",
       "VIÚVO(A)                   1158\n",
       "UNIÃO ESTAVEL               501\n",
       "NENHUM                        4\n",
       "SEPARADO JUDICIALMENTE        4\n",
       "dtype: int64"
      ]
     },
     "execution_count": 15,
     "metadata": {},
     "output_type": "execute_result"
    }
   ],
   "source": [
    "# Estado Civil\n",
    "df.groupby(['Estado_Civil']).size().sort_values(ascending=False)"
   ]
  },
  {
   "cell_type": "code",
   "execution_count": 16,
   "id": "46aea965-a865-46c2-a378-ea0c49ad6939",
   "metadata": {},
   "outputs": [
    {
     "data": {
      "text/plain": [
       "Escolaridade\n",
       "Nenhum                                  21168\n",
       "Ensino Médio                              902\n",
       "Ensino Superior                           600\n",
       "Ensino Fundamental                        126\n",
       "Pós Graduação / Mestrado / Doutorado       49\n",
       "dtype: int64"
      ]
     },
     "execution_count": 16,
     "metadata": {},
     "output_type": "execute_result"
    }
   ],
   "source": [
    "# Escolaridade\n",
    "df.groupby(['Escolaridade']).size().sort_values(ascending=False)"
   ]
  },
  {
   "cell_type": "code",
   "execution_count": 17,
   "id": "6cbf7a57-d8da-419f-9572-1a675e9bc741",
   "metadata": {},
   "outputs": [
    {
     "data": {
      "text/plain": [
       "UF_Cliente\n",
       "SP    21393\n",
       "MG    13718\n",
       "BA     6709\n",
       "PR     5794\n",
       "GO     3860\n",
       "MA     3593\n",
       "RS     3500\n",
       "PA     3443\n",
       "SC     2555\n",
       "PE     2502\n",
       "RJ     2462\n",
       "MS     2120\n",
       "CE     2050\n",
       "PB     1442\n",
       "MT      984\n",
       "AL      867\n",
       "RN      759\n",
       "PI      731\n",
       "DF      583\n",
       "SE      415\n",
       "ES      312\n",
       "TO      157\n",
       "AM       76\n",
       "RO       55\n",
       "AC       25\n",
       "AP       23\n",
       "RR       15\n",
       "dtype: int64"
      ]
     },
     "execution_count": 17,
     "metadata": {},
     "output_type": "execute_result"
    }
   ],
   "source": [
    "# Estado\n",
    "df.groupby(['UF_Cliente']).size().sort_values(ascending=False)"
   ]
  },
  {
   "cell_type": "code",
   "execution_count": 18,
   "id": "af4bd641-8613-4220-8e8f-49bd927ff738",
   "metadata": {},
   "outputs": [
    {
     "data": {
      "text/plain": [
       "Possui_Patrimonio\n",
       "N    79785\n",
       "S      358\n",
       "dtype: int64"
      ]
     },
     "execution_count": 18,
     "metadata": {},
     "output_type": "execute_result"
    }
   ],
   "source": [
    "# Patrimônio\n",
    "df.groupby(['Possui_Patrimonio']).size().sort_values(ascending=False)"
   ]
  },
  {
   "cell_type": "code",
   "execution_count": 19,
   "id": "0134ceae-5060-4fff-a345-33c65b12b69b",
   "metadata": {},
   "outputs": [
    {
     "data": {
      "text/plain": [
       "Possivel_Fraude\n",
       "Sim    44511\n",
       "Nao    35632\n",
       "dtype: int64"
      ]
     },
     "execution_count": 19,
     "metadata": {},
     "output_type": "execute_result"
    }
   ],
   "source": [
    "# Fraude\n",
    "df.groupby(['Possivel_Fraude']).size().sort_values(ascending=False)"
   ]
  },
  {
   "cell_type": "markdown",
   "id": "dc735618-e15a-4ca7-9d95-42c313c30c5d",
   "metadata": {},
   "source": [
    "### Engenharia de Atributos"
   ]
  },
  {
   "cell_type": "code",
   "execution_count": 20,
   "id": "94bf0c80-eb43-4637-945e-c27050d5c215",
   "metadata": {},
   "outputs": [
    {
     "data": {
      "text/plain": [
       "Estado_Civil\n",
       "SOLTEIRO(A)               45205\n",
       "CASADO (A)                24077\n",
       "OUTRO                      5916\n",
       "DIVORCIADO                 3783\n",
       "VIÚVO(A)                   1158\n",
       "SEPARADO JUDICIALMENTE        4\n",
       "dtype: int64"
      ]
     },
     "execution_count": 20,
     "metadata": {},
     "output_type": "execute_result"
    }
   ],
   "source": [
    "# Ajustando Estado_Civil\n",
    "df['Estado_Civil'] = df['Estado_Civil'].replace(['NENHUM'], 'OUTRO')\n",
    "df['Estado_Civil'] = df['Estado_Civil'].replace(['UNIÃO ESTAVEL'], 'CASADO (A)')\n",
    "\n",
    "df.groupby(['Estado_Civil']).size().sort_values(ascending=False)"
   ]
  },
  {
   "cell_type": "code",
   "execution_count": 21,
   "id": "c4f550b8-1ec1-41f6-a803-d93bb89c5331",
   "metadata": {},
   "outputs": [
    {
     "data": {
      "text/plain": [
       "Faixa_Etaria\n",
       "De 31 até 40 anos    24327\n",
       "De 22 até 30 anos    20935\n",
       "De 41 até 50 anos    17435\n",
       "De 51 até 60 anos     9147\n",
       "Acima de 60 anos      5197\n",
       "Até 21 anos           3101\n",
       "dtype: int64"
      ]
     },
     "execution_count": 21,
     "metadata": {},
     "output_type": "execute_result"
    }
   ],
   "source": [
    "# Criando faixa etária\n",
    "bins = [0, 21, 30, 40, 50, 60, 100]\n",
    "labels = ['Até 21 anos', 'De 22 até 30 anos', 'De 31 até 40 anos', 'De 41 até 50 anos', 'De 51 até 60 anos', 'Acima de 60 anos']\n",
    "df['Faixa_Etaria'] = pd.cut(df['Idade'], bins=bins, labels=labels)\n",
    "\n",
    "df.groupby(['Faixa_Etaria']).size().sort_values(ascending=False)"
   ]
  },
  {
   "cell_type": "code",
   "execution_count": 22,
   "id": "5c1c9c36-7d67-4620-ae44-53bd1a3b3ed6",
   "metadata": {},
   "outputs": [
    {
     "data": {
      "text/plain": [
       "Faixa_Salarial\n",
       "De 2k até 3k          21491\n",
       "De 3k até 5k          21105\n",
       "De 1k até 2k          19628\n",
       "De 5k até 10k anos    11680\n",
       "De 10k até 20k         3505\n",
       "Acima de 50k           1389\n",
       "De 20k até 30k         1044\n",
       "Até 1k                  255\n",
       "dtype: int64"
      ]
     },
     "execution_count": 22,
     "metadata": {},
     "output_type": "execute_result"
    }
   ],
   "source": [
    "# Criando faixa salarial\n",
    "bins = [-1, 1000, 2000, 3000, 5000, 10000, 20000, 30000, 9000000]\n",
    "labels = ['Até 1k', 'De 1k até 2k', 'De 2k até 3k', 'De 3k até 5k', 'De 5k até 10k anos', 'De 10k até 20k', 'De 20k até 30k', 'Acima de 50k']\n",
    "df['Faixa_Salarial'] = pd.cut(df['Valor_Renda'], bins=bins, labels=labels)\n",
    "\n",
    "df.groupby(['Faixa_Salarial']).size().sort_values(ascending=False)"
   ]
  },
  {
   "cell_type": "code",
   "execution_count": 25,
   "id": "cce0bfd6-18ec-49b0-827d-efba984755d5",
   "metadata": {},
   "outputs": [
    {
     "data": {
      "text/plain": [
       "468.0"
      ]
     },
     "execution_count": 25,
     "metadata": {},
     "output_type": "execute_result"
    }
   ],
   "source": [
    "# Preenchendo os valores nulos de QT_Dias_Atraso com a mediana dos dados\n",
    "# Obtendo medianda\n",
    "df['QT_Dias_Atraso'].median()"
   ]
  },
  {
   "cell_type": "code",
   "execution_count": 26,
   "id": "34900f6e-8f7a-4a32-8452-48eb881467b6",
   "metadata": {},
   "outputs": [],
   "source": [
    "# Preenchando\n",
    "df['QT_Dias_Atraso'] = df['QT_Dias_Atraso'].fillna((df['QT_Dias_Atraso'].median()))"
   ]
  },
  {
   "cell_type": "code",
   "execution_count": 27,
   "id": "631c4c79-f4dd-47ff-8190-5eafaa6e743d",
   "metadata": {},
   "outputs": [
    {
     "data": {
      "text/plain": [
       "Faixa_Dias_Atraso\n",
       "Acima de 360 dias      35829\n",
       "De 241 até 360 dias     7732\n",
       "Até 30 dias             3626\n",
       "De 91 até 180 dias      2802\n",
       "De 181 até 240 dias     2357\n",
       "De 31 até 60 dias       1572\n",
       "De 61 até 90 dias       1115\n",
       "dtype: int64"
      ]
     },
     "execution_count": 27,
     "metadata": {},
     "output_type": "execute_result"
    }
   ],
   "source": [
    "# Criando faixa de dias em atraso\n",
    "bins = [-1, 30, 60, 90, 180, 240, 360, 500]\n",
    "labels = ['Até 30 dias', 'De 31 até 60 dias', 'De 61 até 90 dias', 'De 91 até 180 dias', 'De 181 até 240 dias', 'De 241 até 360 dias', 'Acima de 360 dias']\n",
    "df['Faixa_Dias_Atraso'] = pd.cut(df['QT_Dias_Atraso'], bins=bins, labels=labels)\n",
    "\n",
    "df.groupby(['Faixa_Dias_Atraso']).size().sort_values(ascending=False)"
   ]
  },
  {
   "cell_type": "code",
   "execution_count": 28,
   "id": "955d9300-29d9-47bf-b055-43bb817537db",
   "metadata": {},
   "outputs": [
    {
     "data": {
      "text/plain": [
       "Faixa_Prazo_Emprestimo\n",
       "Até 60 meses            31764\n",
       "De 61 até 120 meses     25123\n",
       "De 121 até 200 meses    21455\n",
       "Acima de 200 meses       1801\n",
       "dtype: int64"
      ]
     },
     "execution_count": 28,
     "metadata": {},
     "output_type": "execute_result"
    }
   ],
   "source": [
    "# Criando faixa de prazo de empréstimo\n",
    "bins = [0, 60, 120, 200, 720]\n",
    "labels = ['Até 60 meses', 'De 61 até 120 meses', 'De 121 até 200 meses', 'Acima de 200 meses']\n",
    "df['Faixa_Prazo_Emprestimo'] = pd.cut(df['Prazo_Emprestimo'], bins=bins, labels=labels)\n",
    "\n",
    "df.groupby(['Faixa_Prazo_Emprestimo']).size().sort_values(ascending=False)"
   ]
  },
  {
   "cell_type": "code",
   "execution_count": 29,
   "id": "d727a246-71a3-4299-9932-26e13fb8ca93",
   "metadata": {},
   "outputs": [
    {
     "data": {
      "text/plain": [
       "Faixa_Prazo_Restante\n",
       "Até 60 meses            29394\n",
       "De 61 até 120 meses     24752\n",
       "De 121 até 200 meses    15266\n",
       "Acima de 200 meses       9093\n",
       "dtype: int64"
      ]
     },
     "execution_count": 29,
     "metadata": {},
     "output_type": "execute_result"
    }
   ],
   "source": [
    "# Criando faiza de prazo restante de empréstimo\n",
    "bins = [-1, 60, 120, 200, 500]\n",
    "labels = ['Até 60 meses', 'De 61 até 120 meses', 'De 121 até 200 meses', 'Acima de 200 meses']\n",
    "df['Faixa_Prazo_Restante'] = pd.cut(df['Prazo_Restante'], bins=bins, labels=labels)\n",
    "\n",
    "df.groupby(['Faixa_Prazo_Restante']).size().sort_values(ascending=False)"
   ]
  },
  {
   "cell_type": "code",
   "execution_count": 30,
   "id": "55b5a654-5eec-42a3-9d75-6ba0350e790e",
   "metadata": {},
   "outputs": [
    {
     "data": {
      "text/plain": [
       "Faixa_Prazo_Restante\n",
       "Até 60 meses            29394\n",
       "De 61 até 120 meses     24752\n",
       "De 121 até 200 meses    15266\n",
       "Acima de 200 meses       9093\n",
       "dtype: int64"
      ]
     },
     "execution_count": 30,
     "metadata": {},
     "output_type": "execute_result"
    }
   ],
   "source": [
    "# Criando faiza de data de contratação\n",
    "bins = [-1, 60, 120, 200, 500]\n",
    "labels = ['Até 60 meses', 'De 61 até 120 meses', 'De 121 até 200 meses', 'Acima de 200 meses']\n",
    "df['Faixa_Prazo_Restante'] = pd.cut(df['Prazo_Restante'], bins=bins, labels=labels)\n",
    "\n",
    "df.groupby(['Faixa_Prazo_Restante']).size().sort_values(ascending=False)"
   ]
  },
  {
   "cell_type": "markdown",
   "id": "8b8665ea-903a-4776-8bea-8d4f10946783",
   "metadata": {},
   "source": [
    "### Analisando Visualmente as Variáveis Categóricas\n",
    "Após limpeza dos dados e engenharia de atributos, vamos visualizar os dados categóricos graficamente"
   ]
  },
  {
   "cell_type": "code",
   "execution_count": 31,
   "id": "d0211391-a76d-43cc-83b5-f0dcd1f96871",
   "metadata": {},
   "outputs": [
    {
     "data": {
      "text/plain": [
       "['Sexo',\n",
       " 'UF_Cliente',\n",
       " 'Estado_Civil',\n",
       " 'Escolaridade',\n",
       " 'Possui_Patrimonio',\n",
       " 'Possivel_Fraude',\n",
       " 'Faixa_Etaria',\n",
       " 'Faixa_Salarial',\n",
       " 'Faixa_Dias_Atraso',\n",
       " 'Faixa_Prazo_Emprestimo',\n",
       " 'Faixa_Prazo_Restante']"
      ]
     },
     "execution_count": 31,
     "metadata": {},
     "output_type": "execute_result"
    }
   ],
   "source": [
    "# Inserindo as variáveis categóricas numa lista, exceto Data_Contratacao\n",
    "categoricas = ['Sexo',\n",
    " 'UF_Cliente',\n",
    " 'Estado_Civil',\n",
    " 'Escolaridade',\n",
    " 'Possui_Patrimonio',\n",
    " 'Possivel_Fraude',\n",
    " 'Faixa_Etaria',\n",
    " 'Faixa_Salarial',\n",
    " 'Faixa_Dias_Atraso',\n",
    " 'Faixa_Prazo_Emprestimo',\n",
    " 'Faixa_Prazo_Restante']\n",
    "\n",
    "categoricas"
   ]
  },
  {
   "cell_type": "code",
   "execution_count": 32,
   "id": "e60045be-9023-4b42-a73e-bd75d4cd3d3d",
   "metadata": {},
   "outputs": [
    {
     "data": {
      "image/png": "[encoded data removed]",
      "text/plain": [
       "<Figure size 2000x4000 with 11 Axes>"
      ]
     },
     "metadata": {},
     "output_type": "display_data"
    }
   ],
   "source": [
    "plt.rcParams['figure.figsize'] = [20.00, 40.00]\n",
    "plt.rcParams['figure.autolayout'] = True\n",
    "f, axes = plt.subplots(11, 1)\n",
    "\n",
    "linha = 0\n",
    "for i in categoricas:\n",
    "    ordem = df[i].value_counts().sort_values(ascending=False).index\n",
    "    sns.countplot(data=df, x=i, order=ordem, ax=axes[linha])\n",
    "    axes[linha].set_ylabel(axes[linha].get_ylabel(), fontsize=16)\n",
    "    axes[linha].set_xlabel(axes[linha].get_xlabel(), fontsize=16)\n",
    "    axes[linha].tick_params(axis='x', labelsize=14)  # Aumentando os rótulos do eixo X (categorias)\n",
    "    axes[linha].tick_params(axis='y', labelsize=14)  # Aumentando os rótulos do eixo Y (frequências)\n",
    "    linha += 1\n",
    "     \n",
    "plt.show()"
   ]
  },
  {
   "cell_type": "markdown",
   "id": "b55be5af-e2b9-445b-9616-48f36803d4df",
   "metadata": {},
   "source": [
    "### Avaliando colunas que usaremos para nossa análise\n",
    "Após análise, descartaremos as colunas:\n",
    "\n",
    "* Contrato\n",
    "* Data_Contratacao\n",
    "* VL_Patrimonio\n",
    "* Escolaridade\n",
    "* Idade (transformado em faixa etária)\n",
    "* Valor_Renda (transformado em faixa salarial)\n",
    "* Prazo_Emprestimo (transformado em faixa de prazo de empréstimo)\n",
    "* QT_Dias_Atraso (transformado em faixa de dias de atraso)\n",
    "* Prazo_Restante (transformado em faixa de prazo restante)"
   ]
  },
  {
   "cell_type": "code",
   "execution_count": 33,
   "id": "35290896-3305-43a4-aa68-341c2def6b6b",
   "metadata": {},
   "outputs": [],
   "source": [
    "# Criando novo dataframe, apenas com as colunas que vamos utilizar\n",
    "\n",
    "# Selecionando colunas\n",
    "columns = ['Sexo', 'UF_Cliente', 'Perc_Juros', \n",
    "       'VL_Emprestimo', 'VL_Emprestimo_ComJuros', 'QT_Total_Parcelas_Pagas',\n",
    "       'QT_Total_Parcelas_Pagas_EmDia', 'QT_Total_Parcelas_Pagas_EmAtraso',\n",
    "       'Qt_Renegociacao', 'Estado_Civil', 'QT_Parcelas_Atraso', 'Saldo_Devedor', \n",
    "       'Total_Pago', 'Faixa_Prazo_Restante', 'Faixa_Salarial', 'Faixa_Prazo_Emprestimo', 'Faixa_Etaria', \n",
    "       'Faixa_Dias_Atraso', 'Possivel_Fraude']\n",
    "\n",
    "df_tratado = pd.DataFrame(df, columns=columns)"
   ]
  },
  {
   "cell_type": "code",
   "execution_count": 34,
   "id": "d5d47024-012a-493b-b53a-c6340ce3560e",
   "metadata": {},
   "outputs": [
    {
     "data": {
      "text/plain": [
       "(80143, 19)"
      ]
     },
     "execution_count": 34,
     "metadata": {},
     "output_type": "execute_result"
    }
   ],
   "source": [
    "# Shape do novo dataframe\n",
    "df_tratado.shape"
   ]
  },
  {
   "cell_type": "code",
   "execution_count": 35,
   "id": "0b53b686-887a-4a8d-bf58-59718a9a60cb",
   "metadata": {},
   "outputs": [
    {
     "name": "stdout",
     "output_type": "stream",
     "text": [
      "<class 'pandas.core.frame.DataFrame'>\n",
      "RangeIndex: 80143 entries, 0 to 80142\n",
      "Data columns (total 19 columns):\n",
      " #   Column                            Non-Null Count  Dtype   \n",
      "---  ------                            --------------  -----   \n",
      " 0   Sexo                              80143 non-null  object  \n",
      " 1   UF_Cliente                        80143 non-null  object  \n",
      " 2   Perc_Juros                        80143 non-null  float64 \n",
      " 3   VL_Emprestimo                     80143 non-null  float64 \n",
      " 4   VL_Emprestimo_ComJuros            80143 non-null  float64 \n",
      " 5   QT_Total_Parcelas_Pagas           80143 non-null  int64   \n",
      " 6   QT_Total_Parcelas_Pagas_EmDia     80143 non-null  int64   \n",
      " 7   QT_Total_Parcelas_Pagas_EmAtraso  80143 non-null  int64   \n",
      " 8   Qt_Renegociacao                   80143 non-null  int64   \n",
      " 9   Estado_Civil                      80143 non-null  object  \n",
      " 10  QT_Parcelas_Atraso                80143 non-null  int64   \n",
      " 11  Saldo_Devedor                     80143 non-null  float64 \n",
      " 12  Total_Pago                        80143 non-null  float64 \n",
      " 13  Faixa_Prazo_Restante              78505 non-null  category\n",
      " 14  Faixa_Salarial                    80097 non-null  category\n",
      " 15  Faixa_Prazo_Emprestimo            80143 non-null  category\n",
      " 16  Faixa_Etaria                      80142 non-null  category\n",
      " 17  Faixa_Dias_Atraso                 55033 non-null  category\n",
      " 18  Possivel_Fraude                   80143 non-null  object  \n",
      "dtypes: category(5), float64(5), int64(5), object(4)\n",
      "memory usage: 8.9+ MB\n"
     ]
    }
   ],
   "source": [
    "# Tipo dos dados\n",
    "df_tratado.info(verbose=True)"
   ]
  },
  {
   "cell_type": "code",
   "execution_count": 36,
   "id": "2a1021a7-990e-486f-af86-3bce73a70819",
   "metadata": {},
   "outputs": [
    {
     "data": {
      "text/plain": [
       "Sexo                                    0\n",
       "UF_Cliente                              0\n",
       "Perc_Juros                              0\n",
       "VL_Emprestimo                           0\n",
       "VL_Emprestimo_ComJuros                  0\n",
       "QT_Total_Parcelas_Pagas                 0\n",
       "QT_Total_Parcelas_Pagas_EmDia           0\n",
       "QT_Total_Parcelas_Pagas_EmAtraso        0\n",
       "Qt_Renegociacao                         0\n",
       "Estado_Civil                            0\n",
       "QT_Parcelas_Atraso                      0\n",
       "Saldo_Devedor                           0\n",
       "Total_Pago                              0\n",
       "Faixa_Prazo_Restante                 1638\n",
       "Faixa_Salarial                         46\n",
       "Faixa_Prazo_Emprestimo                  0\n",
       "Faixa_Etaria                            1\n",
       "Faixa_Dias_Atraso                   25110\n",
       "Possivel_Fraude                         0\n",
       "dtype: int64"
      ]
     },
     "execution_count": 36,
     "metadata": {},
     "output_type": "execute_result"
    }
   ],
   "source": [
    "# Verificando se há valores nulos\n",
    "df_tratado.isnull().sum()"
   ]
  },
  {
   "cell_type": "code",
   "execution_count": 37,
   "id": "77c43097-b256-42e5-9672-9492ff29b3ad",
   "metadata": {},
   "outputs": [
    {
     "data": {
      "text/html": [
       "<div>\n",
       "<style scoped>\n",
       "    .dataframe tbody tr th:only-of-type {\n",
       "        vertical-align: middle;\n",
       "    }\n",
       "\n",
       "    .dataframe tbody tr th {\n",
       "        vertical-align: top;\n",
       "    }\n",
       "\n",
       "    .dataframe thead th {\n",
       "        text-align: right;\n",
       "    }\n",
       "</style>\n",
       "<table border=\"1\" class=\"dataframe\">\n",
       "  <thead>\n",
       "    <tr style=\"text-align: right;\">\n",
       "      <th></th>\n",
       "      <th>Perc_Juros</th>\n",
       "      <th>VL_Emprestimo</th>\n",
       "      <th>VL_Emprestimo_ComJuros</th>\n",
       "      <th>QT_Total_Parcelas_Pagas</th>\n",
       "      <th>QT_Total_Parcelas_Pagas_EmDia</th>\n",
       "      <th>QT_Total_Parcelas_Pagas_EmAtraso</th>\n",
       "      <th>Qt_Renegociacao</th>\n",
       "      <th>QT_Parcelas_Atraso</th>\n",
       "      <th>Saldo_Devedor</th>\n",
       "      <th>Total_Pago</th>\n",
       "    </tr>\n",
       "  </thead>\n",
       "  <tbody>\n",
       "    <tr>\n",
       "      <th>count</th>\n",
       "      <td>80143.00</td>\n",
       "      <td>80143.00</td>\n",
       "      <td>80143.00</td>\n",
       "      <td>80143.00</td>\n",
       "      <td>80143.00</td>\n",
       "      <td>80143.00</td>\n",
       "      <td>80143.00</td>\n",
       "      <td>80143.00</td>\n",
       "      <td>80143.00</td>\n",
       "      <td>80143.00</td>\n",
       "    </tr>\n",
       "    <tr>\n",
       "      <th>mean</th>\n",
       "      <td>19.49</td>\n",
       "      <td>72847.78</td>\n",
       "      <td>83774.94</td>\n",
       "      <td>10.71</td>\n",
       "      <td>5.24</td>\n",
       "      <td>2.34</td>\n",
       "      <td>1.30</td>\n",
       "      <td>10.65</td>\n",
       "      <td>78622.32</td>\n",
       "      <td>9687.98</td>\n",
       "    </tr>\n",
       "    <tr>\n",
       "      <th>std</th>\n",
       "      <td>3.56</td>\n",
       "      <td>87407.93</td>\n",
       "      <td>100519.12</td>\n",
       "      <td>9.31</td>\n",
       "      <td>6.21</td>\n",
       "      <td>3.97</td>\n",
       "      <td>1.27</td>\n",
       "      <td>10.43</td>\n",
       "      <td>102318.95</td>\n",
       "      <td>19090.62</td>\n",
       "    </tr>\n",
       "    <tr>\n",
       "      <th>min</th>\n",
       "      <td>4.49</td>\n",
       "      <td>3000.00</td>\n",
       "      <td>3450.00</td>\n",
       "      <td>0.00</td>\n",
       "      <td>0.00</td>\n",
       "      <td>0.00</td>\n",
       "      <td>0.00</td>\n",
       "      <td>0.00</td>\n",
       "      <td>0.00</td>\n",
       "      <td>0.00</td>\n",
       "    </tr>\n",
       "    <tr>\n",
       "      <th>25%</th>\n",
       "      <td>18.00</td>\n",
       "      <td>15000.00</td>\n",
       "      <td>17250.00</td>\n",
       "      <td>2.00</td>\n",
       "      <td>1.00</td>\n",
       "      <td>0.00</td>\n",
       "      <td>0.00</td>\n",
       "      <td>0.00</td>\n",
       "      <td>12122.76</td>\n",
       "      <td>1052.16</td>\n",
       "    </tr>\n",
       "    <tr>\n",
       "      <th>50%</th>\n",
       "      <td>20.00</td>\n",
       "      <td>40000.00</td>\n",
       "      <td>46000.00</td>\n",
       "      <td>8.00</td>\n",
       "      <td>2.00</td>\n",
       "      <td>1.00</td>\n",
       "      <td>1.00</td>\n",
       "      <td>9.00</td>\n",
       "      <td>35489.36</td>\n",
       "      <td>3951.39</td>\n",
       "    </tr>\n",
       "    <tr>\n",
       "      <th>75%</th>\n",
       "      <td>21.00</td>\n",
       "      <td>100000.00</td>\n",
       "      <td>115000.00</td>\n",
       "      <td>18.00</td>\n",
       "      <td>7.00</td>\n",
       "      <td>3.00</td>\n",
       "      <td>2.00</td>\n",
       "      <td>20.00</td>\n",
       "      <td>117783.25</td>\n",
       "      <td>10886.24</td>\n",
       "    </tr>\n",
       "    <tr>\n",
       "      <th>max</th>\n",
       "      <td>28.00</td>\n",
       "      <td>500000.00</td>\n",
       "      <td>575000.00</td>\n",
       "      <td>66.00</td>\n",
       "      <td>66.00</td>\n",
       "      <td>31.00</td>\n",
       "      <td>38.00</td>\n",
       "      <td>34.00</td>\n",
       "      <td>626261.27</td>\n",
       "      <td>465821.39</td>\n",
       "    </tr>\n",
       "  </tbody>\n",
       "</table>\n",
       "</div>"
      ],
      "text/plain": [
       "       Perc_Juros  VL_Emprestimo  VL_Emprestimo_ComJuros  \\\n",
       "count    80143.00       80143.00                80143.00   \n",
       "mean        19.49       72847.78                83774.94   \n",
       "std          3.56       87407.93               100519.12   \n",
       "min          4.49        3000.00                 3450.00   \n",
       "25%         18.00       15000.00                17250.00   \n",
       "50%         20.00       40000.00                46000.00   \n",
       "75%         21.00      100000.00               115000.00   \n",
       "max         28.00      500000.00               575000.00   \n",
       "\n",
       "       QT_Total_Parcelas_Pagas  QT_Total_Parcelas_Pagas_EmDia  \\\n",
       "count                 80143.00                       80143.00   \n",
       "mean                     10.71                           5.24   \n",
       "std                       9.31                           6.21   \n",
       "min                       0.00                           0.00   \n",
       "25%                       2.00                           1.00   \n",
       "50%                       8.00                           2.00   \n",
       "75%                      18.00                           7.00   \n",
       "max                      66.00                          66.00   \n",
       "\n",
       "       QT_Total_Parcelas_Pagas_EmAtraso  Qt_Renegociacao  QT_Parcelas_Atraso  \\\n",
       "count                          80143.00         80143.00            80143.00   \n",
       "mean                               2.34             1.30               10.65   \n",
       "std                                3.97             1.27               10.43   \n",
       "min                                0.00             0.00                0.00   \n",
       "25%                                0.00             0.00                0.00   \n",
       "50%                                1.00             1.00                9.00   \n",
       "75%                                3.00             2.00               20.00   \n",
       "max                               31.00            38.00               34.00   \n",
       "\n",
       "       Saldo_Devedor  Total_Pago  \n",
       "count       80143.00    80143.00  \n",
       "mean        78622.32     9687.98  \n",
       "std        102318.95    19090.62  \n",
       "min             0.00        0.00  \n",
       "25%         12122.76     1052.16  \n",
       "50%         35489.36     3951.39  \n",
       "75%        117783.25    10886.24  \n",
       "max        626261.27   465821.39  "
      ]
     },
     "execution_count": 37,
     "metadata": {},
     "output_type": "execute_result"
    }
   ],
   "source": [
    "# Verificando dados estatísticos\n",
    "df_tratado.describe()"
   ]
  },
  {
   "cell_type": "code",
   "execution_count": 38,
   "id": "0802485c-ffd2-4f30-816a-2167a13d3503",
   "metadata": {},
   "outputs": [
    {
     "name": "stdout",
     "output_type": "stream",
     "text": [
      "Sexo : 2\n",
      "UF_Cliente : 27\n",
      "Perc_Juros : 53\n",
      "VL_Emprestimo : 73\n",
      "VL_Emprestimo_ComJuros : 73\n",
      "QT_Total_Parcelas_Pagas : 50\n",
      "QT_Total_Parcelas_Pagas_EmDia : 48\n",
      "QT_Total_Parcelas_Pagas_EmAtraso : 32\n",
      "Qt_Renegociacao : 15\n",
      "Estado_Civil : 6\n",
      "QT_Parcelas_Atraso : 35\n",
      "Saldo_Devedor : 64166\n",
      "Total_Pago : 54074\n",
      "Faixa_Prazo_Restante : 5\n",
      "Faixa_Salarial : 9\n",
      "Faixa_Prazo_Emprestimo : 4\n",
      "Faixa_Etaria : 7\n",
      "Faixa_Dias_Atraso : 8\n",
      "Possivel_Fraude : 2\n"
     ]
    }
   ],
   "source": [
    "# Verificando valores únicos\n",
    "valores_unicos = []\n",
    "for i in df_tratado.columns[0:19].tolist():\n",
    "    print(i, ':', len(df_tratado[i].astype(str).value_counts()))\n",
    "    valores_unicos.append(len(df_tratado[i].astype(str).value_counts()))"
   ]
  },
  {
   "cell_type": "code",
   "execution_count": null,
   "id": "53ced4e1-788c-4758-8f1f-00ac3298f6fb",
   "metadata": {},
   "outputs": [],
   "source": []
  },
  {
   "cell_type": "markdown",
   "id": "f1708b2e-1c23-469c-a015-18f96524e8c6",
   "metadata": {},
   "source": [
    "### Analisando graficamento as variáveis numéricas"
   ]
  },
  {
   "cell_type": "code",
   "execution_count": 41,
   "id": "c0f592b8-d15a-4f6a-8edc-f8a8fbad3c35",
   "metadata": {},
   "outputs": [
    {
     "data": {
      "text/plain": [
       "['Perc_Juros',\n",
       " 'VL_Emprestimo',\n",
       " 'VL_Emprestimo_ComJuros',\n",
       " 'QT_Total_Parcelas_Pagas',\n",
       " 'QT_Total_Parcelas_Pagas_EmDia',\n",
       " 'QT_Total_Parcelas_Pagas_EmAtraso',\n",
       " 'Qt_Renegociacao',\n",
       " 'QT_Parcelas_Atraso',\n",
       " 'Saldo_Devedor',\n",
       " 'Total_Pago']"
      ]
     },
     "execution_count": 41,
     "metadata": {},
     "output_type": "execute_result"
    }
   ],
   "source": [
    "# Inserindo as variáveis numéricas numa lista\n",
    "numericas = []\n",
    "for i in df_tratado.columns[0:19].tolist():\n",
    "    if df_tratado.dtypes[i] == 'int64' or df_tratado.dtypes[i] == 'float64':\n",
    "        numericas.append(i)\n",
    "\n",
    "numericas"
   ]
  },
  {
   "cell_type": "code",
   "execution_count": 43,
   "id": "5c8220ea-60a6-43bf-bf59-5e4f9250b544",
   "metadata": {},
   "outputs": [
    {
     "data": {
      "image/png": "[encoded data removed]",
      "text/plain": [
       "<Figure size 500x1000 with 10 Axes>"
      ]
     },
     "metadata": {},
     "output_type": "display_data"
    }
   ],
   "source": [
    "# Criando boxplots com as variáveis numéricas para identificar possíveis outliers\n",
    "# Os valores indicados como outliers nos gráficos podem ser considerados normais dado o contexto dos dados, não há necessidade de tratamento.\n",
    "plt.rcParams['figure.figsize'] = [5, 10]\n",
    "plt.rcParams['figure.autolayout'] = True\n",
    "f, axes = plt.subplots(5, 2)\n",
    "\n",
    "linha = 0\n",
    "coluna = 0\n",
    "for i in numericas:\n",
    "    sns.boxplot(data = df_tratado, y=i, ax=axes[linha][coluna])\n",
    "    coluna +=1\n",
    "    if coluna == 2:\n",
    "        linha += 1\n",
    "        coluna = 0\n",
    "plt.show()"
   ]
  },
  {
   "cell_type": "markdown",
   "id": "45ca06ae-cbac-400c-bae9-6dd0e5b6657a",
   "metadata": {},
   "source": [
    "### Codificação de variáveis categóricas (One-Hot Encoding)"
   ]
  },
  {
   "cell_type": "code",
   "execution_count": 44,
   "id": "716f24d5-785d-4e67-beb9-6f5b23140dee",
   "metadata": {},
   "outputs": [],
   "source": [
    "# Carregando variáveis categóricas para OneHotEncoding, exceto a variável target\n",
    "categoricas = []\n",
    "for i in df_tratado.columns[0:18].tolist():\n",
    "    if df_tratado.dtypes[i] == 'object' or df_tratado.dtypes[i] == 'category':\n",
    "        categoricas.append(i)"
   ]
  },
  {
   "cell_type": "code",
   "execution_count": 45,
   "id": "eaf96e30-43f3-49f4-969c-810d2368cffc",
   "metadata": {},
   "outputs": [],
   "source": [
    "# Criando o encoder e aplicando o OneHotEncoder\n",
    "lb = LabelEncoder()\n",
    "\n",
    "for var in categoricas:\n",
    "    df_tratado[var] = lb.fit_transform(df_tratado[var])"
   ]
  },
  {
   "cell_type": "code",
   "execution_count": 46,
   "id": "91afe7ae-5704-45e2-b933-d689da155608",
   "metadata": {},
   "outputs": [
    {
     "data": {
      "text/plain": [
       "Sexo                                0\n",
       "UF_Cliente                          0\n",
       "Perc_Juros                          0\n",
       "VL_Emprestimo                       0\n",
       "VL_Emprestimo_ComJuros              0\n",
       "QT_Total_Parcelas_Pagas             0\n",
       "QT_Total_Parcelas_Pagas_EmDia       0\n",
       "QT_Total_Parcelas_Pagas_EmAtraso    0\n",
       "Qt_Renegociacao                     0\n",
       "Estado_Civil                        0\n",
       "QT_Parcelas_Atraso                  0\n",
       "Saldo_Devedor                       0\n",
       "Total_Pago                          0\n",
       "Faixa_Prazo_Restante                0\n",
       "Faixa_Salarial                      0\n",
       "Faixa_Prazo_Emprestimo              0\n",
       "Faixa_Etaria                        0\n",
       "Faixa_Dias_Atraso                   0\n",
       "Possivel_Fraude                     0\n",
       "dtype: int64"
      ]
     },
     "execution_count": 46,
     "metadata": {},
     "output_type": "execute_result"
    }
   ],
   "source": [
    "# Verificando existência de nulos após transformação\n",
    "df_tratado.isnull().sum()"
   ]
  },
  {
   "cell_type": "code",
   "execution_count": 47,
   "id": "d585bcbf-7438-4cb0-a75b-86f92dd3d064",
   "metadata": {},
   "outputs": [
    {
     "data": {
      "text/html": [
       "<div>\n",
       "<style scoped>\n",
       "    .dataframe tbody tr th:only-of-type {\n",
       "        vertical-align: middle;\n",
       "    }\n",
       "\n",
       "    .dataframe tbody tr th {\n",
       "        vertical-align: top;\n",
       "    }\n",
       "\n",
       "    .dataframe thead th {\n",
       "        text-align: right;\n",
       "    }\n",
       "</style>\n",
       "<table border=\"1\" class=\"dataframe\">\n",
       "  <thead>\n",
       "    <tr style=\"text-align: right;\">\n",
       "      <th></th>\n",
       "      <th>Sexo</th>\n",
       "      <th>UF_Cliente</th>\n",
       "      <th>Perc_Juros</th>\n",
       "      <th>VL_Emprestimo</th>\n",
       "      <th>VL_Emprestimo_ComJuros</th>\n",
       "      <th>QT_Total_Parcelas_Pagas</th>\n",
       "      <th>QT_Total_Parcelas_Pagas_EmDia</th>\n",
       "      <th>QT_Total_Parcelas_Pagas_EmAtraso</th>\n",
       "      <th>Qt_Renegociacao</th>\n",
       "      <th>Estado_Civil</th>\n",
       "      <th>QT_Parcelas_Atraso</th>\n",
       "      <th>Saldo_Devedor</th>\n",
       "      <th>Total_Pago</th>\n",
       "      <th>Faixa_Prazo_Restante</th>\n",
       "      <th>Faixa_Salarial</th>\n",
       "      <th>Faixa_Prazo_Emprestimo</th>\n",
       "      <th>Faixa_Etaria</th>\n",
       "      <th>Faixa_Dias_Atraso</th>\n",
       "      <th>Possivel_Fraude</th>\n",
       "    </tr>\n",
       "  </thead>\n",
       "  <tbody>\n",
       "    <tr>\n",
       "      <th>0</th>\n",
       "      <td>1</td>\n",
       "      <td>9</td>\n",
       "      <td>17.00</td>\n",
       "      <td>160000.00</td>\n",
       "      <td>184000.00</td>\n",
       "      <td>2</td>\n",
       "      <td>1</td>\n",
       "      <td>1</td>\n",
       "      <td>2</td>\n",
       "      <td>4</td>\n",
       "      <td>10</td>\n",
       "      <td>187861.70</td>\n",
       "      <td>1617.36</td>\n",
       "      <td>2</td>\n",
       "      <td>6</td>\n",
       "      <td>2</td>\n",
       "      <td>4</td>\n",
       "      <td>3</td>\n",
       "      <td>Sim</td>\n",
       "    </tr>\n",
       "    <tr>\n",
       "      <th>1</th>\n",
       "      <td>1</td>\n",
       "      <td>9</td>\n",
       "      <td>20.00</td>\n",
       "      <td>14000.00</td>\n",
       "      <td>16100.00</td>\n",
       "      <td>2</td>\n",
       "      <td>1</td>\n",
       "      <td>1</td>\n",
       "      <td>1</td>\n",
       "      <td>0</td>\n",
       "      <td>26</td>\n",
       "      <td>16615.93</td>\n",
       "      <td>1239.98</td>\n",
       "      <td>1</td>\n",
       "      <td>5</td>\n",
       "      <td>1</td>\n",
       "      <td>3</td>\n",
       "      <td>7</td>\n",
       "      <td>Sim</td>\n",
       "    </tr>\n",
       "    <tr>\n",
       "      <th>2</th>\n",
       "      <td>0</td>\n",
       "      <td>25</td>\n",
       "      <td>24.00</td>\n",
       "      <td>60000.00</td>\n",
       "      <td>69000.00</td>\n",
       "      <td>4</td>\n",
       "      <td>1</td>\n",
       "      <td>0</td>\n",
       "      <td>1</td>\n",
       "      <td>0</td>\n",
       "      <td>27</td>\n",
       "      <td>74443.40</td>\n",
       "      <td>1346.64</td>\n",
       "      <td>2</td>\n",
       "      <td>5</td>\n",
       "      <td>2</td>\n",
       "      <td>3</td>\n",
       "      <td>7</td>\n",
       "      <td>Sim</td>\n",
       "    </tr>\n",
       "    <tr>\n",
       "      <th>3</th>\n",
       "      <td>1</td>\n",
       "      <td>6</td>\n",
       "      <td>19.00</td>\n",
       "      <td>180000.00</td>\n",
       "      <td>207000.00</td>\n",
       "      <td>29</td>\n",
       "      <td>28</td>\n",
       "      <td>0</td>\n",
       "      <td>2</td>\n",
       "      <td>4</td>\n",
       "      <td>2</td>\n",
       "      <td>196812.41</td>\n",
       "      <td>22713.63</td>\n",
       "      <td>2</td>\n",
       "      <td>5</td>\n",
       "      <td>2</td>\n",
       "      <td>2</td>\n",
       "      <td>4</td>\n",
       "      <td>Nao</td>\n",
       "    </tr>\n",
       "    <tr>\n",
       "      <th>4</th>\n",
       "      <td>0</td>\n",
       "      <td>10</td>\n",
       "      <td>22.00</td>\n",
       "      <td>30000.00</td>\n",
       "      <td>34500.00</td>\n",
       "      <td>4</td>\n",
       "      <td>3</td>\n",
       "      <td>0</td>\n",
       "      <td>1</td>\n",
       "      <td>4</td>\n",
       "      <td>6</td>\n",
       "      <td>36114.39</td>\n",
       "      <td>900.80</td>\n",
       "      <td>3</td>\n",
       "      <td>6</td>\n",
       "      <td>3</td>\n",
       "      <td>1</td>\n",
       "      <td>6</td>\n",
       "      <td>Sim</td>\n",
       "    </tr>\n",
       "  </tbody>\n",
       "</table>\n",
       "</div>"
      ],
      "text/plain": [
       "   Sexo  UF_Cliente  Perc_Juros  VL_Emprestimo  VL_Emprestimo_ComJuros  \\\n",
       "0     1           9       17.00      160000.00               184000.00   \n",
       "1     1           9       20.00       14000.00                16100.00   \n",
       "2     0          25       24.00       60000.00                69000.00   \n",
       "3     1           6       19.00      180000.00               207000.00   \n",
       "4     0          10       22.00       30000.00                34500.00   \n",
       "\n",
       "   QT_Total_Parcelas_Pagas  QT_Total_Parcelas_Pagas_EmDia  \\\n",
       "0                        2                              1   \n",
       "1                        2                              1   \n",
       "2                        4                              1   \n",
       "3                       29                             28   \n",
       "4                        4                              3   \n",
       "\n",
       "   QT_Total_Parcelas_Pagas_EmAtraso  Qt_Renegociacao  Estado_Civil  \\\n",
       "0                                 1                2             4   \n",
       "1                                 1                1             0   \n",
       "2                                 0                1             0   \n",
       "3                                 0                2             4   \n",
       "4                                 0                1             4   \n",
       "\n",
       "   QT_Parcelas_Atraso  Saldo_Devedor  Total_Pago  Faixa_Prazo_Restante  \\\n",
       "0                  10      187861.70     1617.36                     2   \n",
       "1                  26       16615.93     1239.98                     1   \n",
       "2                  27       74443.40     1346.64                     2   \n",
       "3                   2      196812.41    22713.63                     2   \n",
       "4                   6       36114.39      900.80                     3   \n",
       "\n",
       "   Faixa_Salarial  Faixa_Prazo_Emprestimo  Faixa_Etaria  Faixa_Dias_Atraso  \\\n",
       "0               6                       2             4                  3   \n",
       "1               5                       1             3                  7   \n",
       "2               5                       2             3                  7   \n",
       "3               5                       2             2                  4   \n",
       "4               6                       3             1                  6   \n",
       "\n",
       "  Possivel_Fraude  \n",
       "0             Sim  \n",
       "1             Sim  \n",
       "2             Sim  \n",
       "3             Nao  \n",
       "4             Sim  "
      ]
     },
     "execution_count": 47,
     "metadata": {},
     "output_type": "execute_result"
    }
   ],
   "source": [
    "# Verificando dados\n",
    "df_tratado.head()"
   ]
  },
  {
   "cell_type": "code",
   "execution_count": 48,
   "id": "9e2c5439-59d9-4040-ac27-98dc17b3a4ff",
   "metadata": {},
   "outputs": [
    {
     "name": "stdout",
     "output_type": "stream",
     "text": [
      "<class 'pandas.core.frame.DataFrame'>\n",
      "RangeIndex: 80143 entries, 0 to 80142\n",
      "Data columns (total 19 columns):\n",
      " #   Column                            Non-Null Count  Dtype  \n",
      "---  ------                            --------------  -----  \n",
      " 0   Sexo                              80143 non-null  int32  \n",
      " 1   UF_Cliente                        80143 non-null  int32  \n",
      " 2   Perc_Juros                        80143 non-null  float64\n",
      " 3   VL_Emprestimo                     80143 non-null  float64\n",
      " 4   VL_Emprestimo_ComJuros            80143 non-null  float64\n",
      " 5   QT_Total_Parcelas_Pagas           80143 non-null  int64  \n",
      " 6   QT_Total_Parcelas_Pagas_EmDia     80143 non-null  int64  \n",
      " 7   QT_Total_Parcelas_Pagas_EmAtraso  80143 non-null  int64  \n",
      " 8   Qt_Renegociacao                   80143 non-null  int64  \n",
      " 9   Estado_Civil                      80143 non-null  int32  \n",
      " 10  QT_Parcelas_Atraso                80143 non-null  int64  \n",
      " 11  Saldo_Devedor                     80143 non-null  float64\n",
      " 12  Total_Pago                        80143 non-null  float64\n",
      " 13  Faixa_Prazo_Restante              80143 non-null  int32  \n",
      " 14  Faixa_Salarial                    80143 non-null  int32  \n",
      " 15  Faixa_Prazo_Emprestimo            80143 non-null  int32  \n",
      " 16  Faixa_Etaria                      80143 non-null  int32  \n",
      " 17  Faixa_Dias_Atraso                 80143 non-null  int32  \n",
      " 18  Possivel_Fraude                   80143 non-null  object \n",
      "dtypes: float64(5), int32(8), int64(5), object(1)\n",
      "memory usage: 9.2+ MB\n"
     ]
    }
   ],
   "source": [
    "# Visualizando tipo das variáveis\n",
    "df_tratado.info()"
   ]
  },
  {
   "cell_type": "markdown",
   "id": "039afc7e-e8c0-4535-8965-082ed9456f2c",
   "metadata": {},
   "source": [
    " ### Divisão em treino e teste"
   ]
  },
  {
   "cell_type": "code",
   "execution_count": 50,
   "id": "6c707510-ad03-4cce-b22c-7fd6a2d46e0a",
   "metadata": {},
   "outputs": [],
   "source": [
    "# Separando as variáveis em preditoras e target\n",
    "PREDITORAS = df_tratado.iloc[:, 0:18]\n",
    "TARGET = df_tratado.iloc[:, 18]"
   ]
  },
  {
   "cell_type": "code",
   "execution_count": 51,
   "id": "5827f415-c4b5-4767-b85a-2d560429f23c",
   "metadata": {},
   "outputs": [
    {
     "data": {
      "text/html": [
       "<div>\n",
       "<style scoped>\n",
       "    .dataframe tbody tr th:only-of-type {\n",
       "        vertical-align: middle;\n",
       "    }\n",
       "\n",
       "    .dataframe tbody tr th {\n",
       "        vertical-align: top;\n",
       "    }\n",
       "\n",
       "    .dataframe thead th {\n",
       "        text-align: right;\n",
       "    }\n",
       "</style>\n",
       "<table border=\"1\" class=\"dataframe\">\n",
       "  <thead>\n",
       "    <tr style=\"text-align: right;\">\n",
       "      <th></th>\n",
       "      <th>Sexo</th>\n",
       "      <th>UF_Cliente</th>\n",
       "      <th>Perc_Juros</th>\n",
       "      <th>VL_Emprestimo</th>\n",
       "      <th>VL_Emprestimo_ComJuros</th>\n",
       "      <th>QT_Total_Parcelas_Pagas</th>\n",
       "      <th>QT_Total_Parcelas_Pagas_EmDia</th>\n",
       "      <th>QT_Total_Parcelas_Pagas_EmAtraso</th>\n",
       "      <th>Qt_Renegociacao</th>\n",
       "      <th>Estado_Civil</th>\n",
       "      <th>QT_Parcelas_Atraso</th>\n",
       "      <th>Saldo_Devedor</th>\n",
       "      <th>Total_Pago</th>\n",
       "      <th>Faixa_Prazo_Restante</th>\n",
       "      <th>Faixa_Salarial</th>\n",
       "      <th>Faixa_Prazo_Emprestimo</th>\n",
       "      <th>Faixa_Etaria</th>\n",
       "      <th>Faixa_Dias_Atraso</th>\n",
       "    </tr>\n",
       "  </thead>\n",
       "  <tbody>\n",
       "    <tr>\n",
       "      <th>0</th>\n",
       "      <td>1</td>\n",
       "      <td>9</td>\n",
       "      <td>17.00</td>\n",
       "      <td>160000.00</td>\n",
       "      <td>184000.00</td>\n",
       "      <td>2</td>\n",
       "      <td>1</td>\n",
       "      <td>1</td>\n",
       "      <td>2</td>\n",
       "      <td>4</td>\n",
       "      <td>10</td>\n",
       "      <td>187861.70</td>\n",
       "      <td>1617.36</td>\n",
       "      <td>2</td>\n",
       "      <td>6</td>\n",
       "      <td>2</td>\n",
       "      <td>4</td>\n",
       "      <td>3</td>\n",
       "    </tr>\n",
       "    <tr>\n",
       "      <th>1</th>\n",
       "      <td>1</td>\n",
       "      <td>9</td>\n",
       "      <td>20.00</td>\n",
       "      <td>14000.00</td>\n",
       "      <td>16100.00</td>\n",
       "      <td>2</td>\n",
       "      <td>1</td>\n",
       "      <td>1</td>\n",
       "      <td>1</td>\n",
       "      <td>0</td>\n",
       "      <td>26</td>\n",
       "      <td>16615.93</td>\n",
       "      <td>1239.98</td>\n",
       "      <td>1</td>\n",
       "      <td>5</td>\n",
       "      <td>1</td>\n",
       "      <td>3</td>\n",
       "      <td>7</td>\n",
       "    </tr>\n",
       "    <tr>\n",
       "      <th>2</th>\n",
       "      <td>0</td>\n",
       "      <td>25</td>\n",
       "      <td>24.00</td>\n",
       "      <td>60000.00</td>\n",
       "      <td>69000.00</td>\n",
       "      <td>4</td>\n",
       "      <td>1</td>\n",
       "      <td>0</td>\n",
       "      <td>1</td>\n",
       "      <td>0</td>\n",
       "      <td>27</td>\n",
       "      <td>74443.40</td>\n",
       "      <td>1346.64</td>\n",
       "      <td>2</td>\n",
       "      <td>5</td>\n",
       "      <td>2</td>\n",
       "      <td>3</td>\n",
       "      <td>7</td>\n",
       "    </tr>\n",
       "    <tr>\n",
       "      <th>3</th>\n",
       "      <td>1</td>\n",
       "      <td>6</td>\n",
       "      <td>19.00</td>\n",
       "      <td>180000.00</td>\n",
       "      <td>207000.00</td>\n",
       "      <td>29</td>\n",
       "      <td>28</td>\n",
       "      <td>0</td>\n",
       "      <td>2</td>\n",
       "      <td>4</td>\n",
       "      <td>2</td>\n",
       "      <td>196812.41</td>\n",
       "      <td>22713.63</td>\n",
       "      <td>2</td>\n",
       "      <td>5</td>\n",
       "      <td>2</td>\n",
       "      <td>2</td>\n",
       "      <td>4</td>\n",
       "    </tr>\n",
       "    <tr>\n",
       "      <th>4</th>\n",
       "      <td>0</td>\n",
       "      <td>10</td>\n",
       "      <td>22.00</td>\n",
       "      <td>30000.00</td>\n",
       "      <td>34500.00</td>\n",
       "      <td>4</td>\n",
       "      <td>3</td>\n",
       "      <td>0</td>\n",
       "      <td>1</td>\n",
       "      <td>4</td>\n",
       "      <td>6</td>\n",
       "      <td>36114.39</td>\n",
       "      <td>900.80</td>\n",
       "      <td>3</td>\n",
       "      <td>6</td>\n",
       "      <td>3</td>\n",
       "      <td>1</td>\n",
       "      <td>6</td>\n",
       "    </tr>\n",
       "  </tbody>\n",
       "</table>\n",
       "</div>"
      ],
      "text/plain": [
       "   Sexo  UF_Cliente  Perc_Juros  VL_Emprestimo  VL_Emprestimo_ComJuros  \\\n",
       "0     1           9       17.00      160000.00               184000.00   \n",
       "1     1           9       20.00       14000.00                16100.00   \n",
       "2     0          25       24.00       60000.00                69000.00   \n",
       "3     1           6       19.00      180000.00               207000.00   \n",
       "4     0          10       22.00       30000.00                34500.00   \n",
       "\n",
       "   QT_Total_Parcelas_Pagas  QT_Total_Parcelas_Pagas_EmDia  \\\n",
       "0                        2                              1   \n",
       "1                        2                              1   \n",
       "2                        4                              1   \n",
       "3                       29                             28   \n",
       "4                        4                              3   \n",
       "\n",
       "   QT_Total_Parcelas_Pagas_EmAtraso  Qt_Renegociacao  Estado_Civil  \\\n",
       "0                                 1                2             4   \n",
       "1                                 1                1             0   \n",
       "2                                 0                1             0   \n",
       "3                                 0                2             4   \n",
       "4                                 0                1             4   \n",
       "\n",
       "   QT_Parcelas_Atraso  Saldo_Devedor  Total_Pago  Faixa_Prazo_Restante  \\\n",
       "0                  10      187861.70     1617.36                     2   \n",
       "1                  26       16615.93     1239.98                     1   \n",
       "2                  27       74443.40     1346.64                     2   \n",
       "3                   2      196812.41    22713.63                     2   \n",
       "4                   6       36114.39      900.80                     3   \n",
       "\n",
       "   Faixa_Salarial  Faixa_Prazo_Emprestimo  Faixa_Etaria  Faixa_Dias_Atraso  \n",
       "0               6                       2             4                  3  \n",
       "1               5                       1             3                  7  \n",
       "2               5                       2             3                  7  \n",
       "3               5                       2             2                  4  \n",
       "4               6                       3             1                  6  "
      ]
     },
     "execution_count": 51,
     "metadata": {},
     "output_type": "execute_result"
    }
   ],
   "source": [
    "# Visualizando preditoras\n",
    "PREDITORAS.head()"
   ]
  },
  {
   "cell_type": "code",
   "execution_count": 52,
   "id": "06777b25-bbd8-457f-8600-03a05ec59298",
   "metadata": {},
   "outputs": [
    {
     "data": {
      "text/plain": [
       "0    Sim\n",
       "1    Sim\n",
       "2    Sim\n",
       "3    Nao\n",
       "4    Sim\n",
       "Name: Possivel_Fraude, dtype: object"
      ]
     },
     "execution_count": 52,
     "metadata": {},
     "output_type": "execute_result"
    }
   ],
   "source": [
    "# Visualizando target\n",
    "TARGET.head()"
   ]
  },
  {
   "cell_type": "markdown",
   "id": "6904361f-fa72-41a4-8432-c4500363d305",
   "metadata": {},
   "source": [
    "### Balanceamento dos dados"
   ]
  },
  {
   "cell_type": "code",
   "execution_count": 49,
   "id": "dcd310cd-87d1-440c-9d83-36e7177f4ee5",
   "metadata": {},
   "outputs": [
    {
     "data": {
      "text/plain": [
       "Possivel_Fraude\n",
       "Sim    44511\n",
       "Nao    35632\n",
       "Name: count, dtype: int64"
      ]
     },
     "execution_count": 49,
     "metadata": {},
     "output_type": "execute_result"
    }
   ],
   "source": [
    "# Visualizando quantidade de dados na variável target\n",
    "var_target = df_tratado.Possivel_Fraude.value_counts()\n",
    "var_target"
   ]
  },
  {
   "cell_type": "code",
   "execution_count": 53,
   "id": "f518086c-8d87-45b9-b029-6a3f7253f86d",
   "metadata": {},
   "outputs": [],
   "source": [
    "# Para reproduzir o mesmo resultado\n",
    "seed = 100\n",
    "\n",
    "# Balanceador SMOTE\n",
    "balanceador = SMOTE(random_state = seed)\n",
    "\n",
    "# Aplicando o balanceador\n",
    "PREDITORAS_RES, TARGET_RES = balanceador.fit_resample(PREDITORAS, TARGET)"
   ]
  },
  {
   "cell_type": "code",
   "execution_count": 58,
   "id": "c49d4136-3802-41bc-bf66-f06f54b82a0c",
   "metadata": {},
   "outputs": [
    {
     "data": {
      "text/plain": [
       "<Axes: title={'center': 'Possíveis Fraudes X Não Fraudes'}, xlabel='Possivel_Fraude'>"
      ]
     },
     "execution_count": 58,
     "metadata": {},
     "output_type": "execute_result"
    },
    {
     "data": {
      "image/png": "[encoded data removed]",
      "text/plain": [
       "<Figure size 500x300 with 1 Axes>"
      ]
     },
     "metadata": {},
     "output_type": "display_data"
    }
   ],
   "source": [
    "# Visualizando a varivável target balanceada\n",
    "plt.rcParams['figure.figsize'] = [5, 3]\n",
    "plt.rcParams['figure.autolayout'] = True\n",
    "TARGET_RES.value_counts().plot(kind='bar', title='Possíveis Fraudes X Não Fraudes', color=['#1F77B4', '#FF7F0E'])"
   ]
  },
  {
   "cell_type": "code",
   "execution_count": 59,
   "id": "8f572c87-cf1a-4493-a7f0-70b333c7dd90",
   "metadata": {},
   "outputs": [
    {
     "data": {
      "text/plain": [
       "(80143, 18)"
      ]
     },
     "execution_count": 59,
     "metadata": {},
     "output_type": "execute_result"
    }
   ],
   "source": [
    "# Total registros antes do balanceamento - Preditoras\n",
    "PREDITORAS.shape"
   ]
  },
  {
   "cell_type": "code",
   "execution_count": 60,
   "id": "5d0b6bc3-5dd2-47eb-9522-d0c1c4bc2a7e",
   "metadata": {},
   "outputs": [
    {
     "data": {
      "text/plain": [
       "(80143,)"
      ]
     },
     "execution_count": 60,
     "metadata": {},
     "output_type": "execute_result"
    }
   ],
   "source": [
    "# Total registros depois do balanceamento - Target\n",
    "TARGET.shape"
   ]
  },
  {
   "cell_type": "code",
   "execution_count": 61,
   "id": "1e88511d-9660-4a4b-b44a-5ea28b9d554e",
   "metadata": {},
   "outputs": [
    {
     "data": {
      "text/plain": [
       "(89022, 18)"
      ]
     },
     "execution_count": 61,
     "metadata": {},
     "output_type": "execute_result"
    }
   ],
   "source": [
    "# Total registros antes do balanceamento - Preditoras\n",
    "PREDITORAS_RES.shape"
   ]
  },
  {
   "cell_type": "code",
   "execution_count": 62,
   "id": "26cc58de-c893-49d2-a316-b87dc853f0b0",
   "metadata": {},
   "outputs": [
    {
     "data": {
      "text/plain": [
       "(89022,)"
      ]
     },
     "execution_count": 62,
     "metadata": {},
     "output_type": "execute_result"
    }
   ],
   "source": [
    "# Total registros depois do balanceamento - Target\n",
    "TARGET_RES.shape"
   ]
  },
  {
   "cell_type": "markdown",
   "id": "fe37d53f-66b7-447d-bd07-dde99d1e2698",
   "metadata": {},
   "source": [
    "#### Divisão em Treino e Teste"
   ]
  },
  {
   "cell_type": "code",
   "execution_count": 63,
   "id": "17709fc9-08e7-4b04-8a1d-862cc8774590",
   "metadata": {},
   "outputs": [],
   "source": [
    "# Divisão entre treino e teste\n",
    "X_treino, X_teste, Y_treino, Y_teste = train_test_split(PREDITORAS_RES, TARGET_RES, test_size=0.3, random_state=42)"
   ]
  },
  {
   "cell_type": "code",
   "execution_count": 64,
   "id": "69f7b76c-7a31-49dc-b909-45e2a562d6e5",
   "metadata": {},
   "outputs": [
    {
     "data": {
      "text/plain": [
       "(62315, 18)"
      ]
     },
     "execution_count": 64,
     "metadata": {},
     "output_type": "execute_result"
    }
   ],
   "source": [
    "# Verificando treino\n",
    "X_treino.shape"
   ]
  },
  {
   "cell_type": "markdown",
   "id": "d2d6c79b-fe5d-4b1a-b567-346e52191ea0",
   "metadata": {},
   "source": [
    "### Normalização as Variáveis"
   ]
  },
  {
   "cell_type": "code",
   "execution_count": 65,
   "id": "7ed145db-6109-4402-9920-a12993ffe6b2",
   "metadata": {},
   "outputs": [],
   "source": [
    "# Normalização das variáveis\n",
    "normalizador = MinMaxScaler()\n",
    "X_treino_normalizado = normalizador.fit_transform(X_treino)\n",
    "X_teste_normalizado = normalizador.transform(X_teste)"
   ]
  },
  {
   "cell_type": "code",
   "execution_count": 66,
   "id": "291d91be-1814-42a4-92e4-48b108d0bb9c",
   "metadata": {},
   "outputs": [
    {
     "data": {
      "text/plain": [
       "array([[1.        , 0.15384615, 0.52380952, ..., 1.        , 0.5       ,\n",
       "        0.        ],\n",
       "       [0.        , 0.30769231, 0.52380952, ..., 0.33333333, 0.66666667,\n",
       "        0.        ],\n",
       "       [1.        , 0.34615385, 0.38095238, ..., 0.66666667, 0.66666667,\n",
       "        0.        ],\n",
       "       ...,\n",
       "       [1.        , 0.96153846, 0.52380952, ..., 0.66666667, 0.5       ,\n",
       "        1.        ],\n",
       "       [1.        , 0.19230769, 0.52380952, ..., 1.        , 0.66666667,\n",
       "        0.        ],\n",
       "       [0.        , 0.15384615, 0.61904762, ..., 0.66666667, 0.33333333,\n",
       "        1.        ]])"
      ]
     },
     "execution_count": 66,
     "metadata": {},
     "output_type": "execute_result"
    }
   ],
   "source": [
    "# Visualizando dados normalizados\n",
    "X_treino_normalizado"
   ]
  },
  {
   "cell_type": "markdown",
   "id": "46b0bab0-bd25-49f3-b316-46db22d01238",
   "metadata": {},
   "source": [
    "### Padronização das Variáveis"
   ]
  },
  {
   "cell_type": "code",
   "execution_count": 67,
   "id": "6ab65912-5592-4f5c-a602-56758246b85f",
   "metadata": {},
   "outputs": [],
   "source": [
    "# Padronizando\n",
    "padronizador = StandardScaler()\n",
    "X_treino_padronizado = padronizador.fit_transform(X_treino)\n",
    "X_teste_padronizado = padronizador.transform(X_teste)"
   ]
  },
  {
   "cell_type": "code",
   "execution_count": 68,
   "id": "26534801-3866-4130-8cc2-1286e0285ceb",
   "metadata": {},
   "outputs": [
    {
     "data": {
      "text/plain": [
       "array([[ 0.84452433, -1.53145018, -0.40217896, ...,  1.29206431,\n",
       "         0.09190767, -0.88774635],\n",
       "       [-1.18409851, -0.99431095, -0.40217896, ..., -0.97807377,\n",
       "         0.87742768, -0.88774635],\n",
       "       [ 0.84452433, -0.86002615, -1.23927589, ...,  0.15699527,\n",
       "         0.87742768, -0.88774635],\n",
       "       ...,\n",
       "       [ 0.84452433,  1.28853077, -0.40217896, ...,  0.15699527,\n",
       "         0.09190767,  1.40392291],\n",
       "       [ 0.84452433, -1.39716537, -0.40217896, ...,  1.29206431,\n",
       "         0.87742768, -0.88774635],\n",
       "       [-1.18409851, -1.53145018,  0.15588566, ...,  0.15699527,\n",
       "        -0.69361234,  1.40392291]])"
      ]
     },
     "execution_count": 68,
     "metadata": {},
     "output_type": "execute_result"
    }
   ],
   "source": [
    "# Visualizando dados padronizados\n",
    "X_treino_padronizado"
   ]
  },
  {
   "cell_type": "markdown",
   "id": "3e51e9e1-f0af-4920-81e3-37c56bf5c0a5",
   "metadata": {},
   "source": [
    "### Encontrando o Melhor Modelo de Machine Learning\n",
    "Vamos criar, treinar e avaliar diferentes modelos de machine learning, sendo eles:\n",
    "* Random Forest\n",
    "* SVM\n",
    "* KNN"
   ]
  },
  {
   "cell_type": "markdown",
   "id": "b63a4565-fa96-4b09-8af1-fc6ff76d4d37",
   "metadata": {},
   "source": [
    "#### Random Forest"
   ]
  },
  {
   "cell_type": "code",
   "execution_count": 69,
   "id": "9ed9cdf2-18bf-4cf9-b32a-06513af4ae37",
   "metadata": {},
   "outputs": [],
   "source": [
    "# Construtor do modelo\n",
    "randomForest = RandomForestClassifier()"
   ]
  },
  {
   "cell_type": "code",
   "execution_count": 70,
   "id": "528a453d-da30-43ac-bada-348710a1b455",
   "metadata": {},
   "outputs": [
    {
     "data": {
      "text/plain": [
       "{'bootstrap': True,\n",
       " 'ccp_alpha': 0.0,\n",
       " 'class_weight': None,\n",
       " 'criterion': 'gini',\n",
       " 'max_depth': None,\n",
       " 'max_features': 'sqrt',\n",
       " 'max_leaf_nodes': None,\n",
       " 'max_samples': None,\n",
       " 'min_impurity_decrease': 0.0,\n",
       " 'min_samples_leaf': 1,\n",
       " 'min_samples_split': 2,\n",
       " 'min_weight_fraction_leaf': 0.0,\n",
       " 'monotonic_cst': None,\n",
       " 'n_estimators': 100,\n",
       " 'n_jobs': None,\n",
       " 'oob_score': False,\n",
       " 'random_state': None,\n",
       " 'verbose': 0,\n",
       " 'warm_start': False}"
      ]
     },
     "execution_count": 70,
     "metadata": {},
     "output_type": "execute_result"
    }
   ],
   "source": [
    "# Parâmetros default\n",
    "randomForest.get_params()"
   ]
  },
  {
   "cell_type": "code",
   "execution_count": null,
   "id": "2291055c-9e92-4f3e-90cb-d988a5399e20",
   "metadata": {},
   "outputs": [],
   "source": [
    "# Valores para o grid de hiperparâmetros\n",
    "n_estimators = np.array([100,200,300])\n",
    "max_depth = np.array([10,20])\n",
    "criterion = np.array([\"gini\", \"entropy\"])\n",
    "max_features = np.array([\"sqrt\", \"log2\", None])\n",
    "min_samples_split = np.array([2,5])\n",
    "min_samples_leaf = np.array([1,2,3])\n",
    "\n",
    "\n",
    "# Grid de hiperparâmetros\n",
    "grid_parametros = dict(n_estimators = n_estimators,\n",
    "                       max_depth = max_depth,\n",
    "                       criterion = criterion,\n",
    "                       max_features = max_features,\n",
    "                       min_samples_split = min_samples_split,\n",
    "                       min_samples_leaf = min_samples_leaf)\n",
    "\n",
    "# Criando o modelo com o Grid de Hiperparametros\n",
    "randomForest = GridSearchCV(RandomForestClassifier(), grid_parametros, cv=3, n_jobs=3)\n",
    "\n",
    "# Treinando os modelos\n",
    "inicio = time.time()\n",
    "randomForest.fit(X_treino_normalizado, Y_treino)\n",
    "fim = time.time()\n",
    "\n",
    "# Obtendo e visualizando os parametros treinados\n",
    "treinos_rf = pd.DataFrame(randomForest.cv_results_)\n",
    "\n",
    "# Acurácia em Treino\n",
    "print(f\"Acurácia em Treinamento: {randomForest.best_score_ :.2%}\")\n",
    "print(\"\")\n",
    "print(f\"Hiperparâmetros Ideais: {randomForest.best_params_}\")\n",
    "print(\"\")\n",
    "print(\"Tempo de Treinamento do Modelo: \", round(fim - inicio,2))\n",
    "print(\"\")\n",
    "print(\"Número de Treinamentos Realizados: \", treinos_rf.shape[0])"
   ]
  },
  {
   "cell_type": "code",
   "execution_count": null,
   "id": "246c049e-7294-44f8-a3d2-4eba201eed20",
   "metadata": {},
   "outputs": [],
   "source": [
    "# Criando o classificador com Random Forest\n",
    "clf = RandomForestClassifier(n_estimators=100, criterion='gini', max_depth=20, max_features='sqrt', min_samples_leaf=2, min_samples_split=2, n_jobs=3)\n",
    "\n",
    "# Construção do modelo\n",
    "clf = clf.fit(X_treino_normalizado, Y_treino)"
   ]
  },
  {
   "cell_type": "code",
   "execution_count": null,
   "id": "81b1b52d-b404-4066-83c2-d76fae523938",
   "metadata": {},
   "outputs": [],
   "source": [
    "# Exibindo a importância das variáveis no modelo preditivo\n",
    "plt.rcParams['figure.figsize'] = [8.00, 6.00]\n",
    "plt.rcParams['figure.autolayout'] = True\n",
    "\n",
    "importances = pd.Series(data=clf.feature_importances_, index=PREDITORAS.columns)\n",
    "importances = importances.sort_values(ascending=False)\n",
    "\n",
    "sns.barplot(x=importances, y=importances.index, orient='h').set_title('Importância de Cada Variável')\n",
    "plt.show()"
   ]
  },
  {
   "cell_type": "code",
   "execution_count": null,
   "id": "a20348ce-34f9-41d3-8800-d03c25d756be",
   "metadata": {},
   "outputs": [],
   "source": [
    "# Visualizando o percentual de importância de cada variável\n",
    "# As variáveis com percentual 0 podem ser posteriormente removidas, pois não têm importância em nosso modelo\n",
    "importances.sort_values(ascending=False)"
   ]
  },
  {
   "cell_type": "code",
   "execution_count": null,
   "id": "03d0cf5a-d29f-4df0-891a-983eb54e8f1f",
   "metadata": {},
   "outputs": [],
   "source": [
    "# Criando dicionário de métricas e metadados\n",
    "modelo_rf = {'Melhores Hiperparâmetros':randomForest.best_params_,\n",
    "            'Número de Modelos Treinados':treinos_rf.shape[0],\n",
    "            'Melhor Score':str(round(randomForest.best_score_ * 100,2))+'%'}"
   ]
  },
  {
   "cell_type": "code",
   "execution_count": null,
   "id": "f72a736c-dc69-4b5d-9179-6c834a4d3ffd",
   "metadata": {},
   "outputs": [],
   "source": [
    "modelo_rf"
   ]
  },
  {
   "cell_type": "code",
   "execution_count": null,
   "id": "7fd7009d-ffa8-49f0-8c95-56353937c20c",
   "metadata": {},
   "outputs": [],
   "source": [
    "# Criando o classificador com Random Forest\n",
    "clf = RandomForestClassifier(n_estimators=100, criterion='entropy', max_depth=20, max_features=None, min_samples_leaf=3, min_samples_split=2, n_jobs=3)\n",
    "\n",
    "# Construção do modelo\n",
    "clf = clf.fit(X_treino_normalizado, Y_treino)"
   ]
  },
  {
   "cell_type": "code",
   "execution_count": null,
   "id": "519a3452-c368-4eca-9e1c-ab3c0f3ae754",
   "metadata": {},
   "outputs": [],
   "source": [
    "# Score variável treino\n",
    "scores = clf.score(X_treino_normalizado, Y_treino)\n",
    "scores"
   ]
  },
  {
   "cell_type": "code",
   "execution_count": null,
   "id": "ba9e7220-04d0-4858-bddf-2ba616bf606a",
   "metadata": {},
   "outputs": [],
   "source": [
    "# Score variável teste\n",
    "scores = clf.score(X_teste_normalizado, Y_teste)\n",
    "scores"
   ]
  },
  {
   "cell_type": "code",
   "execution_count": null,
   "id": "818fa7f2-ab06-4195-ab39-4cfb90eecec1",
   "metadata": {},
   "outputs": [],
   "source": []
  },
  {
   "cell_type": "markdown",
   "id": "0ac74aa8-d576-491c-8d26-bb65e74789b2",
   "metadata": {},
   "source": [
    "#### SVM"
   ]
  },
  {
   "cell_type": "code",
   "execution_count": null,
   "id": "a166425e-76fa-4a3d-875e-7a92472bcd87",
   "metadata": {},
   "outputs": [],
   "source": [
    "# Construtor do modelo\n",
    "modelo_svm = SVC()"
   ]
  },
  {
   "cell_type": "code",
   "execution_count": null,
   "id": "7dda9dd6-6353-49d7-82e0-ed73fbd0294b",
   "metadata": {},
   "outputs": [],
   "source": [
    "# Parâmetros default\n",
    "modelo_svm.get_params()"
   ]
  },
  {
   "cell_type": "code",
   "execution_count": null,
   "id": "a5454bbd-a14f-497d-8092-c4c64812eddd",
   "metadata": {},
   "outputs": [],
   "source": [
    "# Valores para o grid de hiperparâmetros\n",
    "grid_parametros = {'C':[0.1, 1, 10, 100],\n",
    "                  'gamma':[1, 0.1, 0.01, 0.001],\n",
    "                  #'kernel':['poly', 'rbf', 'sigmoid', 'linear'],\n",
    "                  'degree':[2, 3, 4],\n",
    "                  'coef0':[0.5, 1],\n",
    "                  #'decision_function_shape':['ovo', 'ovr'],\n",
    "                  'max_iter':[-1,1]}\n",
    "\n",
    "svm = GridSearchCV(modelo_svm, grid_parametros, n_jobs=3)\n",
    "\n",
    "# Treinando os modelos\n",
    "inicio = time.time()\n",
    "svm.fit(X_treino_normalizado, Y_treino)\n",
    "fim = time.time()\n",
    "\n",
    "# Obtendo e visualizando os parâmetros treinoados\n",
    "treinos_svm = pd.DataFrame(svm.cv_results_)\n",
    "\n",
    "\n",
    "# Acurácia em Treino\n",
    "print(f\"Acurácia em Treinamento: {svm.best_score_ :.2%}\")\n",
    "print(\"\")\n",
    "print(f\"Hiperparâmetros Ideais: {svm.best_params_}\")\n",
    "print(\"\")\n",
    "print(\"Tempo de Treinamento do Modelo: \", round(fim - inicio,2))\n",
    "print(\"\")\n",
    "print(\"Número de Treinamentos Realizados: \", treinos_svm.shape[0])"
   ]
  },
  {
   "cell_type": "code",
   "execution_count": null,
   "id": "0b753c39-68a6-4984-8a6b-f74de491760e",
   "metadata": {},
   "outputs": [],
   "source": [
    "# Dicionário de métricas e metadados\n",
    "modelo_svm = {'Melhores Hiperparâmetros':svm.best_params_,\n",
    "               'Número de Modelos Treinados': treinos_svm.shape[0],  \n",
    "               'Melhor Score': str(round(svm.best_score_ * 100,2))+\"%\"}"
   ]
  },
  {
   "cell_type": "code",
   "execution_count": null,
   "id": "e808c8a2-f07a-462a-aff4-170184fe7126",
   "metadata": {},
   "outputs": [],
   "source": [
    "modelo_svm"
   ]
  },
  {
   "cell_type": "markdown",
   "id": "05227089-af2e-4751-8d2c-a4026b83399f",
   "metadata": {},
   "source": [
    "#### KNN"
   ]
  },
  {
   "cell_type": "code",
   "execution_count": null,
   "id": "3de19b39-9321-4af9-80f9-818fbec569b4",
   "metadata": {},
   "outputs": [],
   "source": [
    "# Classificador\n",
    "knn = KNeighborsClassifier()"
   ]
  },
  {
   "cell_type": "code",
   "execution_count": null,
   "id": "3cae5a31-4cea-416a-8c34-cfafdc1087c6",
   "metadata": {},
   "outputs": [],
   "source": [
    "# Parametros default\n",
    "knn.get_params()"
   ]
  },
  {
   "cell_type": "code",
   "execution_count": null,
   "id": "98ed99af-7395-4366-a44d-bdd6ebb32d26",
   "metadata": {},
   "outputs": [],
   "source": [
    "# Valores para o grid de hiperparametros\n",
    "n_neighbors = np.array([3, 4, 5, 6, 7])\n",
    "algorithm = np.array(['auto', 'ball_tree', 'kd_tree', 'brute'])\n",
    "leaf_size = np.array([30, 31, 32])\n",
    "metric =  np.array(['minkowski', 'euclidean'])\n",
    "\n",
    "\n",
    "# Grid de hiperparâmetros\n",
    "grid_parametros = dict(n_neighbors = n_neighbors,\n",
    "                       algorithm = algorithm,\n",
    "                       leaf_size = leaf_size,\n",
    "                       metric = metric)\n",
    "\n",
    "knn = GridSearchCV(knn, grid_parametros, n_jobs=3)\n",
    "\n",
    "# Treinando os modelos\n",
    "inicio = time.time()\n",
    "knn.fit(X_treino_normalizado, Y_treino)\n",
    "fim = time.time()\n",
    "\n",
    "# Obtendo e visualizando os parametros treinados\n",
    "treinos_knn = pd.DataFrame(knn.cv_results_)\n",
    "\n",
    "# Acurácia em Treino\n",
    "print(f\"Acurácia em Treinamento: {knn.best_score_ :.2%}\")\n",
    "print(\"\")\n",
    "print(f\"Hiperparâmetros Ideais: {knn.best_params_}\")\n",
    "print(\"\")\n",
    "print(\"Tempo de Treinamento do Modelo: \", round(fim - inicio,2))\n",
    "print(\"\")\n",
    "print(\"Número de Treinamentos Realizados: \", treinos_knn.shape[0])"
   ]
  },
  {
   "cell_type": "code",
   "execution_count": null,
   "id": "a50111c6-8e90-434b-8ecd-70d74163a097",
   "metadata": {},
   "outputs": [],
   "source": [
    "# Dicionário de métricas e metadados\n",
    "modelo_knn = {'Melhores Hiperparâmetros':knn.best_params_,\n",
    "               'Número de Modelos Treinados': treinos_knn.shape[0],  \n",
    "               'Melhor Score': str(round(knn.best_score_ * 100,2))+\"%\"}"
   ]
  },
  {
   "cell_type": "code",
   "execution_count": null,
   "id": "37ebeb5d-082b-41b8-a0f7-f24adb2059de",
   "metadata": {},
   "outputs": [],
   "source": [
    "modelo_knn"
   ]
  },
  {
   "cell_type": "code",
   "execution_count": null,
   "id": "adec8078-4e6c-4f40-8896-9c17f0c4acb8",
   "metadata": {},
   "outputs": [],
   "source": [
    "# Gerando o DataFrame com todos os valores de todos os modelos treinados\n",
    "resumo = pd.DataFrame({'Random Forest':pd.Series(modelo_rf),\n",
    "                       'SVM':pd.Series(modelo_svm),                       \n",
    "                       'KNN':pd.Series(modelo_knn)\n",
    "                      })"
   ]
  },
  {
   "cell_type": "code",
   "execution_count": null,
   "id": "84eaaef3-ddd7-4440-bfd3-2b7ed1bf9611",
   "metadata": {},
   "outputs": [],
   "source": [
    "resumo"
   ]
  },
  {
   "cell_type": "code",
   "execution_count": null,
   "id": "c782054e-e905-415e-8417-aa7b674f0a60",
   "metadata": {},
   "outputs": [],
   "source": []
  }
 ],
 "metadata": {
  "kernelspec": {
   "display_name": "Python 3 (ipykernel)",
   "language": "python",
   "name": "python3"
  },
  "language_info": {
   "codemirror_mode": {
    "name": "ipython",
    "version": 3
   },
   "file_extension": ".py",
   "mimetype": "text/x-python",
   "name": "python",
   "nbconvert_exporter": "python",
   "pygments_lexer": "ipython3",
   "version": "3.12.7"
  }
 },
 "nbformat": 4,
 "nbformat_minor": 5
}

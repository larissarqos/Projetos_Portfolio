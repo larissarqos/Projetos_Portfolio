{
 "cells": [
  {
   "cell_type": "markdown",
   "id": "c258961b-7966-4317-bb16-0076c8b000f6",
   "metadata": {},
   "source": [
    "## Modelo de Previsão de Inadimplência\n",
    "Nesse projeto, faremos um modelo de previsão de inadimplência de empréstimos imobiliários.\n",
    "- **Fonte de Dados:** SQL Server\n",
    "- **Modelo Selecionado:** Random Forest\n",
    "- **Entrega Final:** Dashboard Power BI com análise completa do perfil inadimplente + API Streamlit para fazer novas previsões"
   ]
  },
  {
   "cell_type": "markdown",
   "id": "7d6e5829-0599-49d4-9449-61801a598ccd",
   "metadata": {},
   "source": [
    "### Importação das bibliotecas necessárias"
   ]
  },
  {
   "cell_type": "code",
   "execution_count": 2,
   "id": "9d65de84-9c16-4a21-8b76-5736f87d0d3c",
   "metadata": {},
   "outputs": [],
   "source": [
    "# Imports\n",
    "import warnings\n",
    "import pandas as pd\n",
    "import matplotlib.pyplot as plt\n",
    "import seaborn as sns\n",
    "from sklearn.ensemble import RandomForestClassifier\n",
    "from sklearn.model_selection import GridSearchCV\n",
    "from sklearn.model_selection import train_test_split\n",
    "import time\n",
    "import numpy as np\n",
    "import joblib # para salvar o modelo preditivo\n",
    "from sklearn.preprocessing import LabelEncoder # para fazer o OneHotEncoding\n",
    "from sklearn.metrics import mean_squared_error, precision_score, recall_score, accuracy_score, roc_auc_score, confusion_matrix\n",
    "from imblearn.over_sampling import SMOTE # fazer o balanceamento\n",
    "from sklearn.preprocessing import MinMaxScaler # fazer a padronização\n",
    "from sklearn.metrics import r2_score # medir a acurácia\n",
    "import pyodbc\n",
    "\n",
    "warnings.filterwarnings('ignore')\n",
    "pd.set_option('display.max_columns', None)\n",
    "pd.set_option('display.max_rows', None)"
   ]
  },
  {
   "cell_type": "markdown",
   "id": "071bf6f0-1279-4fb4-b48a-03342712794c",
   "metadata": {},
   "source": [
    "### Importando dados do SQL Server"
   ]
  },
  {
   "cell_type": "code",
   "execution_count": 3,
   "id": "3aad7c2c-31f2-4873-a6eb-0973659d13ff",
   "metadata": {},
   "outputs": [],
   "source": [
    "# Importando dados\n",
    "\n",
    "# Criando conexão com SQL Server\n",
    "conexao = pyodbc.connect(\n",
    "    'DRIVER={ODBC Driver 17 for SQL Server};'\n",
    "    'SERVER=DESKTOP-CR5F8QN;'\n",
    "    'DATABASE=MODELOS_PREDITIVOS;'\n",
    "    'Trusted_Connection=yes;'\n",
    "    'TrustServerCertificate=yes;'\n",
    ")\n",
    "\n",
    "# Consulta ao banco de dados\n",
    "df = pd.read_sql_query('SELECT * FROM EXTRACAO_DADOS_SISTEMA', conexao)\n",
    "\n",
    "# Fechando conexão\n",
    "conexao.close()"
   ]
  },
  {
   "cell_type": "markdown",
   "id": "e8c3e6a2-21fa-48f8-b6cb-38cc16a3131b",
   "metadata": {},
   "source": [
    "### Análise Exploratória dos Dados\n",
    "Vamos analisar o conjunto de dados: visão geral, informações estatísticas, tipo e período dos dados"
   ]
  },
  {
   "cell_type": "code",
   "execution_count": 4,
   "id": "62b938d4-2332-43a1-95af-24fc07e46898",
   "metadata": {},
   "outputs": [
    {
     "data": {
      "text/html": [
       "<div>\n",
       "<style scoped>\n",
       "    .dataframe tbody tr th:only-of-type {\n",
       "        vertical-align: middle;\n",
       "    }\n",
       "\n",
       "    .dataframe tbody tr th {\n",
       "        vertical-align: top;\n",
       "    }\n",
       "\n",
       "    .dataframe thead th {\n",
       "        text-align: right;\n",
       "    }\n",
       "</style>\n",
       "<table border=\"1\" class=\"dataframe\">\n",
       "  <thead>\n",
       "    <tr style=\"text-align: right;\">\n",
       "      <th></th>\n",
       "      <th>NUMERO_CONTRATO</th>\n",
       "      <th>DATA_ASSINATURA_CONTRATO</th>\n",
       "      <th>TIPO_FINANCIAMENTO</th>\n",
       "      <th>TAXA_AO_ANO</th>\n",
       "      <th>PZ_FINANCIAMENTO</th>\n",
       "      <th>CIDADE_CLIENTE</th>\n",
       "      <th>ESTADO_CLIENTE</th>\n",
       "      <th>RENDA_MENSAL_CLIENTE</th>\n",
       "      <th>QT_PC_ATRASO</th>\n",
       "      <th>QT_DIAS_PRIM_PC_ATRASO</th>\n",
       "      <th>QT_TOTAL_PC_PAGAS</th>\n",
       "      <th>VL_TOTAL_PC_PAGAS</th>\n",
       "      <th>QT_PC_PAGA_EM_DIA</th>\n",
       "      <th>QT_DIAS_MIN_ATRASO</th>\n",
       "      <th>QT_DIAS_MAX_ATRASO</th>\n",
       "      <th>QT_DIAS_MEDIA_ATRASO</th>\n",
       "      <th>VALOR_FINANCIAMENTO</th>\n",
       "      <th>VALOR_PARCELA</th>\n",
       "      <th>IDADE_DATA_ASSINATURA_CONTRATO</th>\n",
       "      <th>INADIMPLENTE_COBRANCA</th>\n",
       "    </tr>\n",
       "  </thead>\n",
       "  <tbody>\n",
       "    <tr>\n",
       "      <th>0</th>\n",
       "      <td>41637</td>\n",
       "      <td>2012-03-23</td>\n",
       "      <td>IMOBILIARIO</td>\n",
       "      <td>15.0</td>\n",
       "      <td>180</td>\n",
       "      <td>FORTALEZA</td>\n",
       "      <td>CE</td>\n",
       "      <td>4800.0</td>\n",
       "      <td>0</td>\n",
       "      <td>0</td>\n",
       "      <td>97</td>\n",
       "      <td>120078.00</td>\n",
       "      <td>72</td>\n",
       "      <td>3</td>\n",
       "      <td>506</td>\n",
       "      <td>152</td>\n",
       "      <td>73767.0</td>\n",
       "      <td>471.29</td>\n",
       "      <td>70.0</td>\n",
       "      <td>SIM</td>\n",
       "    </tr>\n",
       "    <tr>\n",
       "      <th>1</th>\n",
       "      <td>67958</td>\n",
       "      <td>2012-01-24</td>\n",
       "      <td>IMOBILIARIO</td>\n",
       "      <td>15.0</td>\n",
       "      <td>200</td>\n",
       "      <td>SAO PAULO</td>\n",
       "      <td>SP</td>\n",
       "      <td>6800.0</td>\n",
       "      <td>0</td>\n",
       "      <td>0</td>\n",
       "      <td>103</td>\n",
       "      <td>156759.47</td>\n",
       "      <td>42</td>\n",
       "      <td>1</td>\n",
       "      <td>349</td>\n",
       "      <td>93</td>\n",
       "      <td>323251.0</td>\n",
       "      <td>1858.69</td>\n",
       "      <td>28.0</td>\n",
       "      <td>SIM</td>\n",
       "    </tr>\n",
       "    <tr>\n",
       "      <th>2</th>\n",
       "      <td>68502</td>\n",
       "      <td>2014-05-23</td>\n",
       "      <td>IMOBILIARIO</td>\n",
       "      <td>18.0</td>\n",
       "      <td>200</td>\n",
       "      <td>SAO PAULO</td>\n",
       "      <td>SP</td>\n",
       "      <td>6800.0</td>\n",
       "      <td>0</td>\n",
       "      <td>0</td>\n",
       "      <td>98</td>\n",
       "      <td>277125.05</td>\n",
       "      <td>83</td>\n",
       "      <td>1</td>\n",
       "      <td>151</td>\n",
       "      <td>39</td>\n",
       "      <td>529419.0</td>\n",
       "      <td>3123.57</td>\n",
       "      <td>60.0</td>\n",
       "      <td>SIM</td>\n",
       "    </tr>\n",
       "    <tr>\n",
       "      <th>3</th>\n",
       "      <td>68731</td>\n",
       "      <td>2015-10-23</td>\n",
       "      <td>IMOBILIARIO</td>\n",
       "      <td>15.0</td>\n",
       "      <td>200</td>\n",
       "      <td>SAO PAULO</td>\n",
       "      <td>SP</td>\n",
       "      <td>6800.0</td>\n",
       "      <td>0</td>\n",
       "      <td>0</td>\n",
       "      <td>87</td>\n",
       "      <td>351395.19</td>\n",
       "      <td>66</td>\n",
       "      <td>1</td>\n",
       "      <td>3797</td>\n",
       "      <td>206</td>\n",
       "      <td>499753.0</td>\n",
       "      <td>2873.58</td>\n",
       "      <td>41.0</td>\n",
       "      <td>SIM</td>\n",
       "    </tr>\n",
       "    <tr>\n",
       "      <th>4</th>\n",
       "      <td>68996</td>\n",
       "      <td>2017-01-24</td>\n",
       "      <td>IMOBILIARIO</td>\n",
       "      <td>17.0</td>\n",
       "      <td>200</td>\n",
       "      <td>SAO PAULO</td>\n",
       "      <td>SP</td>\n",
       "      <td>6800.0</td>\n",
       "      <td>0</td>\n",
       "      <td>0</td>\n",
       "      <td>71</td>\n",
       "      <td>344249.83</td>\n",
       "      <td>57</td>\n",
       "      <td>1</td>\n",
       "      <td>36</td>\n",
       "      <td>10</td>\n",
       "      <td>722057.0</td>\n",
       "      <td>4224.03</td>\n",
       "      <td>63.0</td>\n",
       "      <td>SIM</td>\n",
       "    </tr>\n",
       "  </tbody>\n",
       "</table>\n",
       "</div>"
      ],
      "text/plain": [
       "   NUMERO_CONTRATO DATA_ASSINATURA_CONTRATO TIPO_FINANCIAMENTO  TAXA_AO_ANO  \\\n",
       "0            41637               2012-03-23        IMOBILIARIO         15.0   \n",
       "1            67958               2012-01-24        IMOBILIARIO         15.0   \n",
       "2            68502               2014-05-23        IMOBILIARIO         18.0   \n",
       "3            68731               2015-10-23        IMOBILIARIO         15.0   \n",
       "4            68996               2017-01-24        IMOBILIARIO         17.0   \n",
       "\n",
       "   PZ_FINANCIAMENTO CIDADE_CLIENTE ESTADO_CLIENTE  RENDA_MENSAL_CLIENTE  \\\n",
       "0               180      FORTALEZA             CE                4800.0   \n",
       "1               200      SAO PAULO             SP                6800.0   \n",
       "2               200      SAO PAULO             SP                6800.0   \n",
       "3               200      SAO PAULO             SP                6800.0   \n",
       "4               200      SAO PAULO             SP                6800.0   \n",
       "\n",
       "   QT_PC_ATRASO  QT_DIAS_PRIM_PC_ATRASO  QT_TOTAL_PC_PAGAS  VL_TOTAL_PC_PAGAS  \\\n",
       "0             0                       0                 97          120078.00   \n",
       "1             0                       0                103          156759.47   \n",
       "2             0                       0                 98          277125.05   \n",
       "3             0                       0                 87          351395.19   \n",
       "4             0                       0                 71          344249.83   \n",
       "\n",
       "   QT_PC_PAGA_EM_DIA  QT_DIAS_MIN_ATRASO  QT_DIAS_MAX_ATRASO  \\\n",
       "0                 72                   3                 506   \n",
       "1                 42                   1                 349   \n",
       "2                 83                   1                 151   \n",
       "3                 66                   1                3797   \n",
       "4                 57                   1                  36   \n",
       "\n",
       "   QT_DIAS_MEDIA_ATRASO  VALOR_FINANCIAMENTO  VALOR_PARCELA  \\\n",
       "0                   152              73767.0         471.29   \n",
       "1                    93             323251.0        1858.69   \n",
       "2                    39             529419.0        3123.57   \n",
       "3                   206             499753.0        2873.58   \n",
       "4                    10             722057.0        4224.03   \n",
       "\n",
       "   IDADE_DATA_ASSINATURA_CONTRATO INADIMPLENTE_COBRANCA  \n",
       "0                            70.0                   SIM  \n",
       "1                            28.0                   SIM  \n",
       "2                            60.0                   SIM  \n",
       "3                            41.0                   SIM  \n",
       "4                            63.0                   SIM  "
      ]
     },
     "execution_count": 4,
     "metadata": {},
     "output_type": "execute_result"
    }
   ],
   "source": [
    "# Visualização\n",
    "df.head()"
   ]
  },
  {
   "cell_type": "code",
   "execution_count": 5,
   "id": "6fba08aa-f07b-4847-a3a5-de0f30fbef44",
   "metadata": {},
   "outputs": [
    {
     "data": {
      "text/plain": [
       "(10415, 20)"
      ]
     },
     "execution_count": 5,
     "metadata": {},
     "output_type": "execute_result"
    }
   ],
   "source": [
    "# Tamanho\n",
    "df.shape"
   ]
  },
  {
   "cell_type": "code",
   "execution_count": 6,
   "id": "cb343699-8952-475a-bf83-634c73ed7a77",
   "metadata": {},
   "outputs": [
    {
     "name": "stdout",
     "output_type": "stream",
     "text": [
      "<class 'pandas.core.frame.DataFrame'>\n",
      "RangeIndex: 10415 entries, 0 to 10414\n",
      "Data columns (total 20 columns):\n",
      " #   Column                          Non-Null Count  Dtype  \n",
      "---  ------                          --------------  -----  \n",
      " 0   NUMERO_CONTRATO                 10415 non-null  int64  \n",
      " 1   DATA_ASSINATURA_CONTRATO        10415 non-null  object \n",
      " 2   TIPO_FINANCIAMENTO              10415 non-null  object \n",
      " 3   TAXA_AO_ANO                     10415 non-null  float64\n",
      " 4   PZ_FINANCIAMENTO                10415 non-null  int64  \n",
      " 5   CIDADE_CLIENTE                  10415 non-null  object \n",
      " 6   ESTADO_CLIENTE                  10415 non-null  object \n",
      " 7   RENDA_MENSAL_CLIENTE            10415 non-null  float64\n",
      " 8   QT_PC_ATRASO                    10415 non-null  int64  \n",
      " 9   QT_DIAS_PRIM_PC_ATRASO          10415 non-null  int64  \n",
      " 10  QT_TOTAL_PC_PAGAS               10415 non-null  int64  \n",
      " 11  VL_TOTAL_PC_PAGAS               10411 non-null  float64\n",
      " 12  QT_PC_PAGA_EM_DIA               10415 non-null  int64  \n",
      " 13  QT_DIAS_MIN_ATRASO              10415 non-null  int64  \n",
      " 14  QT_DIAS_MAX_ATRASO              10415 non-null  int64  \n",
      " 15  QT_DIAS_MEDIA_ATRASO            10415 non-null  int64  \n",
      " 16  VALOR_FINANCIAMENTO             10415 non-null  float64\n",
      " 17  VALOR_PARCELA                   10415 non-null  float64\n",
      " 18  IDADE_DATA_ASSINATURA_CONTRATO  10414 non-null  float64\n",
      " 19  INADIMPLENTE_COBRANCA           10415 non-null  object \n",
      "dtypes: float64(6), int64(9), object(5)\n",
      "memory usage: 1.6+ MB\n"
     ]
    }
   ],
   "source": [
    "# Tipo dos dados\n",
    "df.info()"
   ]
  },
  {
   "cell_type": "code",
   "execution_count": 7,
   "id": "9cca338f-dc21-4946-a0bd-12fc64a8f0a9",
   "metadata": {},
   "outputs": [
    {
     "data": {
      "text/html": [
       "<div>\n",
       "<style scoped>\n",
       "    .dataframe tbody tr th:only-of-type {\n",
       "        vertical-align: middle;\n",
       "    }\n",
       "\n",
       "    .dataframe tbody tr th {\n",
       "        vertical-align: top;\n",
       "    }\n",
       "\n",
       "    .dataframe thead th {\n",
       "        text-align: right;\n",
       "    }\n",
       "</style>\n",
       "<table border=\"1\" class=\"dataframe\">\n",
       "  <thead>\n",
       "    <tr style=\"text-align: right;\">\n",
       "      <th></th>\n",
       "      <th>NUMERO_CONTRATO</th>\n",
       "      <th>TAXA_AO_ANO</th>\n",
       "      <th>PZ_FINANCIAMENTO</th>\n",
       "      <th>RENDA_MENSAL_CLIENTE</th>\n",
       "      <th>QT_PC_ATRASO</th>\n",
       "      <th>QT_DIAS_PRIM_PC_ATRASO</th>\n",
       "      <th>QT_TOTAL_PC_PAGAS</th>\n",
       "      <th>VL_TOTAL_PC_PAGAS</th>\n",
       "      <th>QT_PC_PAGA_EM_DIA</th>\n",
       "      <th>QT_DIAS_MIN_ATRASO</th>\n",
       "      <th>QT_DIAS_MAX_ATRASO</th>\n",
       "      <th>QT_DIAS_MEDIA_ATRASO</th>\n",
       "      <th>VALOR_FINANCIAMENTO</th>\n",
       "      <th>VALOR_PARCELA</th>\n",
       "      <th>IDADE_DATA_ASSINATURA_CONTRATO</th>\n",
       "    </tr>\n",
       "  </thead>\n",
       "  <tbody>\n",
       "    <tr>\n",
       "      <th>count</th>\n",
       "      <td>10415.000000</td>\n",
       "      <td>10415.000000</td>\n",
       "      <td>10415.000000</td>\n",
       "      <td>10415.000000</td>\n",
       "      <td>10415.000000</td>\n",
       "      <td>10415.000000</td>\n",
       "      <td>10415.000000</td>\n",
       "      <td>10411.000000</td>\n",
       "      <td>10415.000000</td>\n",
       "      <td>10415.000000</td>\n",
       "      <td>10415.000000</td>\n",
       "      <td>10415.000000</td>\n",
       "      <td>1.041500e+04</td>\n",
       "      <td>10415.000000</td>\n",
       "      <td>10414.000000</td>\n",
       "    </tr>\n",
       "    <tr>\n",
       "      <th>mean</th>\n",
       "      <td>95569.356889</td>\n",
       "      <td>17.271483</td>\n",
       "      <td>114.242535</td>\n",
       "      <td>5620.259241</td>\n",
       "      <td>16.716179</td>\n",
       "      <td>664.389438</td>\n",
       "      <td>35.946711</td>\n",
       "      <td>44528.545631</td>\n",
       "      <td>27.667115</td>\n",
       "      <td>6.115699</td>\n",
       "      <td>79.133845</td>\n",
       "      <td>28.841863</td>\n",
       "      <td>3.255909e+05</td>\n",
       "      <td>3617.341097</td>\n",
       "      <td>40.789418</td>\n",
       "    </tr>\n",
       "    <tr>\n",
       "      <th>std</th>\n",
       "      <td>34561.658949</td>\n",
       "      <td>2.566596</td>\n",
       "      <td>64.330109</td>\n",
       "      <td>2930.301113</td>\n",
       "      <td>30.706681</td>\n",
       "      <td>1181.352716</td>\n",
       "      <td>28.384415</td>\n",
       "      <td>65640.970502</td>\n",
       "      <td>25.153443</td>\n",
       "      <td>82.908021</td>\n",
       "      <td>334.871089</td>\n",
       "      <td>137.395374</td>\n",
       "      <td>1.774775e+05</td>\n",
       "      <td>1932.714754</td>\n",
       "      <td>12.390906</td>\n",
       "    </tr>\n",
       "    <tr>\n",
       "      <th>min</th>\n",
       "      <td>32709.000000</td>\n",
       "      <td>7.000000</td>\n",
       "      <td>48.000000</td>\n",
       "      <td>1800.000000</td>\n",
       "      <td>0.000000</td>\n",
       "      <td>0.000000</td>\n",
       "      <td>0.000000</td>\n",
       "      <td>0.010000</td>\n",
       "      <td>0.000000</td>\n",
       "      <td>0.000000</td>\n",
       "      <td>0.000000</td>\n",
       "      <td>0.000000</td>\n",
       "      <td>2.932700e+04</td>\n",
       "      <td>185.740000</td>\n",
       "      <td>0.000000</td>\n",
       "    </tr>\n",
       "    <tr>\n",
       "      <th>25%</th>\n",
       "      <td>75868.500000</td>\n",
       "      <td>16.000000</td>\n",
       "      <td>72.000000</td>\n",
       "      <td>1800.000000</td>\n",
       "      <td>0.000000</td>\n",
       "      <td>0.000000</td>\n",
       "      <td>11.000000</td>\n",
       "      <td>8675.445000</td>\n",
       "      <td>7.000000</td>\n",
       "      <td>0.000000</td>\n",
       "      <td>0.000000</td>\n",
       "      <td>0.000000</td>\n",
       "      <td>2.100000e+05</td>\n",
       "      <td>2467.755000</td>\n",
       "      <td>31.250000</td>\n",
       "    </tr>\n",
       "    <tr>\n",
       "      <th>50%</th>\n",
       "      <td>79111.000000</td>\n",
       "      <td>17.000000</td>\n",
       "      <td>72.000000</td>\n",
       "      <td>7800.000000</td>\n",
       "      <td>0.000000</td>\n",
       "      <td>0.000000</td>\n",
       "      <td>33.000000</td>\n",
       "      <td>24345.600000</td>\n",
       "      <td>22.000000</td>\n",
       "      <td>1.000000</td>\n",
       "      <td>8.000000</td>\n",
       "      <td>4.000000</td>\n",
       "      <td>2.800000e+05</td>\n",
       "      <td>3470.590000</td>\n",
       "      <td>39.000000</td>\n",
       "    </tr>\n",
       "    <tr>\n",
       "      <th>75%</th>\n",
       "      <td>136637.500000</td>\n",
       "      <td>19.000000</td>\n",
       "      <td>180.000000</td>\n",
       "      <td>7800.000000</td>\n",
       "      <td>22.000000</td>\n",
       "      <td>1005.500000</td>\n",
       "      <td>54.000000</td>\n",
       "      <td>46787.290000</td>\n",
       "      <td>42.000000</td>\n",
       "      <td>3.000000</td>\n",
       "      <td>62.000000</td>\n",
       "      <td>22.000000</td>\n",
       "      <td>3.929738e+05</td>\n",
       "      <td>4930.245000</td>\n",
       "      <td>49.000000</td>\n",
       "    </tr>\n",
       "    <tr>\n",
       "      <th>max</th>\n",
       "      <td>155890.000000</td>\n",
       "      <td>25.500000</td>\n",
       "      <td>240.000000</td>\n",
       "      <td>9800.000000</td>\n",
       "      <td>178.000000</td>\n",
       "      <td>5655.000000</td>\n",
       "      <td>167.000000</td>\n",
       "      <td>714499.740000</td>\n",
       "      <td>136.000000</td>\n",
       "      <td>5465.000000</td>\n",
       "      <td>5710.000000</td>\n",
       "      <td>5480.000000</td>\n",
       "      <td>1.400000e+06</td>\n",
       "      <td>14410.000000</td>\n",
       "      <td>118.000000</td>\n",
       "    </tr>\n",
       "  </tbody>\n",
       "</table>\n",
       "</div>"
      ],
      "text/plain": [
       "       NUMERO_CONTRATO   TAXA_AO_ANO  PZ_FINANCIAMENTO  RENDA_MENSAL_CLIENTE  \\\n",
       "count     10415.000000  10415.000000      10415.000000          10415.000000   \n",
       "mean      95569.356889     17.271483        114.242535           5620.259241   \n",
       "std       34561.658949      2.566596         64.330109           2930.301113   \n",
       "min       32709.000000      7.000000         48.000000           1800.000000   \n",
       "25%       75868.500000     16.000000         72.000000           1800.000000   \n",
       "50%       79111.000000     17.000000         72.000000           7800.000000   \n",
       "75%      136637.500000     19.000000        180.000000           7800.000000   \n",
       "max      155890.000000     25.500000        240.000000           9800.000000   \n",
       "\n",
       "       QT_PC_ATRASO  QT_DIAS_PRIM_PC_ATRASO  QT_TOTAL_PC_PAGAS  \\\n",
       "count  10415.000000            10415.000000       10415.000000   \n",
       "mean      16.716179              664.389438          35.946711   \n",
       "std       30.706681             1181.352716          28.384415   \n",
       "min        0.000000                0.000000           0.000000   \n",
       "25%        0.000000                0.000000          11.000000   \n",
       "50%        0.000000                0.000000          33.000000   \n",
       "75%       22.000000             1005.500000          54.000000   \n",
       "max      178.000000             5655.000000         167.000000   \n",
       "\n",
       "       VL_TOTAL_PC_PAGAS  QT_PC_PAGA_EM_DIA  QT_DIAS_MIN_ATRASO  \\\n",
       "count       10411.000000       10415.000000        10415.000000   \n",
       "mean        44528.545631          27.667115            6.115699   \n",
       "std         65640.970502          25.153443           82.908021   \n",
       "min             0.010000           0.000000            0.000000   \n",
       "25%          8675.445000           7.000000            0.000000   \n",
       "50%         24345.600000          22.000000            1.000000   \n",
       "75%         46787.290000          42.000000            3.000000   \n",
       "max        714499.740000         136.000000         5465.000000   \n",
       "\n",
       "       QT_DIAS_MAX_ATRASO  QT_DIAS_MEDIA_ATRASO  VALOR_FINANCIAMENTO  \\\n",
       "count        10415.000000          10415.000000         1.041500e+04   \n",
       "mean            79.133845             28.841863         3.255909e+05   \n",
       "std            334.871089            137.395374         1.774775e+05   \n",
       "min              0.000000              0.000000         2.932700e+04   \n",
       "25%              0.000000              0.000000         2.100000e+05   \n",
       "50%              8.000000              4.000000         2.800000e+05   \n",
       "75%             62.000000             22.000000         3.929738e+05   \n",
       "max           5710.000000           5480.000000         1.400000e+06   \n",
       "\n",
       "       VALOR_PARCELA  IDADE_DATA_ASSINATURA_CONTRATO  \n",
       "count   10415.000000                    10414.000000  \n",
       "mean     3617.341097                       40.789418  \n",
       "std      1932.714754                       12.390906  \n",
       "min       185.740000                        0.000000  \n",
       "25%      2467.755000                       31.250000  \n",
       "50%      3470.590000                       39.000000  \n",
       "75%      4930.245000                       49.000000  \n",
       "max     14410.000000                      118.000000  "
      ]
     },
     "execution_count": 7,
     "metadata": {},
     "output_type": "execute_result"
    }
   ],
   "source": [
    "# Informações estatísticas\n",
    "df.describe()"
   ]
  },
  {
   "cell_type": "code",
   "execution_count": 8,
   "id": "c8ecc07a-32ae-425a-b2f4-10f9dbcca025",
   "metadata": {
    "scrolled": true
   },
   "outputs": [
    {
     "data": {
      "text/plain": [
       "NUMERO_CONTRATO                   0\n",
       "DATA_ASSINATURA_CONTRATO          0\n",
       "TIPO_FINANCIAMENTO                0\n",
       "TAXA_AO_ANO                       0\n",
       "PZ_FINANCIAMENTO                  0\n",
       "CIDADE_CLIENTE                    0\n",
       "ESTADO_CLIENTE                    0\n",
       "RENDA_MENSAL_CLIENTE              0\n",
       "QT_PC_ATRASO                      0\n",
       "QT_DIAS_PRIM_PC_ATRASO            0\n",
       "QT_TOTAL_PC_PAGAS                 0\n",
       "VL_TOTAL_PC_PAGAS                 4\n",
       "QT_PC_PAGA_EM_DIA                 0\n",
       "QT_DIAS_MIN_ATRASO                0\n",
       "QT_DIAS_MAX_ATRASO                0\n",
       "QT_DIAS_MEDIA_ATRASO              0\n",
       "VALOR_FINANCIAMENTO               0\n",
       "VALOR_PARCELA                     0\n",
       "IDADE_DATA_ASSINATURA_CONTRATO    1\n",
       "INADIMPLENTE_COBRANCA             0\n",
       "dtype: int64"
      ]
     },
     "execution_count": 8,
     "metadata": {},
     "output_type": "execute_result"
    }
   ],
   "source": [
    "# Valores nulos\n",
    "# Como há apenas 5 valores nulos, eles serão excluídos na fase de tratamento dos dados\n",
    "df.isnull().sum()"
   ]
  },
  {
   "cell_type": "code",
   "execution_count": 9,
   "id": "0cf0dc2e-11d0-40c3-aea7-4384fc43b007",
   "metadata": {},
   "outputs": [
    {
     "data": {
      "text/plain": [
       "0"
      ]
     },
     "execution_count": 9,
     "metadata": {},
     "output_type": "execute_result"
    }
   ],
   "source": [
    "# Valores duplicados\n",
    "# Não há valores duplicados\n",
    "df.duplicated().sum()"
   ]
  },
  {
   "cell_type": "code",
   "execution_count": 10,
   "id": "030f3a67-ec48-492f-bff5-51f44a9ee4cc",
   "metadata": {},
   "outputs": [
    {
     "name": "stdout",
     "output_type": "stream",
     "text": [
      "Período dos dados: 2012-01-10 a 2022-11-14\n"
     ]
    }
   ],
   "source": [
    "# Período dos dados\n",
    "inicio = pd.to_datetime(df['DATA_ASSINATURA_CONTRATO']).dt.date.min()\n",
    "fim = pd.to_datetime(df['DATA_ASSINATURA_CONTRATO']).dt.date.max()\n",
    "print('Período dos dados:', inicio,'a',fim)"
   ]
  },
  {
   "cell_type": "code",
   "execution_count": 11,
   "id": "d2a102cf-78f3-4aba-ab00-7b56ea562beb",
   "metadata": {},
   "outputs": [
    {
     "name": "stdout",
     "output_type": "stream",
     "text": [
      "NUMERO_CONTRATO : 10415\n",
      "DATA_ASSINATURA_CONTRATO : 1070\n",
      "TIPO_FINANCIAMENTO : 1\n",
      "TAXA_AO_ANO : 111\n",
      "PZ_FINANCIAMENTO : 9\n",
      "CIDADE_CLIENTE : 525\n",
      "ESTADO_CLIENTE : 27\n",
      "RENDA_MENSAL_CLIENTE : 7\n",
      "QT_PC_ATRASO : 130\n",
      "QT_DIAS_PRIM_PC_ATRASO : 227\n",
      "QT_TOTAL_PC_PAGAS : 137\n",
      "VL_TOTAL_PC_PAGAS : 9861\n",
      "QT_PC_PAGA_EM_DIA : 129\n",
      "QT_DIAS_MIN_ATRASO : 122\n",
      "QT_DIAS_MAX_ATRASO : 534\n",
      "QT_DIAS_MEDIA_ATRASO : 323\n",
      "VALOR_FINANCIAMENTO : 834\n",
      "VALOR_PARCELA : 1826\n",
      "IDADE_DATA_ASSINATURA_CONTRATO : 79\n",
      "INADIMPLENTE_COBRANCA : 2\n"
     ]
    }
   ],
   "source": [
    "# Valores únicos por variável\n",
    "var_unicos = []\n",
    "for i in df.columns[0:20].tolist():\n",
    "    print(i, ':', len(df[i].astype(str).value_counts()))\n",
    "    var_unicos.append(len(df[i].astype(str).value_counts()))"
   ]
  },
  {
   "cell_type": "code",
   "execution_count": 12,
   "id": "a56dbb9a-2736-432b-96fa-dcc6eaf7de24",
   "metadata": {},
   "outputs": [
    {
     "name": "stdout",
     "output_type": "stream",
     "text": [
      "Valor mínimo: 29327.0\n",
      "Valor máximo: 1400000.0\n"
     ]
    }
   ],
   "source": [
    "# Valores mínimo e máximo de VALOR_FINANCIAMENTO\n",
    "print('Valor mínimo:', df['VALOR_FINANCIAMENTO'].min())\n",
    "print('Valor máximo:', df['VALOR_FINANCIAMENTO'].max())"
   ]
  },
  {
   "cell_type": "code",
   "execution_count": 13,
   "id": "1638ed14-a74b-4425-be09-fac13947a3e9",
   "metadata": {},
   "outputs": [],
   "source": [
    "# Exclusão de valores nulos\n",
    "# Como há apenas 5 valores nulos, vamos excluí-los, pois não terá impacto nos dados, dado o tamanho do dataframe\n",
    "df.dropna(inplace=True)"
   ]
  },
  {
   "cell_type": "markdown",
   "id": "840daccd-f085-441f-8b57-73bbcc226ad7",
   "metadata": {},
   "source": [
    "### Avaliando os tipos de dados nas variáveis\n",
    "Aplicaremos groupby para analisar o total de cada tipo de informação nas variáveis"
   ]
  },
  {
   "cell_type": "code",
   "execution_count": 14,
   "id": "e9d1ade0-4abe-4687-833b-411a69a0464d",
   "metadata": {},
   "outputs": [
    {
     "data": {
      "text/plain": [
       "INADIMPLENTE_COBRANCA\n",
       "NAO    2375\n",
       "SIM    8035\n",
       "dtype: int64"
      ]
     },
     "execution_count": 14,
     "metadata": {},
     "output_type": "execute_result"
    }
   ],
   "source": [
    "# Se inadimplente (variável target)\n",
    "df.groupby(['INADIMPLENTE_COBRANCA']).size()"
   ]
  },
  {
   "cell_type": "code",
   "execution_count": 15,
   "id": "6af1dfa2-f2d5-4df9-8bcf-7bb0c77ac125",
   "metadata": {},
   "outputs": [
    {
     "data": {
      "text/plain": [
       "PZ_FINANCIAMENTO\n",
       "48      343\n",
       "72     6121\n",
       "100     938\n",
       "160       2\n",
       "180     765\n",
       "194       2\n",
       "200     558\n",
       "220     773\n",
       "240     908\n",
       "dtype: int64"
      ]
     },
     "execution_count": 15,
     "metadata": {},
     "output_type": "execute_result"
    }
   ],
   "source": [
    "# Prazo do refinanciamento\n",
    "df.groupby(['PZ_FINANCIAMENTO']).size()"
   ]
  },
  {
   "cell_type": "code",
   "execution_count": 16,
   "id": "8aaa46a0-0c27-4a97-b593-496836d41aa2",
   "metadata": {},
   "outputs": [
    {
     "data": {
      "text/plain": [
       "RENDA_MENSAL_CLIENTE\n",
       "1800.0    3511\n",
       "3800.0      33\n",
       "4800.0     416\n",
       "5800.0    1038\n",
       "6800.0     130\n",
       "7800.0    4303\n",
       "9800.0     979\n",
       "dtype: int64"
      ]
     },
     "execution_count": 16,
     "metadata": {},
     "output_type": "execute_result"
    }
   ],
   "source": [
    "# Renda mensal\n",
    "df.groupby(['RENDA_MENSAL_CLIENTE']).size()"
   ]
  },
  {
   "cell_type": "markdown",
   "id": "40f07ec4-7e97-4635-8d80-91998bb6ce0d",
   "metadata": {},
   "source": [
    "### Engenharia de Atributos\n",
    "Criando faixas de valor para prazo de financiamento e valor de financiamento"
   ]
  },
  {
   "cell_type": "code",
   "execution_count": 17,
   "id": "7fe7570a-a827-4731-975f-91a0426a0a5d",
   "metadata": {},
   "outputs": [
    {
     "data": {
      "text/plain": [
       "FAIXA_PRAZO_FINANCIAMENTO\n",
       "Até 120 meses        7402\n",
       "181 até 240 meses    2241\n",
       "121 até 180 meses     767\n",
       "Name: count, dtype: int64"
      ]
     },
     "execution_count": 17,
     "metadata": {},
     "output_type": "execute_result"
    }
   ],
   "source": [
    "# Criando faixa de prazos\n",
    "bins = [-1, 120, 180, 240]\n",
    "labels = ['Até 120 meses', '121 até 180 meses', '181 até 240 meses']\n",
    "df['FAIXA_PRAZO_FINANCIAMENTO'] = pd.cut(df['PZ_FINANCIAMENTO'], bins=bins, labels=labels)\n",
    "pd.value_counts(df.FAIXA_PRAZO_FINANCIAMENTO)"
   ]
  },
  {
   "cell_type": "code",
   "execution_count": 18,
   "id": "615b9c3d-ad7b-48b5-b858-c72dfd6ad063",
   "metadata": {},
   "outputs": [
    {
     "data": {
      "text/plain": [
       "FAIXA_VALOR_FINANCIADO\n",
       "201 até 300 mil         3949\n",
       "301 até 400 mil         2098\n",
       "101 até 200 mil         1823\n",
       "401 até 500 mil         1128\n",
       "501 até 750 mil          915\n",
       "750 mil até 1 milhão     236\n",
       "Até 100 mil              167\n",
       "Acima de 1 milhão         94\n",
       "Name: count, dtype: int64"
      ]
     },
     "execution_count": 18,
     "metadata": {},
     "output_type": "execute_result"
    }
   ],
   "source": [
    "# Criando faixa de valor financiado\n",
    "bins = [-1, 100000, 200000, 300000, 400000, 500000, 750000, 1000000, 900000000]\n",
    "labels = ['Até 100 mil', '101 até 200 mil', '201 até 300 mil', '301 até 400 mil',\n",
    "          '401 até 500 mil', '501 até 750 mil', '750 mil até 1 milhão', 'Acima de 1 milhão']\n",
    "df['FAIXA_VALOR_FINANCIADO'] = pd.cut(df['VALOR_FINANCIAMENTO'], bins=bins, labels=labels)\n",
    "pd.value_counts(df.FAIXA_VALOR_FINANCIADO)"
   ]
  },
  {
   "cell_type": "markdown",
   "id": "e11243f0-ee71-4cde-9d1e-016982f5bab1",
   "metadata": {},
   "source": [
    "### Selecionando variáveis que iremos utilizar\n",
    "Vamos criar um novo dataframe apenas com as variáveis que iremos utilizar em nosso modelo. Descartaremos:\n",
    "* TIPO_FINANCIAMENTO (só há 1 tipo)\n",
    "* VALOR_FINANCIAMENTO E PRAZO FINANCIAMENTO (usaremos as faixas de valor criadas com base nessas variáveis)\n",
    "* NUMERO_CONTRATO e DATA_ASSINATURA_CONTRATO (não serão últeis para nosso modelo preditivo)"
   ]
  },
  {
   "cell_type": "code",
   "execution_count": 19,
   "id": "509f3e10-4129-4335-8aca-63602375cfe2",
   "metadata": {},
   "outputs": [],
   "source": [
    "# Selecionando colunas\n",
    "columns = ['TAXA_AO_ANO', 'CIDADE_CLIENTE', 'ESTADO_CLIENTE','RENDA_MENSAL_CLIENTE', \n",
    "           'QT_PC_ATRASO', 'QT_DIAS_PRIM_PC_ATRASO','QT_TOTAL_PC_PAGAS',\n",
    "           'VL_TOTAL_PC_PAGAS', 'QT_PC_PAGA_EM_DIA','QT_DIAS_MIN_ATRASO',\n",
    "           'QT_DIAS_MAX_ATRASO', 'QT_DIAS_MEDIA_ATRASO','VALOR_PARCELA',\n",
    "           'IDADE_DATA_ASSINATURA_CONTRATO', 'FAIXA_VALOR_FINANCIADO',\n",
    "           'FAIXA_PRAZO_FINANCIAMENTO','INADIMPLENTE_COBRANCA']\n",
    "\n",
    "df_tratado = pd.DataFrame(df, columns=columns)"
   ]
  },
  {
   "cell_type": "code",
   "execution_count": 20,
   "id": "314370e2-acac-4a16-89d6-915b5e681e33",
   "metadata": {},
   "outputs": [
    {
     "data": {
      "text/html": [
       "<div>\n",
       "<style scoped>\n",
       "    .dataframe tbody tr th:only-of-type {\n",
       "        vertical-align: middle;\n",
       "    }\n",
       "\n",
       "    .dataframe tbody tr th {\n",
       "        vertical-align: top;\n",
       "    }\n",
       "\n",
       "    .dataframe thead th {\n",
       "        text-align: right;\n",
       "    }\n",
       "</style>\n",
       "<table border=\"1\" class=\"dataframe\">\n",
       "  <thead>\n",
       "    <tr style=\"text-align: right;\">\n",
       "      <th></th>\n",
       "      <th>TAXA_AO_ANO</th>\n",
       "      <th>CIDADE_CLIENTE</th>\n",
       "      <th>ESTADO_CLIENTE</th>\n",
       "      <th>RENDA_MENSAL_CLIENTE</th>\n",
       "      <th>QT_PC_ATRASO</th>\n",
       "      <th>QT_DIAS_PRIM_PC_ATRASO</th>\n",
       "      <th>QT_TOTAL_PC_PAGAS</th>\n",
       "      <th>VL_TOTAL_PC_PAGAS</th>\n",
       "      <th>QT_PC_PAGA_EM_DIA</th>\n",
       "      <th>QT_DIAS_MIN_ATRASO</th>\n",
       "      <th>QT_DIAS_MAX_ATRASO</th>\n",
       "      <th>QT_DIAS_MEDIA_ATRASO</th>\n",
       "      <th>VALOR_PARCELA</th>\n",
       "      <th>IDADE_DATA_ASSINATURA_CONTRATO</th>\n",
       "      <th>FAIXA_VALOR_FINANCIADO</th>\n",
       "      <th>FAIXA_PRAZO_FINANCIAMENTO</th>\n",
       "      <th>INADIMPLENTE_COBRANCA</th>\n",
       "    </tr>\n",
       "  </thead>\n",
       "  <tbody>\n",
       "    <tr>\n",
       "      <th>0</th>\n",
       "      <td>15.0</td>\n",
       "      <td>FORTALEZA</td>\n",
       "      <td>CE</td>\n",
       "      <td>4800.0</td>\n",
       "      <td>0</td>\n",
       "      <td>0</td>\n",
       "      <td>97</td>\n",
       "      <td>120078.00</td>\n",
       "      <td>72</td>\n",
       "      <td>3</td>\n",
       "      <td>506</td>\n",
       "      <td>152</td>\n",
       "      <td>471.29</td>\n",
       "      <td>70.0</td>\n",
       "      <td>Até 100 mil</td>\n",
       "      <td>121 até 180 meses</td>\n",
       "      <td>SIM</td>\n",
       "    </tr>\n",
       "    <tr>\n",
       "      <th>1</th>\n",
       "      <td>15.0</td>\n",
       "      <td>SAO PAULO</td>\n",
       "      <td>SP</td>\n",
       "      <td>6800.0</td>\n",
       "      <td>0</td>\n",
       "      <td>0</td>\n",
       "      <td>103</td>\n",
       "      <td>156759.47</td>\n",
       "      <td>42</td>\n",
       "      <td>1</td>\n",
       "      <td>349</td>\n",
       "      <td>93</td>\n",
       "      <td>1858.69</td>\n",
       "      <td>28.0</td>\n",
       "      <td>301 até 400 mil</td>\n",
       "      <td>181 até 240 meses</td>\n",
       "      <td>SIM</td>\n",
       "    </tr>\n",
       "    <tr>\n",
       "      <th>2</th>\n",
       "      <td>18.0</td>\n",
       "      <td>SAO PAULO</td>\n",
       "      <td>SP</td>\n",
       "      <td>6800.0</td>\n",
       "      <td>0</td>\n",
       "      <td>0</td>\n",
       "      <td>98</td>\n",
       "      <td>277125.05</td>\n",
       "      <td>83</td>\n",
       "      <td>1</td>\n",
       "      <td>151</td>\n",
       "      <td>39</td>\n",
       "      <td>3123.57</td>\n",
       "      <td>60.0</td>\n",
       "      <td>501 até 750 mil</td>\n",
       "      <td>181 até 240 meses</td>\n",
       "      <td>SIM</td>\n",
       "    </tr>\n",
       "    <tr>\n",
       "      <th>3</th>\n",
       "      <td>15.0</td>\n",
       "      <td>SAO PAULO</td>\n",
       "      <td>SP</td>\n",
       "      <td>6800.0</td>\n",
       "      <td>0</td>\n",
       "      <td>0</td>\n",
       "      <td>87</td>\n",
       "      <td>351395.19</td>\n",
       "      <td>66</td>\n",
       "      <td>1</td>\n",
       "      <td>3797</td>\n",
       "      <td>206</td>\n",
       "      <td>2873.58</td>\n",
       "      <td>41.0</td>\n",
       "      <td>401 até 500 mil</td>\n",
       "      <td>181 até 240 meses</td>\n",
       "      <td>SIM</td>\n",
       "    </tr>\n",
       "    <tr>\n",
       "      <th>4</th>\n",
       "      <td>17.0</td>\n",
       "      <td>SAO PAULO</td>\n",
       "      <td>SP</td>\n",
       "      <td>6800.0</td>\n",
       "      <td>0</td>\n",
       "      <td>0</td>\n",
       "      <td>71</td>\n",
       "      <td>344249.83</td>\n",
       "      <td>57</td>\n",
       "      <td>1</td>\n",
       "      <td>36</td>\n",
       "      <td>10</td>\n",
       "      <td>4224.03</td>\n",
       "      <td>63.0</td>\n",
       "      <td>501 até 750 mil</td>\n",
       "      <td>181 até 240 meses</td>\n",
       "      <td>SIM</td>\n",
       "    </tr>\n",
       "  </tbody>\n",
       "</table>\n",
       "</div>"
      ],
      "text/plain": [
       "   TAXA_AO_ANO CIDADE_CLIENTE ESTADO_CLIENTE  RENDA_MENSAL_CLIENTE  \\\n",
       "0         15.0      FORTALEZA             CE                4800.0   \n",
       "1         15.0      SAO PAULO             SP                6800.0   \n",
       "2         18.0      SAO PAULO             SP                6800.0   \n",
       "3         15.0      SAO PAULO             SP                6800.0   \n",
       "4         17.0      SAO PAULO             SP                6800.0   \n",
       "\n",
       "   QT_PC_ATRASO  QT_DIAS_PRIM_PC_ATRASO  QT_TOTAL_PC_PAGAS  VL_TOTAL_PC_PAGAS  \\\n",
       "0             0                       0                 97          120078.00   \n",
       "1             0                       0                103          156759.47   \n",
       "2             0                       0                 98          277125.05   \n",
       "3             0                       0                 87          351395.19   \n",
       "4             0                       0                 71          344249.83   \n",
       "\n",
       "   QT_PC_PAGA_EM_DIA  QT_DIAS_MIN_ATRASO  QT_DIAS_MAX_ATRASO  \\\n",
       "0                 72                   3                 506   \n",
       "1                 42                   1                 349   \n",
       "2                 83                   1                 151   \n",
       "3                 66                   1                3797   \n",
       "4                 57                   1                  36   \n",
       "\n",
       "   QT_DIAS_MEDIA_ATRASO  VALOR_PARCELA  IDADE_DATA_ASSINATURA_CONTRATO  \\\n",
       "0                   152         471.29                            70.0   \n",
       "1                    93        1858.69                            28.0   \n",
       "2                    39        3123.57                            60.0   \n",
       "3                   206        2873.58                            41.0   \n",
       "4                    10        4224.03                            63.0   \n",
       "\n",
       "  FAIXA_VALOR_FINANCIADO FAIXA_PRAZO_FINANCIAMENTO INADIMPLENTE_COBRANCA  \n",
       "0            Até 100 mil         121 até 180 meses                   SIM  \n",
       "1        301 até 400 mil         181 até 240 meses                   SIM  \n",
       "2        501 até 750 mil         181 até 240 meses                   SIM  \n",
       "3        401 até 500 mil         181 até 240 meses                   SIM  \n",
       "4        501 até 750 mil         181 até 240 meses                   SIM  "
      ]
     },
     "execution_count": 20,
     "metadata": {},
     "output_type": "execute_result"
    }
   ],
   "source": [
    "# Visualização\n",
    "df_tratado.head()"
   ]
  },
  {
   "cell_type": "code",
   "execution_count": 21,
   "id": "bd80971e-a665-49d9-81d1-79fffbc8dfff",
   "metadata": {},
   "outputs": [
    {
     "data": {
      "text/plain": [
       "(10410, 17)"
      ]
     },
     "execution_count": 21,
     "metadata": {},
     "output_type": "execute_result"
    }
   ],
   "source": [
    "# Tamanho\n",
    "df_tratado.shape"
   ]
  },
  {
   "cell_type": "code",
   "execution_count": 22,
   "id": "d2ec6428-df35-4b50-9f7e-fd2f4f31ac0e",
   "metadata": {},
   "outputs": [
    {
     "name": "stdout",
     "output_type": "stream",
     "text": [
      "<class 'pandas.core.frame.DataFrame'>\n",
      "Index: 10410 entries, 0 to 10414\n",
      "Data columns (total 17 columns):\n",
      " #   Column                          Non-Null Count  Dtype   \n",
      "---  ------                          --------------  -----   \n",
      " 0   TAXA_AO_ANO                     10410 non-null  float64 \n",
      " 1   CIDADE_CLIENTE                  10410 non-null  object  \n",
      " 2   ESTADO_CLIENTE                  10410 non-null  object  \n",
      " 3   RENDA_MENSAL_CLIENTE            10410 non-null  float64 \n",
      " 4   QT_PC_ATRASO                    10410 non-null  int64   \n",
      " 5   QT_DIAS_PRIM_PC_ATRASO          10410 non-null  int64   \n",
      " 6   QT_TOTAL_PC_PAGAS               10410 non-null  int64   \n",
      " 7   VL_TOTAL_PC_PAGAS               10410 non-null  float64 \n",
      " 8   QT_PC_PAGA_EM_DIA               10410 non-null  int64   \n",
      " 9   QT_DIAS_MIN_ATRASO              10410 non-null  int64   \n",
      " 10  QT_DIAS_MAX_ATRASO              10410 non-null  int64   \n",
      " 11  QT_DIAS_MEDIA_ATRASO            10410 non-null  int64   \n",
      " 12  VALOR_PARCELA                   10410 non-null  float64 \n",
      " 13  IDADE_DATA_ASSINATURA_CONTRATO  10410 non-null  float64 \n",
      " 14  FAIXA_VALOR_FINANCIADO          10410 non-null  category\n",
      " 15  FAIXA_PRAZO_FINANCIAMENTO       10410 non-null  category\n",
      " 16  INADIMPLENTE_COBRANCA           10410 non-null  object  \n",
      "dtypes: category(2), float64(5), int64(7), object(3)\n",
      "memory usage: 1.3+ MB\n"
     ]
    }
   ],
   "source": [
    "# Tipo dos dados\n",
    "df_tratado.info()"
   ]
  },
  {
   "cell_type": "code",
   "execution_count": 23,
   "id": "d9c51424-fe89-4303-a297-e231eff4f951",
   "metadata": {},
   "outputs": [
    {
     "data": {
      "text/plain": [
       "TAXA_AO_ANO                       0\n",
       "CIDADE_CLIENTE                    0\n",
       "ESTADO_CLIENTE                    0\n",
       "RENDA_MENSAL_CLIENTE              0\n",
       "QT_PC_ATRASO                      0\n",
       "QT_DIAS_PRIM_PC_ATRASO            0\n",
       "QT_TOTAL_PC_PAGAS                 0\n",
       "VL_TOTAL_PC_PAGAS                 0\n",
       "QT_PC_PAGA_EM_DIA                 0\n",
       "QT_DIAS_MIN_ATRASO                0\n",
       "QT_DIAS_MAX_ATRASO                0\n",
       "QT_DIAS_MEDIA_ATRASO              0\n",
       "VALOR_PARCELA                     0\n",
       "IDADE_DATA_ASSINATURA_CONTRATO    0\n",
       "FAIXA_VALOR_FINANCIADO            0\n",
       "FAIXA_PRAZO_FINANCIAMENTO         0\n",
       "INADIMPLENTE_COBRANCA             0\n",
       "dtype: int64"
      ]
     },
     "execution_count": 23,
     "metadata": {},
     "output_type": "execute_result"
    }
   ],
   "source": [
    "# Se há nulos\n",
    "df_tratado.isnull().sum()"
   ]
  },
  {
   "cell_type": "markdown",
   "id": "246e81cd-7bba-412b-adda-b4cb7c4d3eb0",
   "metadata": {},
   "source": [
    "### Análise Exploratória das Variáveis Categóricas\n",
    "Objetivos:\n",
    "* Entender a relação das variáveis categóricas com a variável target\n",
    "* Identificar que variáveis categóricas iremos manter ou descartar para nosso modelo"
   ]
  },
  {
   "cell_type": "code",
   "execution_count": 24,
   "id": "1b4a6a20-e4f7-44a8-b872-d030d9c44e96",
   "metadata": {},
   "outputs": [
    {
     "data": {
      "text/plain": [
       "<Axes: title={'center': 'Inadimplentes'}, xlabel='INADIMPLENTE_COBRANCA'>"
      ]
     },
     "execution_count": 24,
     "metadata": {},
     "output_type": "execute_result"
    },
    {
     "data": {
      "image/png": "[encoded data removed]",
      "text/plain": [
       "<Figure size 640x480 with 1 Axes>"
      ]
     },
     "metadata": {},
     "output_type": "display_data"
    }
   ],
   "source": [
    "# Análise visual da variável target (precisa de balanceamento)\n",
    "df_tratado.INADIMPLENTE_COBRANCA.value_counts().plot(kind='bar', title='Inadimplentes', color=['#1F77B4', '#FF7F0E'])"
   ]
  },
  {
   "cell_type": "code",
   "execution_count": 25,
   "id": "a0075fa8-8cd2-4950-b675-e0b9baa4f38d",
   "metadata": {},
   "outputs": [
    {
     "data": {
      "image/png": "[encoded data removed]",
      "text/plain": [
       "<Figure size 1400x350 with 1 Axes>"
      ]
     },
     "metadata": {},
     "output_type": "display_data"
    }
   ],
   "source": [
    "# Faixa de Valor Financiado x Inadimplência\n",
    "plt.rcParams['figure.figsize'] = [14.00, 3.50]\n",
    "plt.rcParams['figure.autolayout'] = True\n",
    "sns.countplot(data=df_tratado, x='FAIXA_VALOR_FINANCIADO', hue='INADIMPLENTE_COBRANCA')\n",
    "plt.show()"
   ]
  },
  {
   "cell_type": "code",
   "execution_count": 26,
   "id": "2ccdcda9-4554-4525-b3ae-48c6195f0c17",
   "metadata": {},
   "outputs": [
    {
     "data": {
      "image/png": "[encoded data removed]",
      "text/plain": [
       "<Figure size 1400x350 with 1 Axes>"
      ]
     },
     "metadata": {},
     "output_type": "display_data"
    }
   ],
   "source": [
    "# Faixa de Prazo do Financiamento x Inadimplência\n",
    "plt.rcParams['figure.figsize'] = [14.00, 3.50]\n",
    "plt.rcParams['figure.autolayout'] = True\n",
    "sns.countplot(data=df_tratado, x='FAIXA_PRAZO_FINANCIAMENTO', hue='INADIMPLENTE_COBRANCA')\n",
    "plt.show()"
   ]
  },
  {
   "cell_type": "markdown",
   "id": "fcf4a779-ab9a-492b-8de5-06cb431da001",
   "metadata": {},
   "source": [
    "### Análise Exploratória das Variáveis Numéricas\n",
    "Objetivos:\n",
    "* Entender a relação das variáveis numéricas com a variável target\n",
    "* Fazer uma análise estatística (média, moda, mediana, desvio padrão, identificação de outliers)"
   ]
  },
  {
   "cell_type": "code",
   "execution_count": 27,
   "id": "de95da2a-c7cb-4b6b-bbce-7bf049662d5c",
   "metadata": {},
   "outputs": [
    {
     "name": "stdout",
     "output_type": "stream",
     "text": [
      "<class 'pandas.core.frame.DataFrame'>\n",
      "Index: 10410 entries, 0 to 10414\n",
      "Data columns (total 17 columns):\n",
      " #   Column                          Non-Null Count  Dtype   \n",
      "---  ------                          --------------  -----   \n",
      " 0   TAXA_AO_ANO                     10410 non-null  float64 \n",
      " 1   CIDADE_CLIENTE                  10410 non-null  object  \n",
      " 2   ESTADO_CLIENTE                  10410 non-null  object  \n",
      " 3   RENDA_MENSAL_CLIENTE            10410 non-null  float64 \n",
      " 4   QT_PC_ATRASO                    10410 non-null  int64   \n",
      " 5   QT_DIAS_PRIM_PC_ATRASO          10410 non-null  int64   \n",
      " 6   QT_TOTAL_PC_PAGAS               10410 non-null  int64   \n",
      " 7   VL_TOTAL_PC_PAGAS               10410 non-null  float64 \n",
      " 8   QT_PC_PAGA_EM_DIA               10410 non-null  int64   \n",
      " 9   QT_DIAS_MIN_ATRASO              10410 non-null  int64   \n",
      " 10  QT_DIAS_MAX_ATRASO              10410 non-null  int64   \n",
      " 11  QT_DIAS_MEDIA_ATRASO            10410 non-null  int64   \n",
      " 12  VALOR_PARCELA                   10410 non-null  float64 \n",
      " 13  IDADE_DATA_ASSINATURA_CONTRATO  10410 non-null  float64 \n",
      " 14  FAIXA_VALOR_FINANCIADO          10410 non-null  category\n",
      " 15  FAIXA_PRAZO_FINANCIAMENTO       10410 non-null  category\n",
      " 16  INADIMPLENTE_COBRANCA           10410 non-null  object  \n",
      "dtypes: category(2), float64(5), int64(7), object(3)\n",
      "memory usage: 1.3+ MB\n"
     ]
    }
   ],
   "source": [
    "# Verificando o tipo\n",
    "df_tratado.info()"
   ]
  },
  {
   "cell_type": "code",
   "execution_count": 28,
   "id": "f4b398a0-4972-47e3-8225-dc39c9aa1a1a",
   "metadata": {},
   "outputs": [
    {
     "data": {
      "text/plain": [
       "['TAXA_AO_ANO',\n",
       " 'RENDA_MENSAL_CLIENTE',\n",
       " 'QT_PC_ATRASO',\n",
       " 'QT_DIAS_PRIM_PC_ATRASO',\n",
       " 'QT_TOTAL_PC_PAGAS',\n",
       " 'VL_TOTAL_PC_PAGAS',\n",
       " 'QT_PC_PAGA_EM_DIA',\n",
       " 'QT_DIAS_MIN_ATRASO',\n",
       " 'QT_DIAS_MAX_ATRASO',\n",
       " 'QT_DIAS_MEDIA_ATRASO',\n",
       " 'VALOR_PARCELA',\n",
       " 'IDADE_DATA_ASSINATURA_CONTRATO']"
      ]
     },
     "execution_count": 28,
     "metadata": {},
     "output_type": "execute_result"
    }
   ],
   "source": [
    "# Gerando lista com as variáveis\n",
    "var_numericas = []\n",
    "for i in df_tratado.columns[0:17].tolist():\n",
    "    if df_tratado.dtypes[i] == 'int64' or df_tratado.dtypes[i] == 'float64':\n",
    "        var_numericas.append(i)\n",
    "\n",
    "# Visualizando as variáveis numéricas\n",
    "var_numericas"
   ]
  },
  {
   "cell_type": "code",
   "execution_count": 29,
   "id": "a22cc9ac-3e51-42fb-8763-4f72d825e658",
   "metadata": {},
   "outputs": [
    {
     "data": {
      "image/png": "[encoded data removed]",
      "text/plain": [
       "<Figure size 1400x1400 with 12 Axes>"
      ]
     },
     "metadata": {},
     "output_type": "display_data"
    }
   ],
   "source": [
    "# Gerando boxplot\n",
    "# Dado o contexto dos dados, não há outliers nas variáveis numéricas. Elas apresentam sim extremos, mas estão de acordo com o contexto.\n",
    "plt.rcParams['figure.figsize'] = [14.00, 14.00]\n",
    "plt.rcParams['figure.autolayout'] = True\n",
    "f, axes = plt.subplots(4,3)\n",
    "\n",
    "linha = 0\n",
    "coluna = 0\n",
    "for i in var_numericas:\n",
    "    sns.boxplot(data = df_tratado, y=i, ax=axes[linha][coluna])\n",
    "    coluna +=1\n",
    "    if coluna == 3:\n",
    "        linha +=1\n",
    "        coluna = 0\n",
    "\n",
    "plt.show()"
   ]
  },
  {
   "cell_type": "markdown",
   "id": "85d92196-4db6-4b92-ad6c-3cd1c631c451",
   "metadata": {},
   "source": [
    "### Convertendo as variáveis categóricas para variáveis numéricas"
   ]
  },
  {
   "cell_type": "code",
   "execution_count": 30,
   "id": "ac607f39-fe36-4e6f-8179-e26e14216a75",
   "metadata": {},
   "outputs": [],
   "source": [
    "# Carregando as variáveis categóricas para OneHotEncoding (exceto a variável target)\n",
    "var_categoricas = []\n",
    "for i in df_tratado.columns[0:16].tolist():\n",
    "    if df_tratado.dtypes[i] == 'object' or df_tratado.dtypes[i] == 'category':\n",
    "        var_categoricas.append(i)"
   ]
  },
  {
   "cell_type": "code",
   "execution_count": 31,
   "id": "8a528925-ef69-4174-8537-01b268096093",
   "metadata": {},
   "outputs": [
    {
     "data": {
      "text/plain": [
       "['CIDADE_CLIENTE',\n",
       " 'ESTADO_CLIENTE',\n",
       " 'FAIXA_VALOR_FINANCIADO',\n",
       " 'FAIXA_PRAZO_FINANCIAMENTO']"
      ]
     },
     "execution_count": 31,
     "metadata": {},
     "output_type": "execute_result"
    }
   ],
   "source": [
    "# Visualizando variáveis\n",
    "var_categoricas"
   ]
  },
  {
   "cell_type": "code",
   "execution_count": 32,
   "id": "4f26a213-bea0-414e-8215-7817a5e6a4ed",
   "metadata": {},
   "outputs": [],
   "source": [
    "# Criando o encoder e aplicando o OneHotEncoder\n",
    "lb = LabelEncoder()\n",
    "\n",
    "for var in var_categoricas:\n",
    "    df_tratado[var] = lb.fit_transform(df_tratado[var])"
   ]
  },
  {
   "cell_type": "code",
   "execution_count": 33,
   "id": "c1b8c64f-e60e-4be0-b8c4-287190fbcfb7",
   "metadata": {},
   "outputs": [
    {
     "data": {
      "text/html": [
       "<div>\n",
       "<style scoped>\n",
       "    .dataframe tbody tr th:only-of-type {\n",
       "        vertical-align: middle;\n",
       "    }\n",
       "\n",
       "    .dataframe tbody tr th {\n",
       "        vertical-align: top;\n",
       "    }\n",
       "\n",
       "    .dataframe thead th {\n",
       "        text-align: right;\n",
       "    }\n",
       "</style>\n",
       "<table border=\"1\" class=\"dataframe\">\n",
       "  <thead>\n",
       "    <tr style=\"text-align: right;\">\n",
       "      <th></th>\n",
       "      <th>TAXA_AO_ANO</th>\n",
       "      <th>CIDADE_CLIENTE</th>\n",
       "      <th>ESTADO_CLIENTE</th>\n",
       "      <th>RENDA_MENSAL_CLIENTE</th>\n",
       "      <th>QT_PC_ATRASO</th>\n",
       "      <th>QT_DIAS_PRIM_PC_ATRASO</th>\n",
       "      <th>QT_TOTAL_PC_PAGAS</th>\n",
       "      <th>VL_TOTAL_PC_PAGAS</th>\n",
       "      <th>QT_PC_PAGA_EM_DIA</th>\n",
       "      <th>QT_DIAS_MIN_ATRASO</th>\n",
       "      <th>QT_DIAS_MAX_ATRASO</th>\n",
       "      <th>QT_DIAS_MEDIA_ATRASO</th>\n",
       "      <th>VALOR_PARCELA</th>\n",
       "      <th>IDADE_DATA_ASSINATURA_CONTRATO</th>\n",
       "      <th>FAIXA_VALOR_FINANCIADO</th>\n",
       "      <th>FAIXA_PRAZO_FINANCIAMENTO</th>\n",
       "      <th>INADIMPLENTE_COBRANCA</th>\n",
       "    </tr>\n",
       "  </thead>\n",
       "  <tbody>\n",
       "    <tr>\n",
       "      <th>0</th>\n",
       "      <td>15.0</td>\n",
       "      <td>152</td>\n",
       "      <td>5</td>\n",
       "      <td>4800.0</td>\n",
       "      <td>0</td>\n",
       "      <td>0</td>\n",
       "      <td>97</td>\n",
       "      <td>120078.00</td>\n",
       "      <td>72</td>\n",
       "      <td>3</td>\n",
       "      <td>506</td>\n",
       "      <td>152</td>\n",
       "      <td>471.29</td>\n",
       "      <td>70.0</td>\n",
       "      <td>7</td>\n",
       "      <td>0</td>\n",
       "      <td>SIM</td>\n",
       "    </tr>\n",
       "    <tr>\n",
       "      <th>1</th>\n",
       "      <td>15.0</td>\n",
       "      <td>453</td>\n",
       "      <td>25</td>\n",
       "      <td>6800.0</td>\n",
       "      <td>0</td>\n",
       "      <td>0</td>\n",
       "      <td>103</td>\n",
       "      <td>156759.47</td>\n",
       "      <td>42</td>\n",
       "      <td>1</td>\n",
       "      <td>349</td>\n",
       "      <td>93</td>\n",
       "      <td>1858.69</td>\n",
       "      <td>28.0</td>\n",
       "      <td>2</td>\n",
       "      <td>1</td>\n",
       "      <td>SIM</td>\n",
       "    </tr>\n",
       "    <tr>\n",
       "      <th>2</th>\n",
       "      <td>18.0</td>\n",
       "      <td>453</td>\n",
       "      <td>25</td>\n",
       "      <td>6800.0</td>\n",
       "      <td>0</td>\n",
       "      <td>0</td>\n",
       "      <td>98</td>\n",
       "      <td>277125.05</td>\n",
       "      <td>83</td>\n",
       "      <td>1</td>\n",
       "      <td>151</td>\n",
       "      <td>39</td>\n",
       "      <td>3123.57</td>\n",
       "      <td>60.0</td>\n",
       "      <td>4</td>\n",
       "      <td>1</td>\n",
       "      <td>SIM</td>\n",
       "    </tr>\n",
       "    <tr>\n",
       "      <th>3</th>\n",
       "      <td>15.0</td>\n",
       "      <td>453</td>\n",
       "      <td>25</td>\n",
       "      <td>6800.0</td>\n",
       "      <td>0</td>\n",
       "      <td>0</td>\n",
       "      <td>87</td>\n",
       "      <td>351395.19</td>\n",
       "      <td>66</td>\n",
       "      <td>1</td>\n",
       "      <td>3797</td>\n",
       "      <td>206</td>\n",
       "      <td>2873.58</td>\n",
       "      <td>41.0</td>\n",
       "      <td>3</td>\n",
       "      <td>1</td>\n",
       "      <td>SIM</td>\n",
       "    </tr>\n",
       "    <tr>\n",
       "      <th>4</th>\n",
       "      <td>17.0</td>\n",
       "      <td>453</td>\n",
       "      <td>25</td>\n",
       "      <td>6800.0</td>\n",
       "      <td>0</td>\n",
       "      <td>0</td>\n",
       "      <td>71</td>\n",
       "      <td>344249.83</td>\n",
       "      <td>57</td>\n",
       "      <td>1</td>\n",
       "      <td>36</td>\n",
       "      <td>10</td>\n",
       "      <td>4224.03</td>\n",
       "      <td>63.0</td>\n",
       "      <td>4</td>\n",
       "      <td>1</td>\n",
       "      <td>SIM</td>\n",
       "    </tr>\n",
       "  </tbody>\n",
       "</table>\n",
       "</div>"
      ],
      "text/plain": [
       "   TAXA_AO_ANO  CIDADE_CLIENTE  ESTADO_CLIENTE  RENDA_MENSAL_CLIENTE  \\\n",
       "0         15.0             152               5                4800.0   \n",
       "1         15.0             453              25                6800.0   \n",
       "2         18.0             453              25                6800.0   \n",
       "3         15.0             453              25                6800.0   \n",
       "4         17.0             453              25                6800.0   \n",
       "\n",
       "   QT_PC_ATRASO  QT_DIAS_PRIM_PC_ATRASO  QT_TOTAL_PC_PAGAS  VL_TOTAL_PC_PAGAS  \\\n",
       "0             0                       0                 97          120078.00   \n",
       "1             0                       0                103          156759.47   \n",
       "2             0                       0                 98          277125.05   \n",
       "3             0                       0                 87          351395.19   \n",
       "4             0                       0                 71          344249.83   \n",
       "\n",
       "   QT_PC_PAGA_EM_DIA  QT_DIAS_MIN_ATRASO  QT_DIAS_MAX_ATRASO  \\\n",
       "0                 72                   3                 506   \n",
       "1                 42                   1                 349   \n",
       "2                 83                   1                 151   \n",
       "3                 66                   1                3797   \n",
       "4                 57                   1                  36   \n",
       "\n",
       "   QT_DIAS_MEDIA_ATRASO  VALOR_PARCELA  IDADE_DATA_ASSINATURA_CONTRATO  \\\n",
       "0                   152         471.29                            70.0   \n",
       "1                    93        1858.69                            28.0   \n",
       "2                    39        3123.57                            60.0   \n",
       "3                   206        2873.58                            41.0   \n",
       "4                    10        4224.03                            63.0   \n",
       "\n",
       "   FAIXA_VALOR_FINANCIADO  FAIXA_PRAZO_FINANCIAMENTO INADIMPLENTE_COBRANCA  \n",
       "0                       7                          0                   SIM  \n",
       "1                       2                          1                   SIM  \n",
       "2                       4                          1                   SIM  \n",
       "3                       3                          1                   SIM  \n",
       "4                       4                          1                   SIM  "
      ]
     },
     "execution_count": 33,
     "metadata": {},
     "output_type": "execute_result"
    }
   ],
   "source": [
    "# Visualizando dados\n",
    "df_tratado.head()"
   ]
  },
  {
   "cell_type": "code",
   "execution_count": 34,
   "id": "b375625d-383e-4aed-b571-28683090d31e",
   "metadata": {},
   "outputs": [
    {
     "name": "stdout",
     "output_type": "stream",
     "text": [
      "<class 'pandas.core.frame.DataFrame'>\n",
      "Index: 10410 entries, 0 to 10414\n",
      "Data columns (total 17 columns):\n",
      " #   Column                          Non-Null Count  Dtype  \n",
      "---  ------                          --------------  -----  \n",
      " 0   TAXA_AO_ANO                     10410 non-null  float64\n",
      " 1   CIDADE_CLIENTE                  10410 non-null  int32  \n",
      " 2   ESTADO_CLIENTE                  10410 non-null  int32  \n",
      " 3   RENDA_MENSAL_CLIENTE            10410 non-null  float64\n",
      " 4   QT_PC_ATRASO                    10410 non-null  int64  \n",
      " 5   QT_DIAS_PRIM_PC_ATRASO          10410 non-null  int64  \n",
      " 6   QT_TOTAL_PC_PAGAS               10410 non-null  int64  \n",
      " 7   VL_TOTAL_PC_PAGAS               10410 non-null  float64\n",
      " 8   QT_PC_PAGA_EM_DIA               10410 non-null  int64  \n",
      " 9   QT_DIAS_MIN_ATRASO              10410 non-null  int64  \n",
      " 10  QT_DIAS_MAX_ATRASO              10410 non-null  int64  \n",
      " 11  QT_DIAS_MEDIA_ATRASO            10410 non-null  int64  \n",
      " 12  VALOR_PARCELA                   10410 non-null  float64\n",
      " 13  IDADE_DATA_ASSINATURA_CONTRATO  10410 non-null  float64\n",
      " 14  FAIXA_VALOR_FINANCIADO          10410 non-null  int32  \n",
      " 15  FAIXA_PRAZO_FINANCIAMENTO       10410 non-null  int32  \n",
      " 16  INADIMPLENTE_COBRANCA           10410 non-null  object \n",
      "dtypes: float64(5), int32(4), int64(7), object(1)\n",
      "memory usage: 1.3+ MB\n"
     ]
    }
   ],
   "source": [
    "# Verificando tipos\n",
    "df_tratado.info()"
   ]
  },
  {
   "cell_type": "markdown",
   "id": "1adbed52-112e-487e-8909-22093bf94cbd",
   "metadata": {},
   "source": [
    "### Separando variáveis em preditoras e target"
   ]
  },
  {
   "cell_type": "code",
   "execution_count": 35,
   "id": "47219c06-ea3e-470a-ba57-b4185d584c14",
   "metadata": {},
   "outputs": [
    {
     "data": {
      "text/plain": [
       "INADIMPLENTE_COBRANCA\n",
       "SIM    8035\n",
       "NAO    2375\n",
       "Name: count, dtype: int64"
      ]
     },
     "execution_count": 35,
     "metadata": {},
     "output_type": "execute_result"
    }
   ],
   "source": [
    "# Visualizando a variável target para balanceamento\n",
    "var_target = df_tratado.INADIMPLENTE_COBRANCA.value_counts()\n",
    "var_target"
   ]
  },
  {
   "cell_type": "code",
   "execution_count": 36,
   "id": "27e8adc2-bacf-4f0d-bc3e-00779e0b606c",
   "metadata": {},
   "outputs": [],
   "source": [
    "# Separar variáveis preditoras e target\n",
    "PREDITORAS = df_tratado.iloc[:, 0:15]\n",
    "TARGET = df_tratado.iloc[:, 16]"
   ]
  },
  {
   "cell_type": "code",
   "execution_count": 37,
   "id": "8c9e9069-5f84-450a-9c66-f4abffde4cfe",
   "metadata": {},
   "outputs": [
    {
     "data": {
      "text/html": [
       "<div>\n",
       "<style scoped>\n",
       "    .dataframe tbody tr th:only-of-type {\n",
       "        vertical-align: middle;\n",
       "    }\n",
       "\n",
       "    .dataframe tbody tr th {\n",
       "        vertical-align: top;\n",
       "    }\n",
       "\n",
       "    .dataframe thead th {\n",
       "        text-align: right;\n",
       "    }\n",
       "</style>\n",
       "<table border=\"1\" class=\"dataframe\">\n",
       "  <thead>\n",
       "    <tr style=\"text-align: right;\">\n",
       "      <th></th>\n",
       "      <th>TAXA_AO_ANO</th>\n",
       "      <th>CIDADE_CLIENTE</th>\n",
       "      <th>ESTADO_CLIENTE</th>\n",
       "      <th>RENDA_MENSAL_CLIENTE</th>\n",
       "      <th>QT_PC_ATRASO</th>\n",
       "      <th>QT_DIAS_PRIM_PC_ATRASO</th>\n",
       "      <th>QT_TOTAL_PC_PAGAS</th>\n",
       "      <th>VL_TOTAL_PC_PAGAS</th>\n",
       "      <th>QT_PC_PAGA_EM_DIA</th>\n",
       "      <th>QT_DIAS_MIN_ATRASO</th>\n",
       "      <th>QT_DIAS_MAX_ATRASO</th>\n",
       "      <th>QT_DIAS_MEDIA_ATRASO</th>\n",
       "      <th>VALOR_PARCELA</th>\n",
       "      <th>IDADE_DATA_ASSINATURA_CONTRATO</th>\n",
       "      <th>FAIXA_VALOR_FINANCIADO</th>\n",
       "    </tr>\n",
       "  </thead>\n",
       "  <tbody>\n",
       "    <tr>\n",
       "      <th>0</th>\n",
       "      <td>15.0</td>\n",
       "      <td>152</td>\n",
       "      <td>5</td>\n",
       "      <td>4800.0</td>\n",
       "      <td>0</td>\n",
       "      <td>0</td>\n",
       "      <td>97</td>\n",
       "      <td>120078.00</td>\n",
       "      <td>72</td>\n",
       "      <td>3</td>\n",
       "      <td>506</td>\n",
       "      <td>152</td>\n",
       "      <td>471.29</td>\n",
       "      <td>70.0</td>\n",
       "      <td>7</td>\n",
       "    </tr>\n",
       "    <tr>\n",
       "      <th>1</th>\n",
       "      <td>15.0</td>\n",
       "      <td>453</td>\n",
       "      <td>25</td>\n",
       "      <td>6800.0</td>\n",
       "      <td>0</td>\n",
       "      <td>0</td>\n",
       "      <td>103</td>\n",
       "      <td>156759.47</td>\n",
       "      <td>42</td>\n",
       "      <td>1</td>\n",
       "      <td>349</td>\n",
       "      <td>93</td>\n",
       "      <td>1858.69</td>\n",
       "      <td>28.0</td>\n",
       "      <td>2</td>\n",
       "    </tr>\n",
       "    <tr>\n",
       "      <th>2</th>\n",
       "      <td>18.0</td>\n",
       "      <td>453</td>\n",
       "      <td>25</td>\n",
       "      <td>6800.0</td>\n",
       "      <td>0</td>\n",
       "      <td>0</td>\n",
       "      <td>98</td>\n",
       "      <td>277125.05</td>\n",
       "      <td>83</td>\n",
       "      <td>1</td>\n",
       "      <td>151</td>\n",
       "      <td>39</td>\n",
       "      <td>3123.57</td>\n",
       "      <td>60.0</td>\n",
       "      <td>4</td>\n",
       "    </tr>\n",
       "    <tr>\n",
       "      <th>3</th>\n",
       "      <td>15.0</td>\n",
       "      <td>453</td>\n",
       "      <td>25</td>\n",
       "      <td>6800.0</td>\n",
       "      <td>0</td>\n",
       "      <td>0</td>\n",
       "      <td>87</td>\n",
       "      <td>351395.19</td>\n",
       "      <td>66</td>\n",
       "      <td>1</td>\n",
       "      <td>3797</td>\n",
       "      <td>206</td>\n",
       "      <td>2873.58</td>\n",
       "      <td>41.0</td>\n",
       "      <td>3</td>\n",
       "    </tr>\n",
       "    <tr>\n",
       "      <th>4</th>\n",
       "      <td>17.0</td>\n",
       "      <td>453</td>\n",
       "      <td>25</td>\n",
       "      <td>6800.0</td>\n",
       "      <td>0</td>\n",
       "      <td>0</td>\n",
       "      <td>71</td>\n",
       "      <td>344249.83</td>\n",
       "      <td>57</td>\n",
       "      <td>1</td>\n",
       "      <td>36</td>\n",
       "      <td>10</td>\n",
       "      <td>4224.03</td>\n",
       "      <td>63.0</td>\n",
       "      <td>4</td>\n",
       "    </tr>\n",
       "  </tbody>\n",
       "</table>\n",
       "</div>"
      ],
      "text/plain": [
       "   TAXA_AO_ANO  CIDADE_CLIENTE  ESTADO_CLIENTE  RENDA_MENSAL_CLIENTE  \\\n",
       "0         15.0             152               5                4800.0   \n",
       "1         15.0             453              25                6800.0   \n",
       "2         18.0             453              25                6800.0   \n",
       "3         15.0             453              25                6800.0   \n",
       "4         17.0             453              25                6800.0   \n",
       "\n",
       "   QT_PC_ATRASO  QT_DIAS_PRIM_PC_ATRASO  QT_TOTAL_PC_PAGAS  VL_TOTAL_PC_PAGAS  \\\n",
       "0             0                       0                 97          120078.00   \n",
       "1             0                       0                103          156759.47   \n",
       "2             0                       0                 98          277125.05   \n",
       "3             0                       0                 87          351395.19   \n",
       "4             0                       0                 71          344249.83   \n",
       "\n",
       "   QT_PC_PAGA_EM_DIA  QT_DIAS_MIN_ATRASO  QT_DIAS_MAX_ATRASO  \\\n",
       "0                 72                   3                 506   \n",
       "1                 42                   1                 349   \n",
       "2                 83                   1                 151   \n",
       "3                 66                   1                3797   \n",
       "4                 57                   1                  36   \n",
       "\n",
       "   QT_DIAS_MEDIA_ATRASO  VALOR_PARCELA  IDADE_DATA_ASSINATURA_CONTRATO  \\\n",
       "0                   152         471.29                            70.0   \n",
       "1                    93        1858.69                            28.0   \n",
       "2                    39        3123.57                            60.0   \n",
       "3                   206        2873.58                            41.0   \n",
       "4                    10        4224.03                            63.0   \n",
       "\n",
       "   FAIXA_VALOR_FINANCIADO  \n",
       "0                       7  \n",
       "1                       2  \n",
       "2                       4  \n",
       "3                       3  \n",
       "4                       4  "
      ]
     },
     "execution_count": 37,
     "metadata": {},
     "output_type": "execute_result"
    }
   ],
   "source": [
    "# Visualizando as variáveis preditoras\n",
    "PREDITORAS.head()"
   ]
  },
  {
   "cell_type": "code",
   "execution_count": 38,
   "id": "46ae27b7-6bf5-4ced-99d4-93278871a21a",
   "metadata": {},
   "outputs": [
    {
     "data": {
      "text/plain": [
       "0    SIM\n",
       "1    SIM\n",
       "2    SIM\n",
       "3    SIM\n",
       "4    SIM\n",
       "Name: INADIMPLENTE_COBRANCA, dtype: object"
      ]
     },
     "execution_count": 38,
     "metadata": {},
     "output_type": "execute_result"
    }
   ],
   "source": [
    "# Visualizando a variável target\n",
    "TARGET.head()"
   ]
  },
  {
   "cell_type": "markdown",
   "id": "42f9223f-d74d-4a66-add6-031df318511f",
   "metadata": {},
   "source": [
    "### Balanceamento das Variáveis"
   ]
  },
  {
   "cell_type": "code",
   "execution_count": 39,
   "id": "204cd341-1531-44ce-ba7d-5db834c74915",
   "metadata": {},
   "outputs": [],
   "source": [
    "# Para reproduzir o mesmo resultado\n",
    "seed = 100\n",
    "\n",
    "# Criando o balanceador SMOTE\n",
    "balanceador = SMOTE(random_state = seed)\n",
    "\n",
    "# Aplicando o balanceador\n",
    "PREDITORA_RES, TARGET_RES = balanceador.fit_resample(PREDITORAS, TARGET)"
   ]
  },
  {
   "cell_type": "code",
   "execution_count": 40,
   "id": "26c4e7f8-320d-4608-ad16-6cc899c2e068",
   "metadata": {},
   "outputs": [
    {
     "data": {
      "text/plain": [
       "<Axes: title={'center': 'Inadimplentes X Não Inadimplentes'}, xlabel='INADIMPLENTE_COBRANCA'>"
      ]
     },
     "execution_count": 40,
     "metadata": {},
     "output_type": "execute_result"
    },
    {
     "data": {
      "image/png": "[encoded data removed]",
      "text/plain": [
       "<Figure size 600x300 with 1 Axes>"
      ]
     },
     "metadata": {},
     "output_type": "display_data"
    }
   ],
   "source": [
    "# Visualizando o balanceamento da target\n",
    "plt.rcParams['figure.figsize'] = [6.00, 3.00]\n",
    "plt.rcParams['figure.autolayout'] = True\n",
    "TARGET_RES.value_counts().plot(kind='bar', title='Inadimplentes X Não Inadimplentes', color=['#1F77B4', '#FF7F0E'])"
   ]
  },
  {
   "cell_type": "code",
   "execution_count": 41,
   "id": "0590ff58-c61d-4fa5-9ea7-8fa8f5590fa1",
   "metadata": {},
   "outputs": [
    {
     "data": {
      "text/plain": [
       "(10410, 15)"
      ]
     },
     "execution_count": 41,
     "metadata": {},
     "output_type": "execute_result"
    }
   ],
   "source": [
    "# Preditoras antes do balanceamento\n",
    "PREDITORAS.shape"
   ]
  },
  {
   "cell_type": "code",
   "execution_count": 42,
   "id": "2a404b09-69ed-480f-877f-6f142b479dcf",
   "metadata": {},
   "outputs": [
    {
     "data": {
      "text/plain": [
       "(10410,)"
      ]
     },
     "execution_count": 42,
     "metadata": {},
     "output_type": "execute_result"
    }
   ],
   "source": [
    "# Target antes do balanceamento\n",
    "TARGET.shape"
   ]
  },
  {
   "cell_type": "code",
   "execution_count": 43,
   "id": "336eca0b-62aa-4c15-8a3b-d14173c14cdc",
   "metadata": {},
   "outputs": [
    {
     "data": {
      "text/plain": [
       "(16070, 15)"
      ]
     },
     "execution_count": 43,
     "metadata": {},
     "output_type": "execute_result"
    }
   ],
   "source": [
    "# Preditoras depois do balanceamento\n",
    "PREDITORA_RES.shape"
   ]
  },
  {
   "cell_type": "code",
   "execution_count": 44,
   "id": "bd515f6b-80bc-4fb1-8a06-81d0a023f758",
   "metadata": {},
   "outputs": [
    {
     "data": {
      "text/plain": [
       "(16070,)"
      ]
     },
     "execution_count": 44,
     "metadata": {},
     "output_type": "execute_result"
    }
   ],
   "source": [
    "# Target depois do balanceamento\n",
    "TARGET_RES.shape"
   ]
  },
  {
   "cell_type": "code",
   "execution_count": 45,
   "id": "53a33d19-8412-46fd-963a-200c49afb223",
   "metadata": {},
   "outputs": [],
   "source": [
    "# Divisão dos dados em treino e teste\n",
    "X_treino, X_teste, Y_treino, Y_teste = train_test_split(PREDITORA_RES, TARGET_RES, test_size=0.3, random_state=42)"
   ]
  },
  {
   "cell_type": "markdown",
   "id": "fe4a9015-8c44-4ab4-a74d-a1bac57abae8",
   "metadata": {},
   "source": [
    "### Normalização das Variáveis"
   ]
  },
  {
   "cell_type": "code",
   "execution_count": 46,
   "id": "a207fc3f-b2c2-4e6f-9523-1310807d95df",
   "metadata": {},
   "outputs": [],
   "source": [
    "# Normalizando as variáveis\n",
    "normalizador = MinMaxScaler()\n",
    "X_treino_normalizado = normalizador.fit_transform(X_treino)\n",
    "X_teste_normalizado = normalizador.transform(X_teste)"
   ]
  },
  {
   "cell_type": "code",
   "execution_count": 47,
   "id": "5a18b1f9-4a29-4005-b9b6-0d62cb61bb66",
   "metadata": {},
   "outputs": [
    {
     "data": {
      "text/plain": [
       "array([[0.45945946, 0.03816794, 0.15384615, ..., 0.50322829, 0.22033898,\n",
       "        0.57142857],\n",
       "       [0.66904491, 0.12977099, 0.23076923, ..., 0.40839172, 0.41221454,\n",
       "        0.42857143],\n",
       "       [0.59459459, 0.3110687 , 0.30769231, ..., 0.03970892, 0.25423729,\n",
       "        0.        ],\n",
       "       ...,\n",
       "       [0.10810811, 0.3110687 , 0.30769231, ..., 0.16001324, 0.34745763,\n",
       "        0.        ],\n",
       "       [0.64864865, 0.86450382, 0.96153846, ..., 0.23265885, 0.44444926,\n",
       "        0.14285714],\n",
       "       [0.42432432, 0.10305344, 0.38461538, ..., 0.03852714, 0.3559322 ,\n",
       "        0.        ]])"
      ]
     },
     "execution_count": 47,
     "metadata": {},
     "output_type": "execute_result"
    }
   ],
   "source": [
    "# Visualizando os dados de treino normalizados\n",
    "X_treino_normalizado"
   ]
  },
  {
   "cell_type": "code",
   "execution_count": 48,
   "id": "ff22c371-de86-4423-8fbd-338ba9c9de82",
   "metadata": {},
   "outputs": [
    {
     "data": {
      "text/plain": [
       "(11249, 15)"
      ]
     },
     "execution_count": 48,
     "metadata": {},
     "output_type": "execute_result"
    }
   ],
   "source": [
    "# Visualizando a dimensão dos dados de treino normalizados\n",
    "X_treino_normalizado.shape"
   ]
  },
  {
   "cell_type": "markdown",
   "id": "5a1f9ca3-14e1-4963-8891-b4498b56c811",
   "metadata": {},
   "source": [
    "### Criando e Treinando o Modelo Preditivo"
   ]
  },
  {
   "cell_type": "code",
   "execution_count": 49,
   "id": "a5c88064-ce57-4a30-af80-9dbe8ea656b0",
   "metadata": {},
   "outputs": [],
   "source": [
    "# Criando o classificador com Random Forest\n",
    "clf = RandomForestClassifier(n_estimators=300)\n",
    "\n",
    "# Construção do modelo\n",
    "clf = clf.fit(X_treino_normalizado, Y_treino)"
   ]
  },
  {
   "cell_type": "code",
   "execution_count": 50,
   "id": "c80f1597-e639-4ea3-a018-15cb74daf97e",
   "metadata": {},
   "outputs": [
    {
     "data": {
      "text/plain": [
       "0.9197261978842564"
      ]
     },
     "execution_count": 50,
     "metadata": {},
     "output_type": "execute_result"
    }
   ],
   "source": [
    "# Verificando a acurácia do modelo com dados de teste\n",
    "scores = clf.score(X_teste_normalizado, Y_teste)\n",
    "scores"
   ]
  },
  {
   "cell_type": "code",
   "execution_count": 51,
   "id": "c94b774d-9ee2-4ac2-b1d2-482bf77c2b5a",
   "metadata": {},
   "outputs": [
    {
     "data": {
      "image/png": "[encoded data removed]",
      "text/plain": [
       "<Figure size 600x600 with 1 Axes>"
      ]
     },
     "metadata": {},
     "output_type": "display_data"
    }
   ],
   "source": [
    "# Exibindo a importância de cada variável no modelo preditivo\n",
    "plt.rcParams['figure.figsize'] = [6.00, 6.00]\n",
    "plt.rcParams['figure.autolayout'] = True\n",
    "\n",
    "importances = pd.Series(data=clf.feature_importances_, index=PREDITORAS.columns)\n",
    "importances = importances.sort_values(ascending=False)\n",
    "sns.barplot(x=importances, y=importances.index, orient='h').set_title('Importância de cada variável')\n",
    "\n",
    "plt.show()"
   ]
  },
  {
   "cell_type": "code",
   "execution_count": 52,
   "id": "b4c14f55-7b6a-4301-92c7-b5faaa020db4",
   "metadata": {},
   "outputs": [
    {
     "data": {
      "text/plain": [
       "QT_PC_ATRASO                      0.131067\n",
       "QT_DIAS_PRIM_PC_ATRASO            0.125604\n",
       "VL_TOTAL_PC_PAGAS                 0.113596\n",
       "VALOR_PARCELA                     0.098095\n",
       "QT_TOTAL_PC_PAGAS                 0.085918\n",
       "RENDA_MENSAL_CLIENTE              0.071798\n",
       "QT_PC_PAGA_EM_DIA                 0.067060\n",
       "TAXA_AO_ANO                       0.063669\n",
       "IDADE_DATA_ASSINATURA_CONTRATO    0.050829\n",
       "QT_DIAS_MAX_ATRASO                0.039761\n",
       "QT_DIAS_MEDIA_ATRASO              0.033362\n",
       "QT_DIAS_MIN_ATRASO                0.031970\n",
       "CIDADE_CLIENTE                    0.031863\n",
       "FAIXA_VALOR_FINANCIADO            0.030442\n",
       "ESTADO_CLIENTE                    0.024968\n",
       "dtype: float64"
      ]
     },
     "execution_count": 52,
     "metadata": {},
     "output_type": "execute_result"
    }
   ],
   "source": [
    "importances.sort_values(ascending=False)"
   ]
  },
  {
   "cell_type": "code",
   "execution_count": 53,
   "id": "40e21730-e2dd-4cd0-b244-a6a733fc23b5",
   "metadata": {},
   "outputs": [
    {
     "data": {
      "text/plain": [
       "['modelo_treinado.pk']"
      ]
     },
     "execution_count": 53,
     "metadata": {},
     "output_type": "execute_result"
    }
   ],
   "source": [
    "# Salvando o modelo criado e treinado\n",
    "joblib.dump(clf, 'modelo_treinado.pk')"
   ]
  },
  {
   "cell_type": "code",
   "execution_count": null,
   "id": "7bce5b04-87a3-431a-90cb-9d4a12944d70",
   "metadata": {},
   "outputs": [],
   "source": []
  }
 ],
 "metadata": {
  "kernelspec": {
   "display_name": "Python 3 (ipykernel)",
   "language": "python",
   "name": "python3"
  },
  "language_info": {
   "codemirror_mode": {
    "name": "ipython",
    "version": 3
   },
   "file_extension": ".py",
   "mimetype": "text/x-python",
   "name": "python",
   "nbconvert_exporter": "python",
   "pygments_lexer": "ipython3",
   "version": "3.12.7"
  }
 },
 "nbformat": 4,
 "nbformat_minor": 5
}
